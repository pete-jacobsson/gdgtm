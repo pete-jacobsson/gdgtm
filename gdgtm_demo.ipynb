{
 "cells": [
  {
   "cell_type": "markdown",
   "id": "189cabac",
   "metadata": {},
   "source": [
    "## Introduction\n",
    "This notebook demoes the gdgtm workflow, from gathering a collection of rasters, through their alignment and matching.\n",
    "\n",
    "In the course of the demo we will:\n",
    "1. Download a Raster from Chelsa and set it up as our Master Geotiff.\n",
    "2. Download multiple rasters from OSM data sets\n",
    "3. Align those rasters with the Chelsa data"
   ]
  },
  {
   "cell_type": "code",
   "execution_count": 1,
   "id": "97726dcf",
   "metadata": {},
   "outputs": [
    {
     "name": "stderr",
     "output_type": "stream",
     "text": [
      "/home/pete/.local/lib/python3.10/site-packages/matplotlib/projections/__init__.py:63: UserWarning: Unable to import Axes3D. This may be due to multiple versions of Matplotlib being installed (e.g. as a system package and as a pip package). As a result, the 3D projection is not available.\n",
      "  warnings.warn(\"Unable to import Axes3D. This may be due to multiple versions of \"\n"
     ]
    }
   ],
   "source": [
    "import gdgtm\n",
    "import rasterio\n",
    "import matplotlib.pyplot as plt"
   ]
  },
  {
   "cell_type": "markdown",
   "id": "251596db",
   "metadata": {},
   "source": [
    "### Get a raster from Chelsa and transform it"
   ]
  },
  {
   "cell_type": "code",
   "execution_count": null,
   "id": "d2f9acfa",
   "metadata": {},
   "outputs": [],
   "source": [
    "#### "
   ]
  },
  {
   "cell_type": "code",
   "execution_count": null,
   "id": "228d2676",
   "metadata": {},
   "outputs": [],
   "source": []
  }
 ],
 "metadata": {
  "kernelspec": {
   "display_name": "Python 3 (ipykernel)",
   "language": "python",
   "name": "python3"
  },
  "language_info": {
   "codemirror_mode": {
    "name": "ipython",
    "version": 3
   },
   "file_extension": ".py",
   "mimetype": "text/x-python",
   "name": "python",
   "nbconvert_exporter": "python",
   "pygments_lexer": "ipython3",
   "version": "3.10.12"
  }
 },
 "nbformat": 4,
 "nbformat_minor": 5
}
