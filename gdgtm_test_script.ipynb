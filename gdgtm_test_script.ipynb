{
 "cells": [
  {
   "cell_type": "markdown",
   "id": "8319f7f8",
   "metadata": {},
   "source": [
    "# gdgtm regression test\n",
    "\n",
    "The goal of this test is to evaluate whether the gdgtm (**g**eospatial **d**ata **g**etting, **t**ransforming, **m**anaging) pipeline built to feed standardized rasters for downstream ML actions (overall goal of the gdgtm package) is working as intended. The test script is structured as follows:\n",
    "\n",
    "- Section 1: Test the flow of the relevant \"get\" functions\n",
    "- Section 2: Test the core pipeline for creating the \"master\" raster\n",
    "- Section 3: Test the mosaics and raster combination components\n",
    "- Section 4: Test the alignment and validation line\n",
    "- Section 5: STAC get functions\n",
    "- Section 6: Shapefile conversion\n",
    "- Section 7: Numpyifying rasters\n",
    "\n",
    "This is the test script and not intended as primarz documentation ' for that, please refer to the \"documentation\" folder and the demo."
   ]
  },
  {
   "cell_type": "markdown",
   "id": "d57472fc",
   "metadata": {},
   "source": [
    "Current tested version: **0.5.5**"
   ]
  },
  {
   "cell_type": "code",
   "execution_count": 8,
   "id": "5f779a55",
   "metadata": {},
   "outputs": [],
   "source": [
    "import gdgtm\n",
    "import rasterio\n",
    "import numpy as np\n",
    "from pathlib import Path\n",
    "import matplotlib.pyplot as plt\n",
    "import os\n",
    "import re"
   ]
  },
  {
   "cell_type": "markdown",
   "id": "3c02d170-e2da-4474-aef0-e22164a4131d",
   "metadata": {},
   "source": [
    "## Test preparation\n",
    "This section sets up the directory structure for the test script. This ensures the removal of any old test material, clearing any old structures and putting in new ones."
   ]
  },
  {
   "cell_type": "code",
   "execution_count": 2,
   "id": "6a77ff4f-1fdd-4a2d-8729-1a1b6471e56e",
   "metadata": {},
   "outputs": [],
   "source": [
    "## Set up the test directory urls\n",
    "test_location = \"/home/pete/Documents/tests_and_vals/\" ## Change to local spec\n",
    "test_directory = \"gdgtm_test\"\n",
    "\n",
    "test_path = test_location + test_directory\n",
    "subdir_names = [\"01_get_functions\", \"02_master_reprojected\", \n",
    "                \"03_master_rescaled\", \"04_master_rebound\", \n",
    "                \"05_complimentary_aligned\", \"06_mosaic_merge_prep\", \n",
    "                \"07_mosaic_merge_out\", \"08_bound_shapefiles\",\n",
    "                \"09_rasters_from_shp\", \"10_rasters_from_numpy\"]"
   ]
  },
  {
   "cell_type": "code",
   "execution_count": 3,
   "id": "2e4cf3e1-1fc4-4137-a272-93b8c75b0ef6",
   "metadata": {},
   "outputs": [],
   "source": [
    "### Function for deleting directory contents\n",
    "\n",
    "def delete_dir_contents (directory):\n",
    "    files = os.listdir(directory)\n",
    "    for file in files:\n",
    "        filepath = os.path.join(directory + \"/\", file)\n",
    "        os.remove(filepath)\n",
    "\n",
    "    return print(os.listdir(directory))\n"
   ]
  },
  {
   "cell_type": "code",
   "execution_count": 4,
   "id": "601d9180-9025-43d6-94e3-03aeb93a7212",
   "metadata": {},
   "outputs": [
    {
     "name": "stdout",
     "output_type": "stream",
     "text": [
      "Sub-directory 01_get_functions is empty\n",
      "Deleted /home/pete/Documents/tests_and_vals/gdgtm_test/01_get_functions\n",
      "Sub-directory 02_master_reprojected is empty\n",
      "Deleted /home/pete/Documents/tests_and_vals/gdgtm_test/02_master_reprojected\n",
      "Sub-directory 03_master_rescaled is empty\n",
      "Deleted /home/pete/Documents/tests_and_vals/gdgtm_test/03_master_rescaled\n",
      "Sub-directory 04_master_rebound is empty\n",
      "Deleted /home/pete/Documents/tests_and_vals/gdgtm_test/04_master_rebound\n",
      "Sub-directory 05_complimentary_aligned is empty\n",
      "Deleted /home/pete/Documents/tests_and_vals/gdgtm_test/05_complimentary_aligned\n",
      "Sub-directory 06_mosaic_merge_prep is empty\n",
      "Deleted /home/pete/Documents/tests_and_vals/gdgtm_test/06_mosaic_merge_prep\n",
      "Sub-directory 07_mosaic_merge_out is empty\n",
      "Deleted /home/pete/Documents/tests_and_vals/gdgtm_test/07_mosaic_merge_out\n",
      "Sub-directory 08_bound_shapefiles is empty\n",
      "Deleted /home/pete/Documents/tests_and_vals/gdgtm_test/08_bound_shapefiles\n",
      "Sub-directory 09_rasters_from_shp is empty\n",
      "Deleted /home/pete/Documents/tests_and_vals/gdgtm_test/09_rasters_from_shp\n",
      "Sub-directory 10_rasters_from_numpy is empty\n",
      "Deleted /home/pete/Documents/tests_and_vals/gdgtm_test/10_rasters_from_numpy\n"
     ]
    }
   ],
   "source": [
    "## Run the deletions\n",
    "for name in subdir_names:\n",
    "    subdir_path = test_path + \"/\" + name\n",
    "    if os.path.exists(subdir_path):\n",
    "        items_in_subdir = len(os.listdir(subdir_path))\n",
    "        if items_in_subdir > 0:\n",
    "            delete_dir_contents(subdir_path)\n",
    "            print(f\"Deleted {items_in_subdir} from the sub-directory {name}\")\n",
    "        else:\n",
    "            print(f\"Sub-directory {name} is empty\")\n",
    "        os.rmdir(subdir_path)\n",
    "        print(f\"Deleted {subdir_path}\")\n",
    "\n",
    "os.rmdir(test_path)"
   ]
  },
  {
   "cell_type": "code",
   "execution_count": 5,
   "id": "f386bdf1-df15-4f26-aa51-7992dfb9ff8b",
   "metadata": {},
   "outputs": [],
   "source": [
    "## Re-build the test location structure\n",
    "\n",
    "os.mkdir(test_path)\n",
    "\n",
    "for name in subdir_names:\n",
    "    os.mkdir(test_path + \"/\" + name)"
   ]
  },
  {
   "cell_type": "markdown",
   "id": "06a4509d",
   "metadata": {},
   "source": [
    "## Section 1: \"get\" function tests"
   ]
  },
  {
   "cell_type": "code",
   "execution_count": 3,
   "id": "c73901e8-5c38-4bc7-8e57-224dc245baa4",
   "metadata": {},
   "outputs": [],
   "source": [
    "## Section 1 subdir_path\n",
    "get_functions_subdir = test_path + \"/\" + subdir_names[0] + \"/\""
   ]
  },
  {
   "cell_type": "code",
   "execution_count": 4,
   "id": "635ba618-df59-4cb3-b65c-deb3ff297029",
   "metadata": {},
   "outputs": [
    {
     "name": "stdout",
     "output_type": "stream",
     "text": [
      "/home/pete/Documents/tests_and_vals/gdgtm_test/01_get_functions/\n"
     ]
    }
   ],
   "source": [
    "print(get_functions_subdir)"
   ]
  },
  {
   "cell_type": "markdown",
   "id": "f00df66e",
   "metadata": {},
   "source": [
    "### get_chelsa_daily"
   ]
  },
  {
   "cell_type": "code",
   "execution_count": 7,
   "id": "ec73a28e",
   "metadata": {},
   "outputs": [
    {
     "name": "stdout",
     "output_type": "stream",
     "text": [
      "File exists: /home/pete/Documents/tests_and_vals/gdgtm_test/01_get_functions/chelsa_tas_01_01_2023.tif\n",
      "File exists: /home/pete/Documents/tests_and_vals/gdgtm_test/01_get_functions/chelsa_tas_02_01_2023.tif\n",
      "File exists: /home/pete/Documents/tests_and_vals/gdgtm_test/01_get_functions/chelsa_tas_03_01_2023.tif\n",
      "File exists: /home/pete/Documents/tests_and_vals/gdgtm_test/01_get_functions/chelsa_tas_04_01_2023.tif\n",
      "File exists: /home/pete/Documents/tests_and_vals/gdgtm_test/01_get_functions/chelsa_tas_05_01_2023.tif\n"
     ]
    },
    {
     "data": {
      "image/png": "[encoded data removed]",
      "text/plain": [
       "<Figure size 1000x1000 with 1 Axes>"
      ]
     },
     "metadata": {},
     "output_type": "display_data"
    }
   ],
   "source": [
    "### get_chelsa_daily (1): happy path, tas parameter\n",
    "\n",
    "try:\n",
    "    test_1 = gdgtm.get_chelsa_daily(parameter = \"tas\", bbox = (6.0, 48.0, 8.0, 46.0), \n",
    "                                    interval = (\"2023-1-1\", \"2023-1-5\"), dst_path = get_functions_subdir,\n",
    "                                    dst_name = \"chelsa_tas_\"\n",
    "                                   )\n",
    "\n",
    "    for item in test_1:\n",
    "        print(item)\n",
    "except Exception as e:\n",
    "    print(f\"Function failed to generate output: {e}\")\n",
    "\n",
    "\n",
    "## Expected outcome: strings indicating target .tiff exists and sample raster printed\n",
    "try:\n",
    "    with rasterio.open(get_functions_subdir + \"chelsa_tas_01_01_2023.tif\") as target:\n",
    "        target_data = target.read(masked = True)\n",
    "    \n",
    "        plt.figure(figsize=(10, 10))\n",
    "        plt.imshow(target_data[0], cmap='terrain') # For single-band raster\n",
    "        plt.show()\n",
    "except Exception as e:\n",
    "    print(f\"Could not plot raster, or raster does not exist: {e}\")\n",
    "\n",
    "## Expectation: file exists and map generates\n"
   ]
  },
  {
   "cell_type": "markdown",
   "id": "f730d942",
   "metadata": {},
   "source": [
    "#### Test outcome\n",
    "\n",
    "Results meet expectation"
   ]
  },
  {
   "cell_type": "code",
   "execution_count": 9,
   "id": "4b80a46e",
   "metadata": {},
   "outputs": [
    {
     "name": "stdout",
     "output_type": "stream",
     "text": [
      "Function failed to generate output: Received a NULL pointer.\n",
      "Could not plot raster, or raster does not exist: /home/pete/Documents/tests_and_vals/gdgtm_test/01_get_functions/chelsa_pr_11_06_1990.tif: No such file or directory\n"
     ]
    },
    {
     "name": "stderr",
     "output_type": "stream",
     "text": [
      "ERROR 1: An error occurred while creating a virtual connection to the DAP server:Error while reading the URL: https://os.unil.cloud.switch.ch/chelsa02/chelsa/global/daily/pr/1990/CHELSA_pr_11_06_1990_V.2.1.tif.ver.\n",
      "The OPeNDAP server returned the following message:\n",
      "Not Found: The data source or server could not be found.\n",
      "        Often this means that the OPeNDAP server is missing or needs attention.\n",
      "        Please contact the server administrator.\n",
      "ERROR 1: Driver DODS is considered for removal in GDAL 3.5. You are invited to convert any dataset in that format to another more common one. If you need this driver in future GDAL versions, create a ticket at https://github.com/OSGeo/gdal (look first for an existing one first) to explain how critical it is for you (but the GDAL project may still remove it), and to enable it now, set the GDAL_ENABLE_DEPRECATED_DRIVER_DODS configuration option / environment variable to YES.\n"
     ]
    }
   ],
   "source": [
    "### get_chelsa_daily (2): happy path, pr parameter\n",
    "\n",
    "try:\n",
    "    test_1 = gdgtm.get_chelsa_daily(parameter = \"pr\", bbox = (-75.0, -5.0, -70.0, -10.0), \n",
    "                                    interval = (\"1990-6-11\", \"1990-6-15\"), dst_path = get_functions_subdir,\n",
    "                                    dst_name = \"chelsa_pr_\"\n",
    "                                   )\n",
    "\n",
    "    for item in test_1:\n",
    "        print(item)\n",
    "        \n",
    "except Exception as e:\n",
    "    print(f\"Function failed to generate output: {e}\")\n",
    "\n",
    "\n",
    "## Expected outcome: strings indicating target .tiff exists and sample raster printed\n",
    "try:\n",
    "    with rasterio.open(get_functions_subdir + \"chelsa_pr_11_06_1990.tif\") as target:\n",
    "        target_data = target.read(masked = True)\n",
    "    \n",
    "        plt.figure(figsize=(10, 10))\n",
    "        plt.imshow(target_data[0], cmap='terrain') # For single-band raster\n",
    "        plt.show()\n",
    "except Exception as e:\n",
    "    print(f\"Could not plot raster, or raster does not exist: {e}\")\n",
    "\n",
    "    \n",
    "## Expectation: file exists and map generates"
   ]
  },
  {
   "cell_type": "markdown",
   "id": "17f27050",
   "metadata": {},
   "source": [
    "#### Test outcome\n",
    "\n",
    "Results meet expectation"
   ]
  },
  {
   "cell_type": "code",
   "execution_count": 10,
   "id": "d25a4f36",
   "metadata": {},
   "outputs": [
    {
     "name": "stdout",
     "output_type": "stream",
     "text": [
      "Function failed to generate output: name 'get_functions_subdi' is not defined\n"
     ]
    }
   ],
   "source": [
    "### get_chelsa_daily (3): wrong dates\n",
    "try: \n",
    "    test_1 = gdgtm.get_chelsa_daily(parameter = \"pr\", \n",
    "                                    bbox = (-75.0, -5.0, -70.0, -10.0), \n",
    "                                    interval = (\"1700-6-11\", \"1700-6-15\"), \n",
    "                                    dst_path = get_functions_subdi,\n",
    "                                    dst_name = \"chelsa_pr_\"\n",
    "                                   )\n",
    "\n",
    "    for item in test_1:\n",
    "        print(item)\n",
    "except Exception as e:\n",
    "    print(f\"Function failed to generate output: {e}\")\n",
    "\n",
    "## Expectation: error\n"
   ]
  },
  {
   "cell_type": "markdown",
   "id": "cf7391ac",
   "metadata": {},
   "source": [
    "#### Test outcome\n",
    "\n",
    "Results meet expectation\n"
   ]
  },
  {
   "cell_type": "markdown",
   "id": "52340438-45b0-4a8a-85df-4421b2d15879",
   "metadata": {},
   "source": [
    "### get_chelsa_bio_19812010_data\n",
    "Note: for current round of tests testing only for use in line with assumptions, in particular using correct Chelsa filenames."
   ]
  },
  {
   "cell_type": "code",
   "execution_count": 11,
   "id": "c93a4f10-7295-41e5-84f4-659f075593d2",
   "metadata": {},
   "outputs": [
    {
     "name": "stdout",
     "output_type": "stream",
     "text": [
      "Function failed to generate output: Received a NULL pointer.\n",
      "Could not plot raster, or raster does not exist: /home/pete/Documents/tests_and_vals/gdgtm_test/01_get_functions/chelsa_bio_gsp.tif: No such file or directory\n"
     ]
    },
    {
     "name": "stderr",
     "output_type": "stream",
     "text": [
      "ERROR 1: An error occurred while creating a virtual connection to the DAP server:Error while reading the URL: https://os.zhdk.cloud.switch.ch/envicloud/chelsa/chelsa_V2/GLOBAL/climatologies/1981-2010/bio/CHELSA_gsp_1981-2010_V.2.1.tif.ver.\n",
      "The OPeNDAP server returned the following message:\n",
      "Not Found: The data source or server could not be found.\n",
      "        Often this means that the OPeNDAP server is missing or needs attention.\n",
      "        Please contact the server administrator.\n",
      "ERROR 1: Driver DODS is considered for removal in GDAL 3.5. You are invited to convert any dataset in that format to another more common one. If you need this driver in future GDAL versions, create a ticket at https://github.com/OSGeo/gdal (look first for an existing one first) to explain how critical it is for you (but the GDAL project may still remove it), and to enable it now, set the GDAL_ENABLE_DEPRECATED_DRIVER_DODS configuration option / environment variable to YES.\n"
     ]
    }
   ],
   "source": [
    "extent = (5.7663, 47.9163, 10.5532, 45.6755)\n",
    "\n",
    "try:\n",
    "    gdgtm.get_chelsa_bio_19812010_data(\"gsp\", bbox = extent, dst_raster = get_functions_subdir + \"chelsa_bio_gsp.tif\")\n",
    "except Exception as e:\n",
    "    print(f\"Function failed to generate output: {e}\")  \n",
    "\n",
    "try:\n",
    "    with rasterio.open(get_functions_subdir + \"chelsa_bio_gsp.tif\") as target:\n",
    "        target_data = target.read(masked = True)\n",
    "    \n",
    "        plt.figure(figsize=(10, 10))\n",
    "        plt.imshow(target_data[0], cmap='terrain') # For single-band raster\n",
    "        plt.show()\n",
    "except Exception as e:\n",
    "    print(f\"Could not plot raster, or raster does not exist: {e}\")\n",
    "\n",
    "## Expectation: file exists and map generates"
   ]
  },
  {
   "cell_type": "markdown",
   "id": "74de5145-2100-4ca6-ad27-49da1bb0b56a",
   "metadata": {},
   "source": [
    "#### Test outcome:\n",
    "Results meet expectation\n"
   ]
  },
  {
   "cell_type": "code",
   "execution_count": 12,
   "id": "55679a5e-5181-41f1-8610-4d9c8d7159a5",
   "metadata": {},
   "outputs": [
    {
     "name": "stdout",
     "output_type": "stream",
     "text": [
      "Function failed to generate output: Received a NULL pointer.\n",
      "Could not plot raster, or raster does not exist: /home/pete/Documents/tests_and_vals/gdgtm_test/01_get_functions/chelsa_bio_kg0_raw.tif: No such file or directory\n"
     ]
    },
    {
     "name": "stderr",
     "output_type": "stream",
     "text": [
      "ERROR 1: An error occurred while creating a virtual connection to the DAP server:Error while reading the URL: https://os.zhdk.cloud.switch.ch/envicloud/chelsa/chelsa_V2/GLOBAL/climatologies/1981-2010/bio/CHELSA_kg0_1981-2010_V.2.1.tif.ver.\n",
      "The OPeNDAP server returned the following message:\n",
      "Not Found: The data source or server could not be found.\n",
      "        Often this means that the OPeNDAP server is missing or needs attention.\n",
      "        Please contact the server administrator.\n",
      "ERROR 1: Driver DODS is considered for removal in GDAL 3.5. You are invited to convert any dataset in that format to another more common one. If you need this driver in future GDAL versions, create a ticket at https://github.com/OSGeo/gdal (look first for an existing one first) to explain how critical it is for you (but the GDAL project may still remove it), and to enable it now, set the GDAL_ENABLE_DEPRECATED_DRIVER_DODS configuration option / environment variable to YES.\n"
     ]
    }
   ],
   "source": [
    "extent = (-1.0, 0, 50, -47.6755)\n",
    "\n",
    "try:\n",
    "    gdgtm.get_chelsa_bio_19812010_data(\"kg0\", bbox = extent, dst_raster = get_functions_subdir + \"chelsa_bio_kg0_raw.tif\")\n",
    "except Exception as e:\n",
    "    print(f\"Function failed to generate output: {e}\")       \n",
    "\n",
    "try:\n",
    "    with rasterio.open(get_functions_subdir + \"chelsa_bio_kg0_raw.tif\") as target:\n",
    "        target_data = target.read(masked = True)\n",
    "    \n",
    "        plt.figure(figsize=(10, 10))\n",
    "        plt.imshow(target_data[0], cmap='terrain') # For single-band raster\n",
    "        # plt.imshow(data.transpose(1, 2, 0)) # For multi-band raster\n",
    "        plt.show()\n",
    "except Exception as e:\n",
    "    print(f\"Could not plot raster, or raster does not exist: {e}\")\n",
    "\n",
    "\n",
    "## Expectation: file exists and map generates"
   ]
  },
  {
   "cell_type": "markdown",
   "id": "31baddc4-a23c-4b7a-b513-c433f4fdd6bf",
   "metadata": {},
   "source": [
    "#### Test outcome: \n",
    "Results meet expectation\n",
    "\n"
   ]
  },
  {
   "cell_type": "markdown",
   "id": "a1b51de5-f26a-488c-8dc8-78b3e241c864",
   "metadata": {},
   "source": [
    "### get_chelsa_clim_19812010_data\n",
    "Note: for current round of tests testing only for use in line with assumptions, in particular using correct Chelsa filenames."
   ]
  },
  {
   "cell_type": "code",
   "execution_count": 13,
   "id": "d9b332b6-052f-4b94-9ef2-e8f6dd5d49a7",
   "metadata": {},
   "outputs": [
    {
     "name": "stdout",
     "output_type": "stream",
     "text": [
      "Function failed to generate output: Received a NULL pointer.\n",
      "Could not plot raster, or raster does not exist: /home/pete/Documents/tests_and_vals/gdgtm_test/01_get_functions/chelsa_clim_pr_jun_raw.tif: No such file or directory\n"
     ]
    },
    {
     "name": "stderr",
     "output_type": "stream",
     "text": [
      "ERROR 1: An error occurred while creating a virtual connection to the DAP server:Error while reading the URL: https://os.zhdk.cloud.switch.ch/envicloud/chelsa/chelsa_V2/GLOBAL/climatologies/1981-2010/tas/CHELSA_tas_06_1981-2010_V.2.1.tif.ver.\n",
      "The OPeNDAP server returned the following message:\n",
      "Not Found: The data source or server could not be found.\n",
      "        Often this means that the OPeNDAP server is missing or needs attention.\n",
      "        Please contact the server administrator.\n",
      "ERROR 1: Driver DODS is considered for removal in GDAL 3.5. You are invited to convert any dataset in that format to another more common one. If you need this driver in future GDAL versions, create a ticket at https://github.com/OSGeo/gdal (look first for an existing one first) to explain how critical it is for you (but the GDAL project may still remove it), and to enable it now, set the GDAL_ENABLE_DEPRECATED_DRIVER_DODS configuration option / environment variable to YES.\n"
     ]
    }
   ],
   "source": [
    "extent = (-5.7663, -45.9163, 0.5532, -47.6755)\n",
    "\n",
    "try:\n",
    "    gdgtm.get_chelsa_clim_19812010_data(\"tas\", \"06\", bbox = extent, dst_raster = get_functions_subdir + \"chelsa_clim_pr_jun_raw.tif\")\n",
    "except Exception as e:\n",
    "    print(f\"Function failed to generate output: {e}\")\n",
    "    \n",
    "try:\n",
    "    with rasterio.open(get_functions_subdir + \"chelsa_clim_pr_jun_raw.tif\") as target:\n",
    "        target_data = target.read(masked = True)\n",
    "    \n",
    "        plt.figure(figsize=(10, 10))\n",
    "        plt.imshow(target_data[0], cmap='terrain') # For single-band raster\n",
    "        plt.show()\n",
    "except Exception as e:\n",
    "    print(f\"Could not plot raster, or raster does not exist: {e}\")\n",
    "\n",
    "## Expectation: file exists and map generates"
   ]
  },
  {
   "cell_type": "markdown",
   "id": "1d858ae9-3250-4e6f-a42f-b063b58dd7ac",
   "metadata": {},
   "source": [
    "#### Test outcome:\n",
    "Results meet expectation, but the **Warning 1** will need to be addressed downstream.\n",
    "\n"
   ]
  },
  {
   "cell_type": "code",
   "execution_count": 14,
   "id": "9bca37e5-eb1f-4f0a-99ea-ae3993294598",
   "metadata": {},
   "outputs": [
    {
     "name": "stdout",
     "output_type": "stream",
     "text": [
      "Function failed to generate output: Received a NULL pointer.\n",
      "Could not plot raster, or raster does not exist: /home/pete/Documents/tests_and_vals/gdgtm_test/01_get_functions/chelsa_clim_sfcWind_jan_raw.tif: No such file or directory\n"
     ]
    },
    {
     "name": "stderr",
     "output_type": "stream",
     "text": [
      "ERROR 1: An error occurred while creating a virtual connection to the DAP server:Error while reading the URL: https://os.zhdk.cloud.switch.ch/envicloud/chelsa/chelsa_V2/GLOBAL/climatologies/1981-2010/sfcWind/CHELSA_sfcWind_01_1981-2010_V.2.1.tif.ver.\n",
      "The OPeNDAP server returned the following message:\n",
      "Not Found: The data source or server could not be found.\n",
      "        Often this means that the OPeNDAP server is missing or needs attention.\n",
      "        Please contact the server administrator.\n",
      "ERROR 1: Driver DODS is considered for removal in GDAL 3.5. You are invited to convert any dataset in that format to another more common one. If you need this driver in future GDAL versions, create a ticket at https://github.com/OSGeo/gdal (look first for an existing one first) to explain how critical it is for you (but the GDAL project may still remove it), and to enable it now, set the GDAL_ENABLE_DEPRECATED_DRIVER_DODS configuration option / environment variable to YES.\n"
     ]
    }
   ],
   "source": [
    "extent = (5.7663, 47.9163, 10.5532, 45.6755)\n",
    "\n",
    "try:\n",
    "    gdgtm.get_chelsa_clim_19812010_data(\"sfcWind\", \"01\", bbox = extent, dst_raster = get_functions_subdir + \"chelsa_clim_sfcWind_jan_raw.tif\")\n",
    "except Exception as e:\n",
    "    print(f\"Function failed to generate output: {e}\")\n",
    "\n",
    "try:\n",
    "    with rasterio.open(get_functions_subdir + \"chelsa_clim_sfcWind_jan_raw.tif\") as target:\n",
    "        target_data = target.read(masked = True)\n",
    "    \n",
    "        plt.figure(figsize=(10, 10))\n",
    "        plt.imshow(target_data[0], cmap='terrain')\n",
    "        plt.show()\n",
    "except Exception as e:\n",
    "    print(f\"Could not plot raster, or raster does not exist: {e}\")\n",
    "\n",
    "## Expectation: file exists and map generates"
   ]
  },
  {
   "cell_type": "markdown",
   "id": "b898a7ee-af4b-42e7-9e05-4fb83850c85c",
   "metadata": {},
   "source": [
    "#### Test outcome:\n",
    "\n",
    "Results meet expectation\n",
    "\n"
   ]
  },
  {
   "cell_type": "markdown",
   "id": "4b382fdf",
   "metadata": {},
   "source": [
    "### get_cognames_from_stac_coll_static"
   ]
  },
  {
   "cell_type": "code",
   "execution_count": 15,
   "id": "8131e6dd",
   "metadata": {},
   "outputs": [
    {
     "name": "stdout",
     "output_type": "stream",
     "text": [
      "https://s3.openlandmap.org/arco/wilderness_li2022.human.footprint_p_1km_s_20000101_20001231_go_epsg.4326_v16022022.tif\n"
     ]
    }
   ],
   "source": [
    "### get_cognames_from_stac_coll_static (1): correct url for an OLM collection value\n",
    "\n",
    "try:\n",
    "    test = gdgtm.get_cognames_static_stac(\"https://s3.eu-central-1.wasabisys.com/stac/openlandmap/wilderness_li2022.human.footprint/collection.json\")\n",
    "    print(test[0])\n",
    "except Exception as e:\n",
    "    print(f\"Function failed to generate output: {e}\")\n",
    "\n",
    "## Expected outcome: url to a geotiff"
   ]
  },
  {
   "cell_type": "markdown",
   "id": "fde09a90",
   "metadata": {},
   "source": [
    "#### Test outcome\n",
    "\n",
    "Results meet expectation"
   ]
  },
  {
   "cell_type": "code",
   "execution_count": null,
   "id": "45398411",
   "metadata": {},
   "outputs": [],
   "source": [
    "### get_cognames_from_stac_coll_static (2): correct url for a Capella collection value\n",
    "\n",
    "try:\n",
    "    test = gdgtm.get_cognames_static_stac(\"https://capella-open-data.s3.us-west-2.amazonaws.com/stac/capella-open-data-by-instrument-mode/capella-open-data-stripmap/collection.json\")\n",
    "    print(test[0])\n",
    "except Exception as e:\n",
    "    print(f\"Function failed to generate output: {e}\")\n",
    "## Expected outcome: url to a geotiff"
   ]
  },
  {
   "cell_type": "markdown",
   "id": "6a5ded8a",
   "metadata": {},
   "source": [
    "#### Test outcome\n",
    "\n",
    "Results meet expectation"
   ]
  },
  {
   "cell_type": "code",
   "execution_count": null,
   "id": "6727ebd1",
   "metadata": {},
   "outputs": [],
   "source": [
    "### get_cognames_from_stac_coll_static (3): wrong url provided\n",
    "try:\n",
    "    test = gdgtm.get_cognames_static_stac(\"https://www.unifr.ch/theo/fr/\")\n",
    "    print(test[0])\n",
    "except Exception as e:\n",
    "    print(f\"Function failed to generate output: {e}\")  \n",
    "\n",
    "## Expected outcome: an error message"
   ]
  },
  {
   "cell_type": "markdown",
   "id": "1cd7ad9b",
   "metadata": {},
   "source": [
    "#### Test outcome\n",
    "\n",
    "Results meet expectation"
   ]
  },
  {
   "cell_type": "markdown",
   "id": "4df77df9",
   "metadata": {},
   "source": [
    "### get_olm_cogs"
   ]
  },
  {
   "cell_type": "code",
   "execution_count": 10,
   "id": "d849f329",
   "metadata": {},
   "outputs": [
    {
     "name": "stdout",
     "output_type": "stream",
     "text": [
      "Function failed to generate output: Received a NULL pointer.\n"
     ]
    },
    {
     "name": "stderr",
     "output_type": "stream",
     "text": [
      "ERROR 1: An error occurred while creating a virtual connection to the DAP server:Error while reading the URL: https://s3.openlandmap.org/arco/wilderness_li2022.human.footprint_p_1km_s_20010101_20011231_go_epsg.4326_v16022022.tif.ver.\n",
      "The OPeNDAP server returned the following message:\n",
      "Not Found: The data source or server could not be found.\n",
      "        Often this means that the OPeNDAP server is missing or needs attention.\n",
      "        Please contact the server administrator.\n",
      "ERROR 1: Driver DODS is considered for removal in GDAL 3.5. You are invited to convert any dataset in that format to another more common one. If you need this driver in future GDAL versions, create a ticket at https://github.com/OSGeo/gdal (look first for an existing one first) to explain how critical it is for you (but the GDAL project may still remove it), and to enable it now, set the GDAL_ENABLE_DEPRECATED_DRIVER_DODS configuration option / environment variable to YES.\n"
     ]
    }
   ],
   "source": [
    "### get_olm_cogs (1): correct url for an OLM collection value - Human footprint\n",
    "\n",
    "bbox = (5.7663, 47.9163, 10.5532, 45.6755) ##WNES bbox\n",
    "\n",
    "try:\n",
    "    test = gdgtm.get_cognames_static_stac(\"https://s3.eu-central-1.wasabisys.com/stac/openlandmap/wilderness_li2022.human.footprint/collection.json\")\n",
    "    gdgtm.get_olm_cogs(cognames = test, \n",
    "                       target_directory = get_functions_subdir, \n",
    "                       target_names = \"olm_humfoot_switz_raw_\",\n",
    "                       bbox = bbox,\n",
    "                       interval = (\"20000601\", \"20050101\")\n",
    "                      )\n",
    "except Exception as e:\n",
    "    print(f\"Function failed to generate output: {e}\")  \n",
    "\n",
    "## Expected outcome: a list of four downloaded files"
   ]
  },
  {
   "cell_type": "markdown",
   "id": "0076554b",
   "metadata": {},
   "source": [
    "#### Test outcome\n",
    "\n",
    "Results meet expectation"
   ]
  },
  {
   "cell_type": "code",
   "execution_count": null,
   "id": "90f292ea",
   "metadata": {},
   "outputs": [],
   "source": [
    "### get_olm_cogs (2): correct url for an OLM collection value - ESA CCI annual land cover\n",
    "\n",
    "bbox = (5.7663, 47.9163, 10.5532, 45.6755) ##WNES bbox\n",
    "\n",
    "try:\n",
    "    test = gdgtm.get_cognames_static_stac(\"https://s3.eu-central-1.wasabisys.com/stac/openlandmap/land.cover_esacci.lc.l4/collection.json\")\n",
    "    gdgtm.get_olm_cogs(cognames = test, \n",
    "                       target_directory = get_functions_subdir, \n",
    "                       target_names = \"olm_alc_switz_raw_\",\n",
    "                       bbox = bbox,\n",
    "                       interval = (\"20000601\", \"20050101\")\n",
    "                      )\n",
    "except Exception as e:\n",
    "    print(f\"Function failed to generate output: {e}\")\n",
    "\n",
    "## Expected outcome: a list of four downloaded files"
   ]
  },
  {
   "cell_type": "markdown",
   "id": "22d977d6",
   "metadata": {},
   "source": [
    "#### Test outcome\n",
    "\n",
    "Results meet expectation, but the underpinning function needs re-written to better run the file exists check"
   ]
  },
  {
   "cell_type": "code",
   "execution_count": null,
   "id": "bd178e5e",
   "metadata": {},
   "outputs": [],
   "source": [
    "### get_olm_cogs (3): test defaults\n",
    "\n",
    "try:\n",
    "    test = gdgtm.get_cognames_static_stac(\"https://s3.eu-central-1.wasabisys.com/stac/openlandmap/ph.h2o_usda.4c1a2a/collection.json\")\n",
    "    gdgtm.get_olm_cogs(cognames = test[0], \n",
    "                       target_directory = get_functions_subdir, \n",
    "                       target_names = \"olm_soilph_eurafr_raw_\"\n",
    "                      )\n",
    "except Exception as e:\n",
    "    print(f\"Function failed to generate output: {e}\")\n",
    "    \n",
    "## Expected outcome: a list of one downloaded file"
   ]
  },
  {
   "cell_type": "markdown",
   "id": "6d6f3559",
   "metadata": {},
   "source": [
    "#### Test outcome\n",
    "\n",
    "Results do not meet expectations.\n",
    "Diagnostic: inability to handle files without timestamps in names"
   ]
  },
  {
   "cell_type": "markdown",
   "id": "07115492",
   "metadata": {},
   "source": [
    "## Section 2: creating the \"Master\" geotiff"
   ]
  },
  {
   "cell_type": "code",
   "execution_count": null,
   "id": "f51970ac-0a0e-47d7-bcba-186a36c646a3",
   "metadata": {},
   "outputs": [],
   "source": [
    "### Create the directories\n",
    "reproject_subdir = test_path + \"/\" + subdir_names[1] + \"/\"\n",
    "rescale_subdir = test_path + \"/\" + subdir_names[2] + \"/\"\n",
    "rebound_subdir = test_path + \"/\" + subdir_names[3] + \"/\"\n",
    "\n",
    "print(reproject_subdir)\n",
    "print(rescale_subdir)\n",
    "print(rebound_subdir)\n"
   ]
  },
  {
   "cell_type": "markdown",
   "id": "208befce",
   "metadata": {},
   "source": [
    "### reproject_raster"
   ]
  },
  {
   "cell_type": "code",
   "execution_count": null,
   "id": "221d98db",
   "metadata": {},
   "outputs": [],
   "source": [
    "### reproject_raster (1): error - provide faulty new_crs\n",
    "\n",
    "try:\n",
    "    gdgtm.reproject_raster(new_crs = \"ggplot:2\", \n",
    "                           src_raster = get_functions_subdir + \"chelsa_tas_01_01_2023.tif\",\n",
    "                           dst_raster = reproject_subdir + \"chelsa_pr_reprojected_error.tif\",\n",
    "                           delete_source = True)\n",
    "except Exception as e:\n",
    "    print(f\"Function failed to generate output: {e}\")\n",
    "\n",
    "print(\"Source file retained: \" + str(os.path.exists(get_functions_subdir + \"chelsa_tas_01_01_2023.tif\")))\n",
    "## Expected outcome: Error message, no file changes"
   ]
  },
  {
   "cell_type": "markdown",
   "id": "91a6a47f",
   "metadata": {},
   "source": [
    "#### Test outcome\n",
    "\n",
    "Results meet expectation"
   ]
  },
  {
   "cell_type": "code",
   "execution_count": null,
   "id": "9ddfc119",
   "metadata": {},
   "outputs": [],
   "source": [
    "### reproject_raster (2): happy path - no file deletion\n",
    "\n",
    "try:\n",
    "    gdgtm.reproject_raster(new_crs = \"ESRI:54028\", \n",
    "                           src_raster = get_functions_subdir + \"chelsa_tas_01_01_2023.tif\",\n",
    "                           dst_raster = reproject_subdir + \"chelsa_tas_01_01_2023.tif\",\n",
    "                           delete_source = False)\n",
    "except Exception as e:\n",
    "    print(f\"Function failed to generate output: {e}\")\n",
    "\n",
    "print(\"Source file retained: \" + str(os.path.exists(get_functions_subdir + \"chelsa_tas_01_01_2023.tif\")))\n",
    "## Expected outcome: new file confirmation message (\"Reprojection successful\"), confirm that source_file retained"
   ]
  },
  {
   "cell_type": "markdown",
   "id": "8b690773",
   "metadata": {},
   "source": [
    "#### Test outcome\n",
    "\n",
    "Results mett expectation"
   ]
  },
  {
   "cell_type": "code",
   "execution_count": null,
   "id": "9e594051",
   "metadata": {},
   "outputs": [],
   "source": [
    "### reproject_raster (3): happy path, delete source by default\n",
    "\n",
    "try:\n",
    "    gdgtm.reproject_raster(new_crs = \"ESRI:54028\", \n",
    "                           src_raster = get_functions_subdir + \"chelsa_tas_01_01_2023.tif\",\n",
    "                           dst_raster = reproject_subdir + \"chelsa_tas_01_01_2023.tif\")\n",
    "except Exception as e:\n",
    "    print(f\"Function failed to generate output: {e}\")\n",
    "\n",
    "print(\"Source file retained: \" + str(os.path.exists(get_functions_subdir + \"chelsa_tas_01_01_2023.tif\")))\n",
    "## Expected outcome: new file confirmation message (\"Reprojection successful\"), confirm that source_file not retained"
   ]
  },
  {
   "cell_type": "markdown",
   "id": "4a1167a9",
   "metadata": {},
   "source": [
    "#### Test outcome\n",
    "\n",
    "Results meet expectations"
   ]
  },
  {
   "cell_type": "markdown",
   "id": "ae2e0e59",
   "metadata": {},
   "source": [
    "### change_raster_resolution"
   ]
  },
  {
   "cell_type": "code",
   "execution_count": null,
   "id": "2fa5d738",
   "metadata": {},
   "outputs": [],
   "source": [
    "### change_raster_resolution (1): failure - provide invalid value for target res\n",
    "\n",
    "try:\n",
    "    gdgtm.change_raster_res(target_res = \"five hundred\",\n",
    "                            src_raster = reproject_subdir + \"chelsa_tas_01_01_2023.tif\",\n",
    "                            dst_raster = rescale_subdir + \"chelsa_tas_01_01_2023.tif\",\n",
    "                            delete_source = False\n",
    "                           )\n",
    "except Exception as e:\n",
    "    print(f\"Function failed to generate output: {e}\")\n",
    "    \n",
    "print(\"Source file retained: \" + str(os.path.exists(reproject_subdir + \"chelsa_tas_01_01_2023.tif\")))\n",
    "## Expected outcome: Error message, file retained"
   ]
  },
  {
   "cell_type": "markdown",
   "id": "5bc8b996",
   "metadata": {},
   "source": [
    "#### Test outcome\n",
    "\n",
    "Results match expectation"
   ]
  },
  {
   "cell_type": "code",
   "execution_count": null,
   "id": "c43c616e",
   "metadata": {},
   "outputs": [],
   "source": [
    "### change_raster_resolution (2): happy path - retain source raster\n",
    "\n",
    "try:\n",
    "    gdgtm.change_raster_res(target_res = 500,\n",
    "                            src_raster = reproject_subdir + \"chelsa_tas_01_01_2023.tif\",\n",
    "                            dst_raster = rescale_subdir + \"chelsa_tas_01_01_2023.tif\",\n",
    "                            delete_source = False\n",
    "                           )\n",
    "except Exception as e:\n",
    "    print(f\"Function failed to generate output: {e}\")\n",
    "    \n",
    "print(\"Source file retained: \" + str(os.path.exists(reproject_subdir+ \"chelsa_tas_01_01_2023.tif\")))\n",
    "## Expected outcome: Match confirmation (\"Resolution change successful: new pixel size matches target\"), file retained"
   ]
  },
  {
   "cell_type": "markdown",
   "id": "d9685270",
   "metadata": {},
   "source": [
    "#### Test outcome\n",
    "\n",
    "Results match expectation"
   ]
  },
  {
   "cell_type": "code",
   "execution_count": null,
   "id": "14f83e74",
   "metadata": {},
   "outputs": [],
   "source": [
    "### change_raster_resolution (3): happy path - source raster deletion by default\n",
    "try:\n",
    "    gdgtm.change_raster_res(target_res = 500,\n",
    "                            src_raster = reproject_subdir + \"chelsa_tas_01_01_2023.tif\",\n",
    "                            dst_raster = rescale_subdir + \"chelsa_tas_01_01_2023.tif\",\n",
    "                            delete_source = True\n",
    "                           )\n",
    "except Exception as e:\n",
    "    print(f\"Function failed to generate output: {e}\")\n",
    "    \n",
    "print(\"Source file retained: \" + str(os.path.exists(reproject_subdir + \"chelsa_tas_01_01_2023.tif\")))\n",
    "## Expected outcome: Match confirmation (\"Resolution change successful: new pixel size matches target\"), file not retained"
   ]
  },
  {
   "cell_type": "markdown",
   "id": "c7929dc1",
   "metadata": {},
   "source": [
    "#### Test outcome\n",
    "\n",
    "Results match expectation"
   ]
  },
  {
   "cell_type": "markdown",
   "id": "daf3a5a4",
   "metadata": {},
   "source": [
    "### set_raster_boundbox"
   ]
  },
  {
   "cell_type": "code",
   "execution_count": null,
   "id": "952f7b15",
   "metadata": {},
   "outputs": [],
   "source": [
    "### set_raster_boundbox (1): failure - provide invalid bounding box\n",
    "\n",
    "new_bb = (575000, 5235000, 565000, 5255000) ### Error introduced on purpose: ESWN not WNES\n",
    "try:\n",
    "    gdgtm.set_raster_boundbox(target_bbox = new_bb,\n",
    "                              src_raster = rescale_subdir + \"chelsa_tas_01_01_2023.tif\",\n",
    "                              dst_raster = rebound_subdir + \"chelsa_tas_01_01_2023.tif\",\n",
    "                              delete_source = True\n",
    "                             )\n",
    "except Exception as e:\n",
    "    print(f\"Function failed to generate output: {e}\")\n",
    "\n",
    "print(\"Source file retained: \" + str(os.path.exists(rescale_subdir + \"chelsa_tas_01_01_2023.tif\")))\n",
    "## Expected outcome: Error message, file retained"
   ]
  },
  {
   "cell_type": "markdown",
   "id": "3d7f72fb",
   "metadata": {},
   "source": [
    "#### Test outcome\n",
    "\n",
    "Results do not meet expectations - silent issue, re-eval means of checking"
   ]
  },
  {
   "cell_type": "code",
   "execution_count": null,
   "id": "a0df508d",
   "metadata": {},
   "outputs": [],
   "source": [
    "### set_raster_boundbox (2): happy path, retain source raster\n",
    "\n",
    "new_bb = (555000, 5255000, 565000, 5235000)\n",
    "try:\n",
    "    outcome = gdgtm.set_raster_boundbox(target_bbox = new_bb,\n",
    "                                  src_raster = rescale_subdir + \"chelsa_tas_01_01_2023.tif\",\n",
    "                                  dst_raster = rebound_subdir + \"chelsa_tas_01_01_2023.tif\",\n",
    "                                  delete_source = True\n",
    "                                 )\n",
    "    print(outcome)\n",
    "    \n",
    "except Exception as e:\n",
    "    print(f\"Function failed to generate output: {e}\")\n",
    "\n",
    "print(\"Source file retained: \" + str(os.path.exists(rescale_subdir + \"chelsa_tas_01_01_2023.tif\")))\n",
    "## Expected outcome: Outcome message (\"Warning, setting errors > 0.01 and file exists: /home/pete/Documents/tests_and_vals/gdgtm/04_master_rebound/chelsa_pr_rebound.tif\"), source file retained"
   ]
  },
  {
   "cell_type": "markdown",
   "id": "f8e831ef",
   "metadata": {},
   "source": [
    "#### Test outcome\n",
    "\n",
    "Results meet expectations"
   ]
  },
  {
   "cell_type": "code",
   "execution_count": null,
   "id": "241f8d82",
   "metadata": {},
   "outputs": [],
   "source": [
    "### set_raster_boundbox (3): happy path, source raster not deleted by default due errors relative\n",
    "\n",
    "new_bb = (555000, 5255000, 565000, 5235000)\n",
    "try:\n",
    "    outcome = gdgtm.set_raster_boundbox(target_bbox = new_bb,\n",
    "                                  src_raster = rescale_subdir + \"chelsa_tas_01_01_2023.tif\",\n",
    "                                  dst_raster = rebound_subdir + \"chelsa_tas_01_01_2023.tif\",\n",
    "                                  delete_source = True\n",
    "                                 )\n",
    "    print(outcome)\n",
    "    \n",
    "except Exception as e:\n",
    "    print(f\"Function failed to generate output: {e}\")\n",
    "\n",
    "print(\"Source file retained: \" + str(os.path.exists(rescale_subdir + \"chelsa_tas_01_01_2023.tif\")))\n",
    "## Expected outcome: Outcome message (\"Warning, setting errors > 0.01 and file exists: /home/pete/Documents/tests_and_vals/gdgtm/04_master_rebound/chelsa_pr_rebound.tif\"), source file retained"
   ]
  },
  {
   "cell_type": "markdown",
   "id": "c1aa5ab9",
   "metadata": {},
   "source": [
    "#### Test outcome\n",
    "\n",
    "Results meet expectation\n"
   ]
  },
  {
   "cell_type": "markdown",
   "id": "e6a48186",
   "metadata": {},
   "source": [
    "## Section 3: Mosaics and Merging\n",
    "Please note: as Mosaics and Merging are auxiliary to the core package objectives, the tests herein only include limited \"happy\" paths."
   ]
  },
  {
   "cell_type": "code",
   "execution_count": null,
   "id": "cc4330bd-f214-4918-9715-279549ed98e7",
   "metadata": {},
   "outputs": [],
   "source": [
    "mosaic_setup_subdir = test_path + \"/\" + subdir_names[5] + \"/\"\n",
    "mosaic_subdir = test_path + \"/\" + subdir_names[6] + \"/\"\n",
    "\n",
    "print(mosaic_setup_subdir)\n",
    "print(mosaic_subdir)"
   ]
  },
  {
   "cell_type": "markdown",
   "id": "8ee1df99",
   "metadata": {},
   "source": [
    "### mosaic_rasters"
   ]
  },
  {
   "cell_type": "code",
   "execution_count": null,
   "id": "6b6d768d",
   "metadata": {},
   "outputs": [],
   "source": [
    "## Prep environment for testing mosaic_rasters()\n",
    "\n",
    "sample_names = gdgtm.get_cognames_static_stac(\"https://s3.eu-central-1.wasabisys.com/stac/openlandmap/wilderness_li2022.human.footprint/collection.json\")\n",
    "\n",
    "\n",
    "bbox_west = (5.8, 48, 8, 46)\n",
    "bbox_east = (8, 47, 10, 45)\n",
    "try:\n",
    "    gdgtm.get_olm_cogs(cognames = sample_names, \n",
    "                       target_directory = mosaic_setup_subdir, \n",
    "                       target_names = \"olm_humfoot_switz_raw_west_\",\n",
    "                       bbox = bbox_west,\n",
    "                       interval = (\"20000601\", \"20020101\")\n",
    "                      )\n",
    "except Exception as e:\n",
    "    print(f\"Function failed to generate output: {e}\")\n",
    "\n",
    "try:\n",
    "    gdgtm.get_olm_cogs(cognames = sample_names, \n",
    "                       target_directory = mosaic_setup_subdir, \n",
    "                       target_names = \"olm_humfoot_switz_raw_east_\",\n",
    "                       bbox = bbox_east,\n",
    "                       interval = (\"20000601\", \"20020101\")\n",
    "                      )\n",
    "except Exception as e:\n",
    "    print(f\"Function failed to generate output: {e}\")\n"
   ]
  },
  {
   "cell_type": "code",
   "execution_count": null,
   "id": "a01b4c31",
   "metadata": {},
   "outputs": [],
   "source": [
    "try:\n",
    "    gdgtm.mosaic_rasters(raster_1 = mosaic_setup_subdir + \"olm_humfoot_switz_raw_west_20010101.tif\",\n",
    "                         raster_2 = mosaic_setup_subdir + \"olm_humfoot_switz_raw_east_20010101.tif\",\n",
    "                         dst_raster = mosaic_subdir + \"olm_humfoot_switz_raw_whole_20010101.tif\")\n",
    "except Exception as e:\n",
    "    print(f\"Function failed to generate output: {e}\")\n",
    "\n",
    "try:\n",
    "    with rasterio.open(mosaic_subdir + \"olm_humfoot_switz_raw_whole_20010101.tif\") as target:\n",
    "        target_data = target.read(masked = True)\n",
    "    \n",
    "        plt.figure(figsize=(10, 10))\n",
    "        plt.imshow(target_data[0], cmap='terrain') \n",
    "        plt.show()\n",
    "        \n",
    "except Exception as e:\n",
    "    print(f\"Could not plot raster, or raster does not exist: {e}\")\n",
    "    \n",
    "##Expectation: a combine draster is displayed."
   ]
  },
  {
   "cell_type": "markdown",
   "id": "79dddbfc",
   "metadata": {},
   "source": [
    "#### Test outcome \n",
    "Results meet expectations"
   ]
  },
  {
   "cell_type": "markdown",
   "id": "7cda5c5d",
   "metadata": {},
   "source": [
    "### merge_rasters"
   ]
  },
  {
   "cell_type": "code",
   "execution_count": null,
   "id": "91a34650",
   "metadata": {},
   "outputs": [],
   "source": [
    "### Get data\n",
    "\n",
    "bbox_west = (5.8, 48, 8, 46)\n",
    "src_file_index = 1\n",
    "\n",
    "try:\n",
    "    sample_names = gdgtm.get_cognames_static_stac(\"https://s3.eu-central-1.wasabisys.com/stac/openlandmap/wilderness_li2022.human.footprint/collection.json\")\n",
    "    gdgtm.get_olm_cogs(cognames = sample_names, \n",
    "                       target_directory = mosaic_setup_subdir, \n",
    "                       target_names = \"olm_humfoot_switz_raw_west_\" + str(src_file_index),\n",
    "                       bbox = bbox_west\n",
    "                      )\n",
    "except Exception as e:\n",
    "    print(f\"Function failed to generate output: {e}\")\n"
   ]
  },
  {
   "cell_type": "code",
   "execution_count": null,
   "id": "df6180f4",
   "metadata": {},
   "outputs": [],
   "source": [
    "## Prep the file list for iterating over\n",
    "import re\n",
    "src_dir = test_path + \"/\" + subdir_names[5]\n",
    "src_files = [f for f in os.listdir(src_dir) if os.path.isfile(os.path.join(src_dir, f))]\n",
    "\n",
    "pattern = \"west\"\n",
    "\n",
    "src_files = [s for s in src_files if re.findall(pattern, s)]\n",
    "src_files = sorted(src_files)\n",
    "\n",
    "\n",
    "print(src_files)"
   ]
  },
  {
   "cell_type": "code",
   "execution_count": null,
   "id": "9e689342",
   "metadata": {},
   "outputs": [],
   "source": [
    "### Run the test - part 1: merge the first two files\n",
    "\n",
    "dst_file = mosaic_subdir + \"olm_humfoot_switz_raw_west_merge.tif\"\n",
    "\n",
    "try:\n",
    "    gdgtm.merge_rasters(raster_1 = mosaic_setup_subdir + src_files[0], \n",
    "                        raster_2 = mosaic_setup_subdir + src_files[1],\n",
    "                        dst_raster = dst_file,\n",
    "                        delete_source = False)\n",
    "except Exception as e:\n",
    "    print(f\"Function failed to generate output: {e}\")\n",
    "\n",
    "\n",
    "try:\n",
    "    with rasterio.open(dst_file) as target:\n",
    "        target_data = target.read()\n",
    "        \n",
    "        plt.figure(figsize=(10, 10))\n",
    "        plt.imshow(target_data[0], cmap='terrain') # For single-band raster\n",
    "        # plt.imshow(data.transpose(1, 2, 0)) # For multi-band raster\n",
    "        plt.show()\n",
    "except Exception as e:\n",
    "    print(f\"Could not plot raster, or raster does not exist: {e}\")\n",
    "## Expectation: destination raster and return_statement indicating two bands on destination printed."
   ]
  },
  {
   "cell_type": "markdown",
   "id": "589ca4f4",
   "metadata": {},
   "source": [
    "#### Test outcome\n",
    "Results meet expectation"
   ]
  },
  {
   "cell_type": "code",
   "execution_count": null,
   "id": "6c2fd994",
   "metadata": {},
   "outputs": [],
   "source": [
    "### Run the test - part 2: loop over the entire collection\n",
    "\n",
    "try:\n",
    "    for src_tif in src_files[2:]:\n",
    "        gdgtm.merge_rasters(raster_1 = mosaic_setup_subdir + src_tif, \n",
    "                            raster_2 = dst_file,\n",
    "                            dst_raster = dst_file,\n",
    "                            delete_source = False)\n",
    "except Exception as e:\n",
    "    print(f\"Function failed to generate output: {e}\")\n",
    "\n",
    "try:    \n",
    "    with rasterio.open(dst_file) as target:\n",
    "        target_data = target.read()\n",
    "    \n",
    "        plt.figure(figsize=(10, 10))\n",
    "        plt.imshow(target_data[0], cmap='terrain') # For single-band raster\n",
    "        # plt.imshow(data.transpose(1, 2, 0)) # For multi-band raster\n",
    "        plt.show()\n",
    "except Exception as e:\n",
    "    print(f\"Could not plot raster, or raster does not exist: {e}\")\n",
    "    \n",
    "## Expectation: destination raster and multiple return_statement indicating up to 19 bands on destination printed."
   ]
  },
  {
   "cell_type": "markdown",
   "id": "3250fe15",
   "metadata": {},
   "source": [
    "#### Test outcome\n",
    "Results meet expectation"
   ]
  },
  {
   "cell_type": "markdown",
   "id": "ebfdefe4",
   "metadata": {},
   "source": [
    "## Section 4: Alignment and validation"
   ]
  },
  {
   "cell_type": "code",
   "execution_count": null,
   "id": "bdb7ad14-5725-4333-b5a8-9c13b8c4df47",
   "metadata": {},
   "outputs": [],
   "source": [
    "align_subdir = test_path + \"/\" + subdir_names[4] + \"/\"\n",
    "print(align_subdir)"
   ]
  },
  {
   "cell_type": "code",
   "execution_count": null,
   "id": "d8aebbe8",
   "metadata": {},
   "outputs": [],
   "source": [
    "### Prepare the \"Master\" for alignment and val tests below + load package\n",
    "import rasterio\n",
    "import matplotlib.pyplot as plt\n",
    "import os\n",
    "\n",
    "print(reproject_subdir)\n",
    "print(rescale_subdir)\n",
    "print(rebound_subdir)\n",
    "\n",
    "try:\n",
    "    test = gdgtm.get_cognames_static_stac(\"https://s3.eu-central-1.wasabisys.com/stac/openlandmap/land.cover_esacci.lc.l4/collection.json\")\n",
    "\n",
    "    bbox = (5.7663, 47.9163, 10.5532, 45.6755)\n",
    "\n",
    "    gdgtm.get_olm_cogs(cognames = test, \n",
    "                       target_directory = get_functions_subdir, \n",
    "                       target_names = \"olm_alc_switz_raw_\",\n",
    "                       bbox = bbox,\n",
    "                       interval = (\"20020601\", \"20050101\")\n",
    "                      )\n",
    "\n",
    "    gdgtm.reproject_raster(new_crs = \"ESRI:54028\", \n",
    "                           src_raster = get_functions_subdir + \"olm_alc_switz_raw_20040101.tif\",\n",
    "                           dst_raster = reproject_subdir + 'olm_alc_switz_reproj_20040101.tif',\n",
    "                           delete_source = True)\n",
    "\n",
    "    gdgtm.change_raster_res(target_res = 100,\n",
    "                        src_raster = reproject_subdir + 'olm_alc_switz_reproj_20040101.tif',\n",
    "                        dst_raster = rescale_subdir + 'olm_alc_switz_rescale_100_20040101.tif',\n",
    "                        delete_source = True\n",
    "                       )\n",
    "\n",
    "    new_bb = (515000, 5350000, 700000, 5100000)\n",
    "    gdgtm.set_raster_boundbox(target_bbox = new_bb,\n",
    "                              src_raster = rescale_subdir + \"olm_alc_switz_rescale_100_20040101.tif\",\n",
    "                              dst_raster = rebound_subdir + \"olm_alc_switz_rebound_100_20040101.tif\")\n",
    "except Exception as e:\n",
    "    print(f\"Function failed to generate output: {e}\")\n",
    "\n",
    "## Note: for the 0.3.0 tests, the source raster deletion in gdgtm.set_raster_boundbox still not working correctly!"
   ]
  },
  {
   "cell_type": "markdown",
   "id": "05b1bdfb",
   "metadata": {},
   "source": [
    "### align_raster"
   ]
  },
  {
   "cell_type": "code",
   "execution_count": null,
   "id": "8b36b954",
   "metadata": {},
   "outputs": [],
   "source": [
    "### align_raster (1): Failure: provide a link to a non-raster source\n",
    "\n",
    "try:\n",
    "    gdgtm.align_raster(source_raster = \"README.md\",\n",
    "                       target_raster = rebound_subdir + \"olm_alc_switz_rebound_100_20040101.tif\",\n",
    "                       dst_raster = align_subdir + \"olm_alc_switz_aligned_20040101.tif\",\n",
    "                       delete_source = False)\n",
    "except Exception as e:\n",
    "    print(f\"Function failed to generate output: {e}\")\n",
    "\n",
    "\n",
    "## Expected outcome: Error message"
   ]
  },
  {
   "cell_type": "markdown",
   "id": "b6ae40f3",
   "metadata": {},
   "source": [
    "#### Test outcome\n",
    "Results meet expectations"
   ]
  },
  {
   "cell_type": "code",
   "execution_count": null,
   "id": "b1d17c98",
   "metadata": {},
   "outputs": [],
   "source": [
    "### align_raster (2) Failure: same file, different projections and delete_source = False\n",
    "\n",
    "try:\n",
    "    test = gdgtm.get_cognames_static_stac(\"https://s3.eu-central-1.wasabisys.com/stac/openlandmap/land.cover_esacci.lc.l4/collection.json\")\n",
    "\n",
    "    bbox = (5.7663, 47.9163, 10.5532, 45.6755)\n",
    "\n",
    "    gdgtm.get_olm_cogs(cognames = test, \n",
    "                       target_directory = get_functions_subdir, \n",
    "                       target_names = \"olm_alc_switz_raw_\",\n",
    "                       bbox = bbox,\n",
    "                       interval = (\"20030601\", \"20050101\")\n",
    "                      )\n",
    "\n",
    "    gdgtm.align_raster(source_raster = get_functions_subdir + \"olm_alc_switz_raw_20040101.tif\",\n",
    "                       target_raster = rebound_subdir + \"olm_alc_switz_rebound_100_20040101.tif\",\n",
    "                       dst_raster = align_subdir + \"olm_alc_switz_aligned_20040101.tif\",\n",
    "                       delete_source = False)\n",
    "except Exception as e:\n",
    "    print(f\"Function failed to generate output: {e}\")\n",
    "\n",
    "\n",
    "try:\n",
    "    with rasterio.open(rebound_subdir + \"olm_alc_switz_rebound_100_20040101.tif\") as target:\n",
    "        target_data = target.read()\n",
    "    \n",
    "        plt.figure(figsize=(10, 10))\n",
    "        plt.imshow(target_data[0], cmap='terrain')\n",
    "        plt.show()\n",
    "    \n",
    "    with rasterio.open(align_subdir + \"olm_alc_switz_aligned_20040101.tif\") as dst:\n",
    "        dst_data = dst.read()\n",
    "    \n",
    "        plt.figure(figsize=(10, 10))\n",
    "        plt.imshow(dst_data[0], cmap='terrain')\n",
    "        plt.show()\n",
    "except Exception as e:\n",
    "    print(f\"Could not plot raster, or raster does not exist: {e}\")\n",
    "\n",
    "\n",
    "print(\"Source file retained: \" + str(os.path.exists(get_functions_subdir + \"olm_alc_switz_raw_20040101.tif\")))\n",
    "## Expected outcome: function runs successfully, but when visualized, the two rasters are not identical. Source remains in location"
   ]
  },
  {
   "cell_type": "markdown",
   "id": "7a2b75a9",
   "metadata": {},
   "source": [
    "#### Test outcome: \n",
    "\n",
    "Results match expectation (compare lower left-hand corner for minor differences present)"
   ]
  },
  {
   "cell_type": "code",
   "execution_count": null,
   "id": "bce3c5df",
   "metadata": {},
   "outputs": [],
   "source": [
    "### align raster (3) Happy path: same file from same projection and delete_source = True\n",
    "\n",
    "try:\n",
    "    gdgtm.reproject_raster(new_crs = \"ESRI:54028\", \n",
    "                           src_raster = get_functions_subdir + \"olm_alc_switz_raw_20040101.tif\",\n",
    "                           dst_raster = reproject_subdir + 'olm_alc_switz_reproj_20040101.tif',\n",
    "                           delete_source = False)\n",
    "\n",
    "    gdgtm.align_raster(source_raster = reproject_subdir + \"olm_alc_switz_reproj_20040101.tif\",\n",
    "                       target_raster = rebound_subdir + \"olm_alc_switz_rebound_100_20040101.tif\",\n",
    "                       dst_raster = align_subdir + \"olm_alc_switz_aligned_20040101.tif\",\n",
    "                       delete_source = True)\n",
    "except Exception as e:\n",
    "    print(f\"Function failed to generate output: {e}\")\n",
    "\n",
    "try:\n",
    "    with rasterio.open(rebound_subdir + \"olm_alc_switz_rebound_100_20040101.tif\") as target:\n",
    "        target_data = target.read()\n",
    "    \n",
    "        plt.figure(figsize=(10, 10))\n",
    "        plt.imshow(target_data[0], cmap='terrain')\n",
    "        plt.show()\n",
    "    \n",
    "    with rasterio.open(align_subdir + \"olm_alc_switz_aligned_20040101.tif\") as dst:\n",
    "        dst_data = dst.read()\n",
    "    \n",
    "        plt.figure(figsize=(10, 10))\n",
    "        plt.imshow(dst_data[0], cmap='terrain')\n",
    "        plt.show()\n",
    "except Exception as e:\n",
    "    print(f\"Could not plot raster, or raster does not exist: {e}\")    \n",
    "    \n",
    "print(\"Source file retained: \" + str(os.path.exists(reproject_subdir + \"olm_alc_switz_reproj_20040101.tif\")))\n",
    "\n",
    "## Expected outcome: two visualliy identical images and source successfully deleted"
   ]
  },
  {
   "cell_type": "markdown",
   "id": "9446ee56",
   "metadata": {},
   "source": [
    "#### Test outcome\n",
    "\n",
    "Results meet expectation"
   ]
  },
  {
   "cell_type": "markdown",
   "id": "552645a3",
   "metadata": {},
   "source": [
    "### validate_raster_alignment"
   ]
  },
  {
   "cell_type": "code",
   "execution_count": null,
   "id": "bfb17bf9",
   "metadata": {},
   "outputs": [],
   "source": [
    "### validate_raster_alignment (1): Failure: provide a link to a non-raster\n",
    "try:\n",
    "    gdgtm.validate_raster_alignment(\"README.md\",\n",
    "                                    align_subdir + \"olm_alc_switz_aligned_20040101.tif\")\n",
    "except Exception as e:\n",
    "    print(f\"Function failed to generate output: {e}\")\n",
    "## Expected outcome: Error message"
   ]
  },
  {
   "cell_type": "markdown",
   "id": "ddb1286b",
   "metadata": {},
   "source": [
    "#### Test outcome:"
   ]
  },
  {
   "cell_type": "code",
   "execution_count": null,
   "id": "3066f734",
   "metadata": {},
   "outputs": [],
   "source": [
    "### validate_raster_alignment (2): success, two matching rasters\n",
    "try:\n",
    "    gdgtm.validate_raster_alignment(rebound_subdir + \"olm_alc_switz_rebound_100_20040101.tif\",\n",
    "                                    align_subdir + \"olm_alc_switz_aligned_20040101.tif\")\n",
    "except Exception as e:\n",
    "    print(f\"Function failed to generate output: {e}\")\n",
    "## Expected outcome: result message with values set to True"
   ]
  },
  {
   "cell_type": "markdown",
   "id": "f1748b04",
   "metadata": {},
   "source": [
    "#### Test outcome\n",
    "Results match expectation"
   ]
  },
  {
   "cell_type": "code",
   "execution_count": null,
   "id": "a2171061",
   "metadata": {},
   "outputs": [],
   "source": [
    "### validate_raster_alignment (2): success, two non-matching rasters indicated\n",
    "\n",
    "try:\n",
    "    test = gdgtm.get_cognames_static_stac(\"https://s3.eu-central-1.wasabisys.com/stac/openlandmap/land.cover_esacci.lc.l4/collection.json\")\n",
    "\n",
    "    bbox = (5.7663, 47.9163, 10.5532, 45.6755)\n",
    "\n",
    "    gdgtm.get_olm_cogs(cognames = test, \n",
    "                       target_directory = get_functions_subdir, \n",
    "                       target_names = \"olm_alc_switz_raw_\",\n",
    "                       bbox = bbox,\n",
    "                       interval = (\"20030601\", \"20050101\")\n",
    "                      )\n",
    "\n",
    "    gdgtm.validate_raster_alignment(get_functions_subdir + \"olm_alc_switz_raw_20040101.tif\",\n",
    "                                    align_subdir + \"olm_alc_switz_aligned_20040101.tif\")\n",
    "except Exception as e:\n",
    "    print(f\"Function failed to generate output: {e}\")\n",
    "    \n",
    "## Expected outcome: result message with values set to False"
   ]
  },
  {
   "cell_type": "markdown",
   "id": "3a1b4d13",
   "metadata": {},
   "source": [
    "#### Test outcome\n",
    "\n",
    "Results meet expectation"
   ]
  },
  {
   "cell_type": "markdown",
   "id": "5d01b44c",
   "metadata": {},
   "source": [
    "### align_validate_raster"
   ]
  },
  {
   "cell_type": "code",
   "execution_count": null,
   "id": "bbd8789e",
   "metadata": {},
   "outputs": [],
   "source": [
    "### align_validate_raster (1): Failure: provide a link to a non-raster\n",
    "try:\n",
    "    gdgtm.align_validate_raster(source_raster = \"README.md\",\n",
    "                                target_raster = rebound_subdir + \"olm_alc_switz_rebound_100_20040101.tif\",\n",
    "                                dst_raster = align_subdir + \"olm_alc_switz_aligned_20040101.tif\",\n",
    "                                delete_source = False)\n",
    "except Exception as e:\n",
    "    print(f\"Function failed to generate output: {e}\")\n",
    "\n",
    "## Expected outcome: Error message"
   ]
  },
  {
   "cell_type": "markdown",
   "id": "c0844a00",
   "metadata": {},
   "source": [
    "#### Test outcome:\n",
    "\n",
    "Results meet expectation"
   ]
  },
  {
   "cell_type": "code",
   "execution_count": null,
   "id": "9b528c0a",
   "metadata": {},
   "outputs": [],
   "source": [
    "### align_validate_raster (2): Happy path between two identical projections, source not deleted: Prep stage\n",
    "\n",
    "try:\n",
    "    test = gdgtm.get_cognames_static_stac(\"https://s3.eu-central-1.wasabisys.com/stac/openlandmap/land.cover_esacci.lc.l4/collection.json\")\n",
    "\n",
    "    bbox = (5.7663, 47.9163, 10.5532, 45.6755)\n",
    "\n",
    "    gdgtm.get_olm_cogs(cognames = test, \n",
    "                       target_directory = get_functions_subdir, \n",
    "                       target_names = \"olm_alc_switz_raw_\",\n",
    "                       bbox = bbox,\n",
    "                       interval = (\"20030601\", \"20050101\")\n",
    "                      )\n",
    "\n",
    "    gdgtm.reproject_raster(new_crs = \"ESRI:54028\", \n",
    "                           src_raster = get_functions_subdir + 'olm_alc_switz_raw_20040101.tif',\n",
    "                           dst_raster = reproject_subdir + 'olm_alc_switz_reproj_20040101.tif',\n",
    "                           delete_source = False)\n",
    "except Exception as e:\n",
    "    print(f\"Function failed to generate output: {e}\")\n",
    "    "
   ]
  },
  {
   "cell_type": "code",
   "execution_count": null,
   "id": "16ae49f8",
   "metadata": {},
   "outputs": [],
   "source": [
    "### align_validate_raster (2): Happy path between two identical projections, source not deleted\n",
    "\n",
    "\n",
    "try:\n",
    "    outcome = gdgtm.align_validate_raster(source_raster = reproject_subdir + \"olm_alc_switz_reproj_20040101.tif\",\n",
    "                                          target_raster = rebound_subdir + \"olm_alc_switz_rebound_100_20040101.tif\",\n",
    "                                          dst_raster = align_subdir + \"olm_alc_switz_aligned_20040101.tif\",\n",
    "                                          delete_source = False)\n",
    "except Exception as e:\n",
    "    print(f\"Function failed to generate output: {e}\")\n",
    "    \n",
    "try:\n",
    "    with rasterio.open(rebound_subdir + \"olm_alc_switz_rebound_100_20040101.tif\") as target:\n",
    "        target_data = target.read()\n",
    "    \n",
    "        plt.figure(figsize=(10, 10))\n",
    "        plt.imshow(target_data[0], cmap='terrain')\n",
    "        plt.show()\n",
    "    \n",
    "    with rasterio.open(align_subdir + \"olm_alc_switz_aligned_20040101.tif\") as dst:\n",
    "        dst_data = dst.read()\n",
    "    \n",
    "        plt.figure(figsize=(10, 10))\n",
    "        plt.imshow(dst_data[0], cmap='terrain')\n",
    "        plt.show()\n",
    "except Exception as e:\n",
    "    print(f\"Could not plot raster, or raster does not exist: {e}\")\n",
    "\n",
    "print(\"Source file retained: \" + str(os.path.exists(reproject_subdir + \"olm_alc_switz_reproj_20040101.tif\")))\n",
    "print(outcome)\n",
    "    \n",
    "## Expected outcome: Successful validation target vs dst, no indication of any reprojection, source still present"
   ]
  },
  {
   "cell_type": "markdown",
   "id": "3081d0c5",
   "metadata": {},
   "source": [
    "#### Test outcome: Results meet expectations"
   ]
  },
  {
   "cell_type": "code",
   "execution_count": null,
   "id": "f2ba4108",
   "metadata": {},
   "outputs": [],
   "source": [
    "### align_validate_raster (3): Happy path between two different projections\n",
    "\n",
    "try:\n",
    "    outcome = gdgtm.align_validate_raster(source_raster = get_functions_subdir + \"olm_alc_switz_raw_20040101.tif\",\n",
    "                                          target_raster = rebound_subdir + \"olm_alc_switz_rebound_100_20040101.tif\",\n",
    "                                          dst_raster = align_subdir + \"olm_alc_switz_aligned_20040101.tif\",\n",
    "                                          delete_source = False)\n",
    "except Exception as e:\n",
    "    print(f\"Function failed to generate output: {e}\")\n",
    "\n",
    "\n",
    "try:\n",
    "    with rasterio.open(rebound_subdir + \"olm_alc_switz_rebound_100_20040101.tif\") as target:\n",
    "        target_data = target.read()\n",
    "    \n",
    "        plt.figure(figsize=(10, 10))\n",
    "        plt.imshow(target_data[0], cmap='terrain')\n",
    "        plt.show()\n",
    "    \n",
    "    with rasterio.open(align_subdir +\"olm_alc_switz_aligned_20040101.tif\") as dst:\n",
    "        dst_data = dst.read()\n",
    "    \n",
    "        plt.figure(figsize=(10, 10))\n",
    "        plt.imshow(dst_data[0], cmap='terrain')\n",
    "        plt.show()\n",
    "except Exception as e:\n",
    "    print(f\"Could not plot raster, or raster does not exist: {e}\")\n",
    "\n",
    "print(\"Source file retained: \" + str(os.path.exists(get_functions_subdir + \"olm_alc_switz_raw_20040101.tif\")))\n",
    "print(outcome)\n",
    "  \n",
    "\n",
    "## Expected outcome: Successful validation target vs dst, reprojection message, source still present"
   ]
  },
  {
   "cell_type": "markdown",
   "id": "f1bb478a",
   "metadata": {},
   "source": [
    "#### Test outcome: Results meet expectation"
   ]
  },
  {
   "cell_type": "code",
   "execution_count": null,
   "id": "ada8036a",
   "metadata": {},
   "outputs": [],
   "source": [
    "### align_validate_raster (4): Happy path between different two projections from two different raw sources\n",
    "### + source deletion by default\n",
    "\n",
    "try:\n",
    "    gdgtm.get_chelsa_daily(parameter = \"tas\", \n",
    "                           bbox = (5.7663, 47.9163, 10.5532, 45.6755), \n",
    "                           interval = (\"2023-1-1\", \"2023-1-1\"), \n",
    "                           dst_path = get_functions_subdir,\n",
    "                           dst_name = \"chelsa_tas_\"\n",
    "                          )\n",
    "\n",
    "    outcome = gdgtm.align_validate_raster(source_raster = get_functions_subdir + \"chelsa_tas_01_01_2023.tif\",\n",
    "                                          target_raster = rebound_subdir + \"olm_alc_switz_rebound_100_20040101.tif\",\n",
    "                                          dst_raster = align_subdir + \"chelsa_tas_aligned.tif\"\n",
    "                                         )\n",
    "except Exception as e:\n",
    "    print(f\"Function failed to generate output: {e}\")\n",
    "\n",
    "try:\n",
    "    with rasterio.open(rebound_subdir + \"olm_alc_switz_rebound_100_20040101.tif\") as target:\n",
    "        target_data = target.read()\n",
    "    \n",
    "        plt.figure(figsize=(10, 10))\n",
    "        plt.imshow(target_data[0], cmap='terrain') # For single-band raster\n",
    "        # plt.imshow(data.transpose(1, 2, 0)) # For multi-band raster\n",
    "        plt.show()\n",
    "    \n",
    "    with rasterio.open(align_subdir + \"chelsa_tas_aligned.tif\") as dst:\n",
    "        dst_data = dst.read(masked = True)\n",
    "    \n",
    "        plt.figure(figsize=(10, 10))\n",
    "        plt.imshow(dst_data[0], cmap='terrain') # For single-band raster\n",
    "        # plt.imshow(data.transpose(1, 2, 0)) # For multi-band raster\n",
    "        plt.show()\n",
    "except Exception as e:\n",
    "    print(f\"Could not plot raster, or raster does not exist: {e}\")\n",
    "\n",
    "print(\"Source file retained: \" + str(os.path.exists(get_functions_subdir + \"chelsa_tas_raw.tif\")))\n",
    "\n",
    "print(outcome)  \n",
    "\n",
    "## Expected outcome: Successful validation target vs dst, reprojection message, source not present"
   ]
  },
  {
   "cell_type": "markdown",
   "id": "891e4bb1",
   "metadata": {},
   "source": [
    "#### Test outcome:\n",
    "Results meet expectations (due to Rasterio limits had to be confirmed in QGIS)."
   ]
  },
  {
   "cell_type": "markdown",
   "id": "44f49f2c",
   "metadata": {},
   "source": [
    "## Section 5: STAC get functions"
   ]
  },
  {
   "cell_type": "markdown",
   "id": "7ae7ef8a-647a-4580-ba51-c176846722e7",
   "metadata": {},
   "source": [
    "### summarize_stac"
   ]
  },
  {
   "cell_type": "code",
   "execution_count": null,
   "id": "800970a4-aaa7-465a-9dba-72269d66761a",
   "metadata": {},
   "outputs": [],
   "source": [
    "try:\n",
    "    sum_stac_test_1 = gdgtm.summarize_static_stac(\"http://s3.eu-central-1.wasabisys.com/stac/openlandmap/catalog.json\")\n",
    "    display(sum_stac_test_1)\n",
    "except Exception as e:\n",
    "    print(f\"Table could not be generated: {e}\")\n",
    "##Expectation: a table presentation of the resulting Pandas DF"
   ]
  },
  {
   "cell_type": "markdown",
   "id": "7ddc84ca-3485-41ca-8051-0c044fd359d6",
   "metadata": {},
   "source": [
    "#### Test outcome:\n",
    "Result meets expectations"
   ]
  },
  {
   "cell_type": "code",
   "execution_count": null,
   "id": "c769775a-220e-4618-80aa-2750a76d18f9",
   "metadata": {},
   "outputs": [],
   "source": [
    "try:\n",
    "    sum_stac_test_2 = gdgtm.summarize_static_stac(\"https://storage.googleapis.com/cfo-public/catalog.json\")\n",
    "    display(sum_stac_test_2)\n",
    "except Exception as e:\n",
    "    print(f\"Table could not be generated: {e}\")\n",
    "\n",
    "##Expectation: a table presentation of the resulting Pandas DF"
   ]
  },
  {
   "cell_type": "markdown",
   "id": "60e79585-aa90-4227-85bf-f64936af95f0",
   "metadata": {},
   "source": [
    "#### Test outcome:\n",
    "Results meet expectations"
   ]
  },
  {
   "cell_type": "code",
   "execution_count": null,
   "id": "2020ff3a-2999-474a-a18c-082f1f636548",
   "metadata": {},
   "outputs": [],
   "source": [
    "try:\n",
    "    sum_stac_test_3 = gdgtm.summarize_static_stac(\"https://wikipedia.org\")\n",
    "    display(sum_stac_test_3)\n",
    "except Exception as e:\n",
    "    print(f\"Table could not be generated: {e}\")\n",
    "\n",
    "##Expectation: error"
   ]
  },
  {
   "cell_type": "markdown",
   "id": "eb71e136-0287-4b64-a1e6-163ba1211c5c",
   "metadata": {},
   "source": [
    "#### Test outcome:\n",
    "Results meet expectation.\n"
   ]
  },
  {
   "cell_type": "markdown",
   "id": "6c8dd6d1-90e3-4ea9-a1b1-d6526ee4ebf9",
   "metadata": {},
   "source": [
    "## Section 6: Shapefile conversion"
   ]
  },
  {
   "cell_type": "markdown",
   "id": "252a2ad1-0312-48a9-ba49-f1ff7fbdc788",
   "metadata": {},
   "source": [
    "**Note:** this test only conducts the regression on the wrapper function (rasterize_shape). "
   ]
  },
  {
   "cell_type": "markdown",
   "id": "617f750f-7d5a-4d00-ac57-fd0ec39b096d",
   "metadata": {},
   "source": [
    "### rasterize_shape"
   ]
  },
  {
   "cell_type": "code",
   "execution_count": 10,
   "id": "487ca7bf-2f8a-4d89-8d14-a2986ba60810",
   "metadata": {},
   "outputs": [
    {
     "name": "stdout",
     "output_type": "stream",
     "text": [
      "/home/pete/Documents/tests_and_vals/gdgtm_test/09_rasters_from_shp/\n"
     ]
    }
   ],
   "source": [
    "### Download the shapefiles from Github into the test repos and prep test folder path\n",
    "rasterizing_subdir = test_path + \"/\" + subdir_names[8] + \"/\"\n",
    "print(rasterizing_subdir)\n"
   ]
  },
  {
   "cell_type": "code",
   "execution_count": 11,
   "id": "1420abd3-593b-41ef-a20c-5bee8d3f6eff",
   "metadata": {},
   "outputs": [
    {
     "name": "stderr",
     "output_type": "stream",
     "text": [
      "--2024-06-11 11:45:15--  https://github.com/pete-jacobsson/gdgtm/raw/test/test_and_demo_files.zip\n",
      "Resolving github.com (github.com)... 140.82.121.3\n",
      "Connecting to github.com (github.com)|140.82.121.3|:443... connected.\n",
      "HTTP request sent, awaiting response... 302 Found\n",
      "Location: https://raw.githubusercontent.com/pete-jacobsson/gdgtm/test/test_and_demo_files.zip [following]\n",
      "--2024-06-11 11:45:15--  https://raw.githubusercontent.com/pete-jacobsson/gdgtm/test/test_and_demo_files.zip\n",
      "Resolving raw.githubusercontent.com (raw.githubusercontent.com)... 185.199.110.133, 185.199.108.133, 185.199.109.133, ...\n",
      "Connecting to raw.githubusercontent.com (raw.githubusercontent.com)|185.199.110.133|:443... connected.\n",
      "HTTP request sent, awaiting response... 200 OK\n",
      "Length: 10147856 (9.7M) [application/zip]\n",
      "Saving to: ‘/home/pete/Documents/tests_and_vals/gdgtm_test/09_rasters_from_shp/test_demo_zip’\n",
      "\n",
      "     0K .......... .......... .......... .......... ..........  0% 4.22M 2s\n",
      "    50K .......... .......... .......... .......... ..........  1% 11.0M 2s\n",
      "   100K .......... .......... .......... .......... ..........  1% 7.97M 1s\n",
      "   150K .......... .......... .......... .......... ..........  2% 12.4M 1s\n",
      "   200K .......... .......... .......... .......... ..........  2% 10.0M 1s\n",
      "   250K .......... .......... .......... .......... ..........  3% 15.1M 1s\n",
      "   300K .......... .......... .......... .......... ..........  3% 13.2M 1s\n",
      "   350K .......... .......... .......... .......... ..........  4%  127M 1s\n",
      "   400K .......... .......... .......... .......... ..........  4% 24.6M 1s\n",
      "   450K .......... .......... .......... .......... ..........  5% 12.6M 1s\n",
      "   500K .......... .......... .......... .......... ..........  5%  150M 1s\n",
      "   550K .......... .......... .......... .......... ..........  6% 19.4M 1s\n",
      "   600K .......... .......... .......... .......... ..........  6% 25.1M 1s\n",
      "   650K .......... .......... .......... .......... ..........  7% 21.1M 1s\n",
      "   700K .......... .......... .......... .......... ..........  7%  114M 1s\n",
      "   750K .......... .......... .......... .......... ..........  8% 6.37M 1s\n",
      "   800K .......... .......... .......... .......... ..........  8% 97.8M 1s\n",
      "   850K .......... .......... .......... .......... ..........  9%  148M 1s\n",
      "   900K .......... .......... .......... .......... ..........  9%  158M 1s\n",
      "   950K .......... .......... .......... .......... .......... 10% 11.4M 1s\n",
      "  1000K .......... .......... .......... .......... .......... 10% 68.1M 1s\n",
      "  1050K .......... .......... .......... .......... .......... 11% 88.1M 1s\n",
      "  1100K .......... .......... .......... .......... .......... 11% 72.3M 1s\n",
      "  1150K .......... .......... .......... .......... .......... 12% 88.7M 0s\n",
      "  1200K .......... .......... .......... .......... .......... 12% 11.2M 0s\n",
      "  1250K .......... .......... .......... .......... .......... 13% 91.8M 0s\n",
      "  1300K .......... .......... .......... .......... .......... 13% 76.5M 0s\n",
      "  1350K .......... .......... .......... .......... .......... 14% 92.6M 0s\n",
      "  1400K .......... .......... .......... .......... .......... 14% 94.2M 0s\n",
      "  1450K .......... .......... .......... .......... .......... 15% 94.2M 0s\n",
      "  1500K .......... .......... .......... .......... .......... 15% 4.90M 0s\n",
      "  1550K .......... .......... .......... .......... .......... 16%  138M 0s\n",
      "  1600K .......... .......... .......... .......... .......... 16%  134M 0s\n",
      "  1650K .......... .......... .......... .......... .......... 17%  138M 0s\n",
      "  1700K .......... .......... .......... .......... .......... 17% 10.0M 0s\n",
      "  1750K .......... .......... .......... .......... .......... 18%  125M 0s\n",
      "  1800K .......... .......... .......... .......... .......... 18%  119M 0s\n",
      "  1850K .......... .......... .......... .......... .......... 19%  141M 0s\n",
      "  1900K .......... .......... .......... .......... .......... 19% 1.65M 0s\n",
      "  1950K .......... .......... .......... .......... .......... 20%  109M 0s\n",
      "  2000K .......... .......... .......... .......... .......... 20%  116M 0s\n",
      "  2050K .......... .......... .......... .......... .......... 21% 5.65M 0s\n",
      "  2100K .......... .......... .......... .......... .......... 21% 67.0M 0s\n",
      "  2150K .......... .......... .......... .......... .......... 22% 67.6M 0s\n",
      "  2200K .......... .......... .......... .......... .......... 22% 86.4M 0s\n",
      "  2250K .......... .......... .......... .......... .......... 23% 88.0M 0s\n",
      "  2300K .......... .......... .......... .......... .......... 23% 75.2M 0s\n",
      "  2350K .......... .......... .......... .......... .......... 24% 89.0M 0s\n",
      "  2400K .......... .......... .......... .......... .......... 24% 81.3M 0s\n",
      "  2450K .......... .......... .......... .......... .......... 25% 91.7M 0s\n",
      "  2500K .......... .......... .......... .......... .......... 25% 73.2M 0s\n",
      "  2550K .......... .......... .......... .......... .......... 26% 84.1M 0s\n",
      "  2600K .......... .......... .......... .......... .......... 26% 87.5M 0s\n",
      "  2650K .......... .......... .......... .......... .......... 27% 85.0M 0s\n",
      "  2700K .......... .......... .......... .......... .......... 27% 77.1M 0s\n",
      "  2750K .......... .......... .......... .......... .......... 28% 81.8M 0s\n",
      "  2800K .......... .......... .......... .......... .......... 28% 86.6M 0s\n",
      "  2850K .......... .......... .......... .......... .......... 29% 88.1M 0s\n",
      "  2900K .......... .......... .......... .......... .......... 29% 72.8M 0s\n",
      "  2950K .......... .......... .......... .......... .......... 30% 87.1M 0s\n",
      "  3000K .......... .......... .......... .......... .......... 30% 85.8M 0s\n",
      "  3050K .......... .......... .......... .......... .......... 31% 85.4M 0s\n",
      "  3100K .......... .......... .......... .......... .......... 31% 75.7M 0s\n",
      "  3150K .......... .......... .......... .......... .......... 32% 89.8M 0s\n",
      "  3200K .......... .......... .......... .......... .......... 32% 94.2M 0s\n",
      "  3250K .......... .......... .......... .......... .......... 33% 89.5M 0s\n",
      "  3300K .......... .......... .......... .......... .......... 33% 70.4M 0s\n",
      "  3350K .......... .......... .......... .......... .......... 34% 85.9M 0s\n",
      "  3400K .......... .......... .......... .......... .......... 34% 78.3M 0s\n",
      "  3450K .......... .......... .......... .......... .......... 35% 7.11M 0s\n",
      "  3500K .......... .......... .......... .......... .......... 35%  103M 0s\n",
      "  3550K .......... .......... .......... .......... .......... 36%  111M 0s\n",
      "  3600K .......... .......... .......... .......... .......... 36%  114M 0s\n",
      "  3650K .......... .......... .......... .......... .......... 37%  122M 0s\n",
      "  3700K .......... .......... .......... .......... .......... 37% 10.7M 0s\n",
      "  3750K .......... .......... .......... .......... .......... 38%  135M 0s\n",
      "  3800K .......... .......... .......... .......... .......... 38%  136M 0s\n",
      "  3850K .......... .......... .......... .......... .......... 39%  141M 0s\n",
      "  3900K .......... .......... .......... .......... .......... 39%  123M 0s\n",
      "  3950K .......... .......... .......... .......... .......... 40% 8.71M 0s\n",
      "  4000K .......... .......... .......... .......... .......... 40%  122M 0s\n",
      "  4050K .......... .......... .......... .......... .......... 41%  113M 0s\n",
      "  4100K .......... .......... .......... .......... .......... 41%  133M 0s\n",
      "  4150K .......... .......... .......... .......... .......... 42%  123M 0s\n",
      "  4200K .......... .......... .......... .......... .......... 42% 9.32M 0s\n",
      "  4250K .......... .......... .......... .......... .......... 43%  114M 0s\n",
      "  4300K .......... .......... .......... .......... .......... 43%  107M 0s\n",
      "  4350K .......... .......... .......... .......... .......... 44% 97.8M 0s\n",
      "  4400K .......... .......... .......... .......... .......... 44%  136M 0s\n",
      "  4450K .......... .......... .......... .......... .......... 45% 9.23M 0s\n",
      "  4500K .......... .......... .......... .......... .......... 45%  126M 0s\n",
      "  4550K .......... .......... .......... .......... .......... 46%  112M 0s\n",
      "  4600K .......... .......... .......... .......... .......... 46%  108M 0s\n",
      "  4650K .......... .......... .......... .......... .......... 47%  120M 0s\n",
      "  4700K .......... .......... .......... .......... .......... 47% 9.72M 0s\n",
      "  4750K .......... .......... .......... .......... .......... 48%  134M 0s\n",
      "  4800K .......... .......... .......... .......... .......... 48%  124M 0s\n",
      "  4850K .......... .......... .......... .......... .......... 49%  115M 0s\n",
      "  4900K .......... .......... .......... .......... .......... 49%  128M 0s\n",
      "  4950K .......... .......... .......... .......... .......... 50% 11.0M 0s\n",
      "  5000K .......... .......... .......... .......... .......... 50% 74.9M 0s\n",
      "  5050K .......... .......... .......... .......... .......... 51% 84.3M 0s\n",
      "  5100K .......... .......... .......... .......... .......... 51% 84.3M 0s\n",
      "  5150K .......... .......... .......... .......... .......... 52%  111M 0s\n",
      "  5200K .......... .......... .......... .......... .......... 52% 9.63M 0s\n",
      "  5250K .......... .......... .......... .......... .......... 53%  114M 0s\n",
      "  5300K .......... .......... .......... .......... .......... 53%  140M 0s\n",
      "  5350K .......... .......... .......... .......... .......... 54%  136M 0s\n",
      "  5400K .......... .......... .......... .......... .......... 54% 10.5M 0s\n",
      "  5450K .......... .......... .......... .......... .......... 55%  116M 0s\n",
      "  5500K .......... .......... .......... .......... .......... 56%  138M 0s\n",
      "  5550K .......... .......... .......... .......... .......... 56% 3.70M 0s\n",
      "  5600K .......... .......... .......... .......... .......... 57% 76.5M 0s\n",
      "  5650K .......... .......... .......... .......... .......... 57% 96.0M 0s\n",
      "  5700K .......... .......... .......... .......... .......... 58%  106M 0s\n",
      "  5750K .......... .......... .......... .......... .......... 58% 94.9M 0s\n",
      "  5800K .......... .......... .......... .......... .......... 59% 13.8M 0s\n",
      "  5850K .......... .......... .......... .......... .......... 59%  115M 0s\n",
      "  5900K .......... .......... .......... .......... .......... 60%  110M 0s\n",
      "  5950K .......... .......... .......... .......... .......... 60%  121M 0s\n",
      "  6000K .......... .......... .......... .......... .......... 61%  103M 0s\n",
      "  6050K .......... .......... .......... .......... .......... 61% 12.0M 0s\n",
      "  6100K .......... .......... .......... .......... .......... 62%  159M 0s\n",
      "  6150K .......... .......... .......... .......... .......... 62%  161M 0s\n",
      "  6200K .......... .......... .......... .......... .......... 63%  142M 0s\n",
      "  6250K .......... .......... .......... .......... .......... 63%  127M 0s\n",
      "  6300K .......... .......... .......... .......... .......... 64% 8.96M 0s\n",
      "  6350K .......... .......... .......... .......... .......... 64%  184M 0s\n",
      "  6400K .......... .......... .......... .......... .......... 65%  178M 0s\n",
      "  6450K .......... .......... .......... .......... .......... 65%  205M 0s\n",
      "  6500K .......... .......... .......... .......... .......... 66% 3.59M 0s\n",
      "  6550K .......... .......... .......... .......... .......... 66%  169M 0s\n",
      "  6600K .......... .......... .......... .......... .......... 67%  196M 0s\n",
      "  6650K .......... .......... .......... .......... .......... 67%  198M 0s\n",
      "  6700K .......... .......... .......... .......... .......... 68%  200M 0s\n",
      "  6750K .......... .......... .......... .......... .......... 68% 10.6M 0s\n",
      "  6800K .......... .......... .......... .......... .......... 69%  212M 0s\n",
      "  6850K .......... .......... .......... .......... .......... 69%  212M 0s\n",
      "  6900K .......... .......... .......... .......... .......... 70%  203M 0s\n",
      "  6950K .......... .......... .......... .......... .......... 70%  174M 0s\n",
      "  7000K .......... .......... .......... .......... .......... 71% 8.39M 0s\n",
      "  7050K .......... .......... .......... .......... .......... 71%  210M 0s\n",
      "  7100K .......... .......... .......... .......... .......... 72%  207M 0s\n",
      "  7150K .......... .......... .......... .......... .......... 72%  179M 0s\n",
      "  7200K .......... .......... .......... .......... .......... 73%  191M 0s\n",
      "  7250K .......... .......... .......... .......... .......... 73% 10.7M 0s\n",
      "  7300K .......... .......... .......... .......... .......... 74%  209M 0s\n",
      "  7350K .......... .......... .......... .......... .......... 74%  175M 0s\n",
      "  7400K .......... .......... .......... .......... .......... 75%  201M 0s\n",
      "  7450K .......... .......... .......... .......... .......... 75% 5.94M 0s\n",
      "  7500K .......... .......... .......... .......... .......... 76%  180M 0s\n",
      "  7550K .......... .......... .......... .......... .......... 76%  207M 0s\n",
      "  7600K .......... .......... .......... .......... .......... 77%  205M 0s\n",
      "  7650K .......... .......... .......... .......... .......... 77%  160M 0s\n",
      "  7700K .......... .......... .......... .......... .......... 78% 10.5M 0s\n",
      "  7750K .......... .......... .......... .......... .......... 78%  206M 0s\n",
      "  7800K .......... .......... .......... .......... .......... 79%  203M 0s\n",
      "  7850K .......... .......... .......... .......... .......... 79%  198M 0s\n",
      "  7900K .......... .......... .......... .......... .......... 80%  177M 0s\n",
      "  7950K .......... .......... .......... .......... .......... 80% 10.5M 0s\n",
      "  8000K .......... .......... .......... .......... .......... 81%  195M 0s\n",
      "  8050K .......... .......... .......... .......... .......... 81%  172M 0s\n",
      "  8100K .......... .......... .......... .......... .......... 82%  203M 0s\n",
      "  8150K .......... .......... .......... .......... .......... 82%  206M 0s\n",
      "  8200K .......... .......... .......... .......... .......... 83% 7.92M 0s\n",
      "  8250K .......... .......... .......... .......... .......... 83%  192M 0s\n",
      "  8300K .......... .......... .......... .......... .......... 84%  148M 0s\n",
      "  8350K .......... .......... .......... .......... .......... 84%  217M 0s\n",
      "  8400K .......... .......... .......... .......... .......... 85%  221M 0s\n",
      "  8450K .......... .......... .......... .......... .......... 85% 3.53M 0s\n",
      "  8500K .......... .......... .......... .......... .......... 86%  120M 0s\n",
      "  8550K .......... .......... .......... .......... .......... 86%  124M 0s\n",
      "  8600K .......... .......... .......... .......... .......... 87%  117M 0s\n",
      "  8650K .......... .......... .......... .......... .......... 87% 81.0M 0s\n",
      "  8700K .......... .......... .......... .......... .......... 88% 12.4M 0s\n",
      "  8750K .......... .......... .......... .......... .......... 88% 88.0M 0s\n",
      "  8800K .......... .......... .......... .......... .......... 89% 88.3M 0s\n",
      "  8850K .......... .......... .......... .......... .......... 89% 73.8M 0s\n",
      "  8900K .......... .......... .......... .......... .......... 90% 14.0M 0s\n",
      "  8950K .......... .......... .......... .......... .......... 90% 94.3M 0s\n",
      "  9000K .......... .......... .......... .......... .......... 91% 86.6M 0s\n",
      "  9050K .......... .......... .......... .......... .......... 91% 78.2M 0s\n",
      "  9100K .......... .......... .......... .......... .......... 92% 85.0M 0s\n",
      "  9150K .......... .......... .......... .......... .......... 92% 89.0M 0s\n",
      "  9200K .......... .......... .......... .......... .......... 93% 9.73M 0s\n",
      "  9250K .......... .......... .......... .......... .......... 93%  107M 0s\n",
      "  9300K .......... .......... .......... .......... .......... 94%  142M 0s\n",
      "  9350K .......... .......... .......... .......... .......... 94%  143M 0s\n",
      "  9400K .......... .......... .......... .......... .......... 95% 3.82M 0s\n",
      "  9450K .......... .......... .......... .......... .......... 95% 90.2M 0s\n",
      "  9500K .......... .......... .......... .......... .......... 96% 97.0M 0s\n",
      "  9550K .......... .......... .......... .......... .......... 96% 94.9M 0s\n",
      "  9600K .......... .......... .......... .......... .......... 97% 80.4M 0s\n",
      "  9650K .......... .......... .......... .......... .......... 97% 6.32M 0s\n",
      "  9700K .......... .......... .......... .......... .......... 98% 78.2M 0s\n",
      "  9750K .......... .......... .......... .......... .......... 98% 88.2M 0s\n",
      "  9800K .......... .......... .......... .......... .......... 99% 88.4M 0s\n",
      "  9850K .......... .......... .......... .......... .......... 99% 73.1M 0s\n",
      "  9900K ..........                                            100%  126M=0.4s\n",
      "\n",
      "2024-06-11 11:45:16 (27.0 MB/s) - ‘/home/pete/Documents/tests_and_vals/gdgtm_test/09_rasters_from_shp/test_demo_zip’ saved [10147856/10147856]\n",
      "\n"
     ]
    },
    {
     "name": "stdout",
     "output_type": "stream",
     "text": [
      "Archive:  /home/pete/Documents/tests_and_vals/gdgtm_test/09_rasters_from_shp/test_demo_zip\n",
      "  inflating: /home/pete/Documents/tests_and_vals/gdgtm_test/09_rasters_from_shp/STRUCTHELV_LINE_AUX.dbf  \n",
      "  inflating: /home/pete/Documents/tests_and_vals/gdgtm_test/09_rasters_from_shp/STRUCTHELV_LINE_AUX.prj  \n",
      "  inflating: /home/pete/Documents/tests_and_vals/gdgtm_test/09_rasters_from_shp/STRUCTHELV_LINE_AUX.sbn  \n",
      "  inflating: /home/pete/Documents/tests_and_vals/gdgtm_test/09_rasters_from_shp/STRUCTHELV_LINE_AUX.sbx  \n",
      "  inflating: /home/pete/Documents/tests_and_vals/gdgtm_test/09_rasters_from_shp/STRUCTHELV_LINE_AUX.shp  \n",
      "  inflating: /home/pete/Documents/tests_and_vals/gdgtm_test/09_rasters_from_shp/STRUCTHELV_LINE_AUX.shp.xml  \n",
      "  inflating: /home/pete/Documents/tests_and_vals/gdgtm_test/09_rasters_from_shp/STRUCTHELV_LINE_AUX.shx  \n",
      "  inflating: /home/pete/Documents/tests_and_vals/gdgtm_test/09_rasters_from_shp/STRUCTHELV_POLYGON_MAIN.dbf  \n",
      "  inflating: /home/pete/Documents/tests_and_vals/gdgtm_test/09_rasters_from_shp/STRUCTHELV_POLYGON_MAIN.prj  \n",
      "  inflating: /home/pete/Documents/tests_and_vals/gdgtm_test/09_rasters_from_shp/STRUCTHELV_POLYGON_MAIN.shp  \n",
      "  inflating: /home/pete/Documents/tests_and_vals/gdgtm_test/09_rasters_from_shp/STRUCTHELV_POLYGON_MAIN.shp.xml  \n",
      "  inflating: /home/pete/Documents/tests_and_vals/gdgtm_test/09_rasters_from_shp/STRUCTHELV_POLYGON_MAIN.shx  \n",
      "  inflating: /home/pete/Documents/tests_and_vals/gdgtm_test/09_rasters_from_shp/gadm41_CHE_3.cpg  \n",
      "  inflating: /home/pete/Documents/tests_and_vals/gdgtm_test/09_rasters_from_shp/gadm41_CHE_3.dbf  \n",
      "  inflating: /home/pete/Documents/tests_and_vals/gdgtm_test/09_rasters_from_shp/gadm41_CHE_3.prj  \n",
      "  inflating: /home/pete/Documents/tests_and_vals/gdgtm_test/09_rasters_from_shp/gadm41_CHE_3.shp  \n",
      "  inflating: /home/pete/Documents/tests_and_vals/gdgtm_test/09_rasters_from_shp/gadm41_CHE_3.shx  \n"
     ]
    }
   ],
   "source": [
    "%%capture\n",
    "# url_structhelv_line = \"https://github.com/pete-jacobsson/gdgtm/raw/test/test_and_demo_files/STRUCTHELV_LINE_AUX.shp\"\n",
    "# url_structhelv_poly = \"https://github.com/pete-jacobsson/gdgtm/raw/test/test_and_demo_files/STRUCTHELV_POLYGON_MAIN.shp\"\n",
    "# url_gadm41 = \"https://github.com/pete-jacobsson/gdgtm/raw/test/test_and_demo_files/gadm41_CHE_3.shp\"\n",
    "url_zip = \"https://github.com/pete-jacobsson/gdgtm/raw/test/test_and_demo_files.zip\"\n",
    "\n",
    "import os\n",
    "import zipfile\n",
    "\n",
    "# filename_structhelv_line = rasterizing_subdir + \"structhelv_line.shp\"\n",
    "# filename_structhelv_poly = rasterizing_subdir + \"structhelv_poly.shp\"\n",
    "# filename_gadm41 = rasterizing_subdir + \"gadm41.shp\"\n",
    "filename_zip = rasterizing_subdir + \"test_demo_zip\"\n",
    "\n",
    "# os.system(f\"wget -O {filename_structhelv_line} {url_structhelv_line}\")\n",
    "# os.system(f\"wget -O {filename_structhelv_poly} {url_structhelv_poly}\")\n",
    "# os.system(f\"wget -O {filename_gadm41} {url_gadm41}\")\n",
    "\n",
    "os.system(f\"wget -O {filename_zip} {url_zip}\")\n",
    "\n",
    "##Open Zip file\n",
    "os.system(f\"unzip -j {filename_zip} -d {rasterizing_subdir}\") ## Using the passage through the shell makes it easier to avoid created a hierarchy within the folder.\n",
    "## Might need changing between different operating systems.\n",
    "\n",
    "os.remove(filename_zip)\n",
    "\n"
   ]
  },
  {
   "cell_type": "code",
   "execution_count": null,
   "id": "92815fcd-c844-4aee-b269-8da116697a50",
   "metadata": {},
   "outputs": [],
   "source": [
    "### 1: Rasterize a correct, exisitng shapefile\n",
    "new_bbox = (6.7663, 47.9163, 10.5532, 45.6755)\n",
    "\n",
    "try:\n",
    "    test = gdgtm.rasterize_shapefile (rasterizing_subdir + \"gadm41_CHE_3.shp\", \n",
    "                                      rasterizing_subdir + \"gadm41_CHE_3.tif\", \n",
    "                                      target_bbox = new_bbox, \n",
    "                                      target_xres = 2000)\n",
    "\n",
    "    print(test)\n",
    "\n",
    "except Exception as e:\n",
    "    print(f\"Function failed to generate output: {e}\")\n",
    "\n",
    "try:\n",
    "    with rasterio.open(rasterizing_subdir + \"gadm41_CHE_3.tif\") as target:\n",
    "        target_data = target.read()\n",
    "    \n",
    "        plt.figure(figsize=(10, 10))\n",
    "        plt.imshow(target_data[0], cmap='terrain') # For single-band raster\n",
    "        # plt.imshow(data.transpose(1, 2, 0)) # For multi-band raster\n",
    "        plt.show()\n",
    "except Exception as e:\n",
    "    print(f\"Could not plot raster, or raster does not exist: {e}\")\n",
    "    \n",
    "### Expectation: message confirms that the file exists and the raster is re-visualized below."
   ]
  },
  {
   "cell_type": "code",
   "execution_count": null,
   "id": "8dbb1262-7306-4dac-aab6-32abe9a83afb",
   "metadata": {},
   "outputs": [],
   "source": []
  },
  {
   "cell_type": "code",
   "execution_count": null,
   "id": "938c6e7f-f63f-44cc-a65e-96256823f168",
   "metadata": {},
   "outputs": [],
   "source": [
    "#### Test outcome:"
   ]
  },
  {
   "cell_type": "code",
   "execution_count": null,
   "id": "c2459362-f5df-4313-9244-e73ed6ffcbea",
   "metadata": {},
   "outputs": [],
   "source": [
    "### 2: Attempt a correct existing shapefile from a different source\n",
    "\n",
    "try:\n",
    "    test = gdgtm.rasterize_shapefile (rasterizing_subdir + \"STRUCTHELV_POLYGON_MAIN.shp\", \n",
    "                                      rasterizing_subdir + \"STRUCTHELV_POLYGON_MAIN.tif\", \n",
    "                                      target_bbox = new_bbox, \n",
    "                                      target_xres = 2000)\n",
    "\n",
    "    print(test)\n",
    "\n",
    "except Exception as e:\n",
    "    print(f\"Function failed to generate output: {e}\")\n",
    "\n",
    "try:\n",
    "    with rasterio.open(rasterizing_subdir + \"STRUCTHELV_POLYGON_MAIN.shp\") as target:\n",
    "        target_data = target.read()\n",
    "    \n",
    "        plt.figure(figsize=(10, 10))\n",
    "        plt.imshow(target_data[0], cmap='terrain') # For single-band raster\n",
    "        # plt.imshow(data.transpose(1, 2, 0)) # For multi-band raster\n",
    "        plt.show()\n",
    "except Exception as e:\n",
    "    print(f\"Could not plot raster, or raster does not existt: {e}\")\n",
    "    \n",
    "### Expectation: message confirms that the file exists and the raster is re-visualized below."
   ]
  },
  {
   "cell_type": "code",
   "execution_count": null,
   "id": "ad7ce72f-f80b-4324-8d1b-7d57b451433c",
   "metadata": {},
   "outputs": [],
   "source": [
    "#### Test outcome:"
   ]
  },
  {
   "cell_type": "code",
   "execution_count": null,
   "id": "1e0fafc8-1974-425c-a583-7805b11521fc",
   "metadata": {},
   "outputs": [],
   "source": [
    "### 3. Align a processed raster using gdgtm.align_validate_raster()\n",
    "try:\n",
    "    outcome = gdgtm.align_validate_raster(source_raster = rasterizing_subdir + \"gadm41_CHE_3.tif\",\n",
    "                                          target_raster = rebound_subdir + \"olm_alc_switz_rebound_100_20040101.tif\",\n",
    "                                          dst_raster = align_subdir + \"gadm41_CHE_3.tif\"\n",
    "                                         )\n",
    "except Exception as e:\n",
    "    print(f\"Function failed to generate output: {e}\")\n",
    "\n",
    "\n",
    "try:\n",
    "    with rasterio.open(align_subdir + \"gadm41_CHE_3.tif\") as target:\n",
    "        target_data = target.read()\n",
    "    \n",
    "        plt.figure(figsize=(10, 10))\n",
    "        plt.imshow(target_data[0], cmap='terrain') # For single-band raster\n",
    "        # plt.imshow(data.transpose(1, 2, 0)) # For multi-band raster\n",
    "        plt.show()\n",
    "except Exception as e:\n",
    "    print(f\"Could not plot raster, or raster does not existt: {e}\")\n",
    "\n",
    "### Expectation: success message appears and the outcome raster is printed."
   ]
  },
  {
   "cell_type": "code",
   "execution_count": null,
   "id": "76dd9501-6214-4a68-bec1-21e3e4bd5270",
   "metadata": {},
   "outputs": [],
   "source": [
    "#### Test outcome:"
   ]
  },
  {
   "cell_type": "code",
   "execution_count": null,
   "id": "eac1a723-3a8f-43c5-8caf-b9e41a0ed5b4",
   "metadata": {},
   "outputs": [],
   "source": [
    "### 4. Attempt to rasterize a raster\n",
    "\n",
    "try:\n",
    "    test = gdgtm.rasterize_shapefile (align_subdir + \"chelsa_tas_aligned.tif\", \n",
    "                                      rasterizing_subdir + \"gadm41_CHE_3.tif\", \n",
    "                                      target_bbox = new_bbox, \n",
    "                                      target_xres = 2000)\n",
    "\n",
    "    print(test)\n",
    "\n",
    "except Exception as e:\n",
    "    print(f\"Function failed to generate output: {e}\")\n",
    "\n",
    "### Expectation: conversion fails and error messages appear"
   ]
  },
  {
   "cell_type": "code",
   "execution_count": null,
   "id": "f5662570-29d9-4a09-aa8d-61805003eafa",
   "metadata": {},
   "outputs": [],
   "source": [
    "#### Test outcome:"
   ]
  },
  {
   "cell_type": "markdown",
   "id": "c44bd0c7-8f41-46b3-b522-91530ac5aae9",
   "metadata": {},
   "source": [
    "## Section 7: Numpyifying rasters"
   ]
  },
  {
   "cell_type": "markdown",
   "id": "d7290a5c-fb94-4517-920d-859f374be71b",
   "metadata": {},
   "source": [
    "### numpyify_raster"
   ]
  },
  {
   "cell_type": "code",
   "execution_count": null,
   "id": "b03dd439-5d12-4e39-a412-b2692a2a641e",
   "metadata": {},
   "outputs": [],
   "source": [
    "### 1: numpyify raster generated from shapefile (categorical data)\n",
    "try:\n",
    "    test = gdgtm.numpyify_raster(rasterizing_subdir + \"gadm41_CHE_3.tif\")\n",
    "    print(test)\n",
    "\n",
    "    plt.imshow(test, cmap=\"gray\")\n",
    "    plt.show()\n",
    "except Exception as e:\n",
    "    print(f\"Function failed to generate output: {e}\")\n",
    "\n",
    "\n",
    "### Expectation: message confirms that the file exists and the raster is re-visualized, from numpy, below."
   ]
  },
  {
   "cell_type": "code",
   "execution_count": null,
   "id": "d3392b03-3797-48f5-b28d-ccd8135f6481",
   "metadata": {},
   "outputs": [],
   "source": [
    "#### Test outcome:"
   ]
  },
  {
   "cell_type": "code",
   "execution_count": null,
   "id": "9cda8f4b-1adb-4db1-96ba-f5d5d22f3448",
   "metadata": {},
   "outputs": [],
   "source": [
    "### 2: numpyify original raster (continuous data)\n",
    "try:\n",
    "    test = gdgtm.numpyify_raster(get_functions_subdir + \"chelsa_clim_sfcWind_jan_raw.tif\")\n",
    "    print(test)\n",
    "\n",
    "    plt.imshow(test, cmap=\"gray\")\n",
    "    plt.show()\n",
    "except Exception as e:\n",
    "    print(f\"Function failed to generate output: {e}\")\n",
    "### Expectation: message confirms that the file exists and the raster is re-visualized, from numpy, below."
   ]
  },
  {
   "cell_type": "code",
   "execution_count": null,
   "id": "f23fe864-9f5b-4835-b5e9-59d4a96b5e97",
   "metadata": {},
   "outputs": [],
   "source": [
    "#### Test outcome:"
   ]
  },
  {
   "cell_type": "code",
   "execution_count": null,
   "id": "8bd511d2-0471-4562-a9a4-3d6dc0658ea4",
   "metadata": {},
   "outputs": [],
   "source": [
    "### 3: Attempt to numpyify a non-raster\n",
    "try:\n",
    "    test = gdgtm.numpyify_raster(rasterizing_subdir + \"gadm41_CHE_3.shp\")\n",
    "    print(test)\n",
    "\n",
    "except Exception as e:\n",
    "    print(f\"Function failed to generate output: {e}\")\n",
    "### Expectation: conversion fails and error messages appear"
   ]
  },
  {
   "cell_type": "code",
   "execution_count": null,
   "id": "8006a823-267e-4164-99da-290ae689105b",
   "metadata": {},
   "outputs": [],
   "source": [
    "#### Test outcome:"
   ]
  },
  {
   "cell_type": "markdown",
   "id": "80a81520-c9e6-47fc-9491-49fc9df3f7b6",
   "metadata": {},
   "source": [
    "### save_numpd_raster\n",
    "**Note:** checking only happy path, single file"
   ]
  },
  {
   "cell_type": "code",
   "execution_count": null,
   "id": "5002da5d-fdc3-473f-9ecd-e286f805f671",
   "metadata": {},
   "outputs": [],
   "source": [
    "nupied_subdir = test_path + \"/\" + subdir_names[9] + \"/\"\n",
    "print(nupied_subdir)"
   ]
  },
  {
   "cell_type": "code",
   "execution_count": null,
   "id": "e5f744c8-121e-4ba6-99c3-b1eb5729e9f6",
   "metadata": {},
   "outputs": [],
   "source": [
    "### 1. Save a raster to a numpy .txt\n",
    "try:\n",
    "    test = gdgtm.save_numpd_raster(get_functions_subdir + \"chelsa_bio_kg0_raw.tif\", nupied_subdir + \"chelsa_bio_kg0_raw.txt\")\n",
    "    print(test)\n",
    "  \n",
    "except Exception as e:\n",
    "    print(f\"Function failed to generate output: {e}\")\n",
    "\n",
    "try:\n",
    "    test = np.genfromtxt(nupied_subdir + \"chelsa_bio_kg0_raw.txt\", delimiter=' ', skip_header=1, names=True)\n",
    "    test = test.view(np.float64).reshape(test.shape + (-1,))\n",
    "\n",
    "    plt.imshow(test, cmap=\"gray\")\n",
    "    plt.show()\n",
    "except Exception as e:\n",
    "    print(f\"Could not plot raster, or raster does not exist: {e}\")\n",
    "### Expectation: message confirms that the file exists and the raster is re-visualized, from numpy, below."
   ]
  },
  {
   "cell_type": "code",
   "execution_count": null,
   "id": "23c742b1-7ced-4d15-a8f0-883eade690e2",
   "metadata": {},
   "outputs": [],
   "source": [
    "#### Test outcome:"
   ]
  }
 ],
 "metadata": {
  "kernelspec": {
   "display_name": "Python 3 (ipykernel)",
   "language": "python",
   "name": "python3"
  },
  "language_info": {
   "codemirror_mode": {
    "name": "ipython",
    "version": 3
   },
   "file_extension": ".py",
   "mimetype": "text/x-python",
   "name": "python",
   "nbconvert_exporter": "python",
   "pygments_lexer": "ipython3",
   "version": "3.10.9"
  }
 },
 "nbformat": 4,
 "nbformat_minor": 5
}
