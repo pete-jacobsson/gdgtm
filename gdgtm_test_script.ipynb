{
 "cells": [
  {
   "cell_type": "markdown",
   "id": "8319f7f8",
   "metadata": {},
   "source": [
    "# gdgtm regression test\n",
    "\n",
    "The goal of this test is to evaluate whether the gdgtm (**g**eospatial **d**ata **g**etting, **t**ransforming, **m**anaging) pipeline built to feed standardized rasters for downstream ML actions (overall goal of the gdgtm package) is working as intended. The test script is structured as follows:\n",
    "\n",
    "- Section 1: Test the flow of the relevant \"get\" functions\n",
    "- Section 2: Test the core pipeline for creating the \"master\" raster\n",
    "- Section 3: Test the mosaics and raster combination components\n",
    "- Section 4: Test the \"standardization\" line\n",
    "- Section 5: Test the \"validation\" line\n",
    "- Section 6: Test the overall pipeline implementation"
   ]
  },
  {
   "cell_type": "markdown",
   "id": "d57472fc",
   "metadata": {},
   "source": [
    "Current tested version: **0.1.0**"
   ]
  },
  {
   "cell_type": "code",
   "execution_count": 5,
   "id": "5f779a55",
   "metadata": {},
   "outputs": [],
   "source": [
    "import gdgtm\n",
    "from pathlib import Path"
   ]
  },
  {
   "cell_type": "markdown",
   "id": "06a4509d",
   "metadata": {},
   "source": [
    "## Section 1: \"get\" function tests\n",
    "- Target folder: \"/home/pete/Documents/tests_and_vals/gdgtm/get_functions/\""
   ]
  },
  {
   "cell_type": "markdown",
   "id": "f00df66e",
   "metadata": {},
   "source": [
    "### get_chelsa_data"
   ]
  },
  {
   "cell_type": "code",
   "execution_count": 6,
   "id": "ec73a28e",
   "metadata": {},
   "outputs": [
    {
     "name": "stdout",
     "output_type": "stream",
     "text": [
      "Driver: GTiff/GeoTIFF\n",
      "Files: none associated\n",
      "Size is 43200, 20880\n",
      "Coordinate System is:\n",
      "GEOGCRS[\"WGS 84\",\n",
      "    DATUM[\"World Geodetic System 1984\",\n",
      "        ELLIPSOID[\"WGS 84\",6378137,298.257223563,\n",
      "            LENGTHUNIT[\"metre\",1]]],\n",
      "    PRIMEM[\"Greenwich\",0,\n",
      "        ANGLEUNIT[\"degree\",0.0174532925199433]],\n",
      "    CS[ellipsoidal,2],\n",
      "        AXIS[\"geodetic latitude (Lat)\",north,\n",
      "            ORDER[1],\n",
      "            ANGLEUNIT[\"degree\",0.0174532925199433]],\n",
      "        AXIS[\"geodetic longitude (Lon)\",east,\n",
      "            ORDER[2],\n",
      "            ANGLEUNIT[\"degree\",0.0174532925199433]],\n",
      "    ID[\"EPSG\",4326]]\n",
      "Data axis to CRS axis mapping: 2,1\n",
      "Origin = (-180.000138888850017,83.999860415150010)\n",
      "Pixel Size = (0.008333333300000,-0.008333333300000)\n",
      "Metadata:\n",
      "  activity_id=observation\n",
      "  AREA_OR_POINT=Area\n",
      "  cf_standard_name=air_temperature\n",
      "  citation1=Karger, D.N., Conrad, O., Böhner, J., Kawohl, T., Kreft, H., Soria-Auza, R.W., Zimmermann, N.E., Linder, P., Kessler, M. (2017). Climatologies at high resolution for the Earth land surface areas. Scientific Data. 4 170122. https://doi.org/10.1038/sdata.2017.122\n",
      "  contact=dirk.karger@wsl.ch\n",
      "  data_cite=Karger D.N., Conrad, O., Böhner, J., Kawohl, T., Kreft, H., Soria-Auza, R.W., Zimmermann, N.E,, Linder, H.P., Kessler, M. (2021) Climatologies at high resolution for the earth’s land surface areas, Version 2.1. EnviDat. https://dx.doi.org/10.16904/envidat.228.v2.1 \n",
      "  datetime=2023-01-01\n",
      "  experiment_id=observation\n",
      "  forcing=ERA5\n",
      "  frequency=day\n",
      "  institution_id=WSL\n",
      "  product=model-output\n",
      "  project=CHELSA\n",
      "  source_id=CHELSA_V2.1\n",
      "  variable=tas\n",
      "  variable_long_name=Daily Mean Near-Surface Air Temperature\n",
      "  variable_unit=K\n",
      "  version=2.1\n",
      "Image Structure Metadata:\n",
      "  COMPRESSION=DEFLATE\n",
      "  INTERLEAVE=BAND\n",
      "  LAYOUT=COG\n",
      "  PREDICTOR=2\n",
      "Corner Coordinates:\n",
      "Upper Left  (-180.0001389,  83.9998604) (180d 0' 0.50\"W, 83d59'59.50\"N)\n",
      "Lower Left  (-180.0001389, -90.0001389) (180d 0' 0.50\"W, 90d 0' 0.50\"S)\n",
      "Upper Right ( 179.9998597,  83.9998604) (179d59'59.49\"E, 83d59'59.50\"N)\n",
      "Lower Right ( 179.9998597, -90.0001389) (179d59'59.49\"E, 90d 0' 0.50\"S)\n",
      "Center      (  -0.0001396,  -3.0001392) (  0d 0' 0.50\"W,  3d 0' 0.50\"S)\n",
      "Band 1 Block=512x512 Type=UInt16, ColorInterp=Gray\n",
      "  NoData Value=65535\n",
      "  Overviews: 21600x10440, 10800x5220, 5400x2610, 2700x1305, 1350x652, 675x326, 337x163\n",
      "  Offset: -273.15,   Scale:0.1\n"
     ]
    },
    {
     "data": {
      "text/plain": [
       "'Target .tiff exists'"
      ]
     },
     "execution_count": 6,
     "metadata": {},
     "output_type": "execute_result"
    }
   ],
   "source": [
    "### get_chelsa_data (1): happy path, tas parameter\n",
    "\n",
    "parameter = \"tas\"\n",
    "extent = [7.3, 7.5, 47.0, 47.2]\n",
    "start_date = \"2023-1-1\"\n",
    "end_date = \"2023-2-2\"\n",
    "\n",
    "gdgtm.get_chelsa_data(parameter, extent, start_date, end_date, \n",
    "                      write_location = '/home/pete/Documents/tests_and_vals/gdgtm/01_get_functions/chelsa_tas_raw.tif')\n",
    "\n",
    "## Expected outcome: str: 'Target .tiff exists' and file meta\n"
   ]
  },
  {
   "cell_type": "markdown",
   "id": "f730d942",
   "metadata": {},
   "source": [
    "#### Test outcome\n",
    "\n",
    "Results meet expectation"
   ]
  },
  {
   "cell_type": "code",
   "execution_count": 8,
   "id": "4b80a46e",
   "metadata": {},
   "outputs": [
    {
     "name": "stdout",
     "output_type": "stream",
     "text": [
      "Driver: GTiff/GeoTIFF\n",
      "Files: none associated\n",
      "Size is 43200, 20880\n",
      "Coordinate System is:\n",
      "GEOGCRS[\"WGS 84\",\n",
      "    DATUM[\"World Geodetic System 1984\",\n",
      "        ELLIPSOID[\"WGS 84\",6378137,298.257223600004,\n",
      "            LENGTHUNIT[\"metre\",1]]],\n",
      "    PRIMEM[\"Greenwich\",0,\n",
      "        ANGLEUNIT[\"degree\",0.0174532925199433]],\n",
      "    CS[ellipsoidal,2],\n",
      "        AXIS[\"geodetic latitude (Lat)\",north,\n",
      "            ORDER[1],\n",
      "            ANGLEUNIT[\"degree\",0.0174532925199433]],\n",
      "        AXIS[\"geodetic longitude (Lon)\",east,\n",
      "            ORDER[2],\n",
      "            ANGLEUNIT[\"degree\",0.0174532925199433]],\n",
      "    ID[\"EPSG\",4326]]\n",
      "Data axis to CRS axis mapping: 2,1\n",
      "Origin = (-180.000138888850017,83.999860415149996)\n",
      "Pixel Size = (0.008333333300000,-0.008333333300000)\n",
      "Metadata:\n",
      "  activity_id=observation\n",
      "  AREA_OR_POINT=Area\n",
      "  cf_standard_name=precipitation_flux\n",
      "  citation1=Karger, D.N., Conrad, O., Böhner, J., Kawohl, T., Kreft, H., Soria-Auza, R.W., Zimmermann, N.E., Linder, P., Kessler, M. (2017). Climatologies at high resolution for the Earth land surface areas. Scientific Data. 4 170122. https://doi.org/10.1038/sdata.2017.122\n",
      "  contact=dirk.karger@wsl.ch\n",
      "  data_cite=Karger D.N., Conrad, O., Böhner, J., Kawohl, T., Kreft, H., Soria-Auza, R.W., Zimmermann, N.E,, Linder, H.P., Kessler, M. (2021) Climatologies at high resolution for the earth’s land surface areas, Version 2.1. EnviDat. https://dx.doi.org/10.16904/envidat.228.v2.1 \n",
      "  datetime=2007-01-01\n",
      "  experiment_id=observation\n",
      "  forcing=ERA5\n",
      "  frequency=day\n",
      "  institution_id=WSL\n",
      "  note=-\n",
      "  product=model-output\n",
      "  project=CHELSA\n",
      "  source_id=CHELSA_V2.1\n",
      "  variable=pr\n",
      "  variable_long_name=Precipitation\n",
      "  variable_unit=kg m-2 day-1\n",
      "  version=2.1\n",
      "Image Structure Metadata:\n",
      "  COMPRESSION=DEFLATE\n",
      "  INTERLEAVE=BAND\n",
      "  LAYOUT=COG\n",
      "  PREDICTOR=2\n",
      "Corner Coordinates:\n",
      "Upper Left  (-180.0001389,  83.9998604) (180d 0' 0.50\"W, 83d59'59.50\"N)\n",
      "Lower Left  (-180.0001389, -90.0001389) (180d 0' 0.50\"W, 90d 0' 0.50\"S)\n",
      "Upper Right ( 179.9998597,  83.9998604) (179d59'59.49\"E, 83d59'59.50\"N)\n",
      "Lower Right ( 179.9998597, -90.0001389) (179d59'59.49\"E, 90d 0' 0.50\"S)\n",
      "Center      (  -0.0001396,  -3.0001392) (  0d 0' 0.50\"W,  3d 0' 0.50\"S)\n",
      "Band 1 Block=512x512 Type=UInt16, ColorInterp=Gray\n",
      "  NoData Value=65535\n",
      "  Overviews: 21600x10440, 10800x5220, 5400x2610, 2700x1305, 1350x652, 675x326, 337x163\n",
      "  Offset: 0,   Scale:0.1\n"
     ]
    },
    {
     "data": {
      "text/plain": [
       "'Target .tiff exists'"
      ]
     },
     "execution_count": 8,
     "metadata": {},
     "output_type": "execute_result"
    }
   ],
   "source": [
    "### get_chelsa_data (2): happy path, pr parameter\n",
    "\n",
    "parameter = \"pr\"\n",
    "extent = [7.3, 7.5, 47.0, 47.2]\n",
    "start_date = \"2007-1-1\"\n",
    "end_date = \"2007-2-2\"\n",
    "\n",
    "gdgtm.get_chelsa_data(parameter, extent, start_date, end_date, \n",
    "                      write_location = '/home/pete/Documents/tests_and_vals/gdgtm/01_get_functions/chelsa_pr_raw.tif')\n",
    "\n",
    "## Expected outcome: str: 'Target .tiff exists' and file meta\n"
   ]
  },
  {
   "cell_type": "markdown",
   "id": "17f27050",
   "metadata": {},
   "source": [
    "#### Test outcome\n",
    "\n",
    "Results meet expectation"
   ]
  },
  {
   "cell_type": "code",
   "execution_count": 9,
   "id": "d25a4f36",
   "metadata": {},
   "outputs": [
    {
     "name": "stdout",
     "output_type": "stream",
     "text": [
      "\n"
     ]
    },
    {
     "name": "stderr",
     "output_type": "stream",
     "text": [
      "R[write to console]: Error: [rast] file does not exist: /vsicurl/https://os.unil.cloud.switch.ch/chelsa02/chelsa/global/daily/obviously_wrong_param/2023/CHELSA_obviously_wrong_param_01_01_2023_V.2.1.tif\n",
      "\n",
      "R[write to console]: In addition: \n",
      "R[write to console]: Warning messages:\n",
      "\n",
      "R[write to console]: 1: \n",
      "R[write to console]: In (function (package, help, pos = 2, lib.loc = NULL, character.only = FALSE,  :\n",
      "R[write to console]: \n",
      " \n",
      "R[write to console]:  libraries ‘/usr/local/lib/R/site-library’, ‘/usr/lib/R/site-library’ contain no packages\n",
      "\n",
      "R[write to console]: 2: \n",
      "R[write to console]: In (function (package, help, pos = 2, lib.loc = NULL, character.only = FALSE,  :\n",
      "R[write to console]: \n",
      " \n",
      "R[write to console]:  libraries ‘/usr/local/lib/R/site-library’, ‘/usr/lib/R/site-library’ contain no packages\n",
      "\n",
      "R[write to console]: 3: \n",
      "R[write to console]: In (function (package, help, pos = 2, lib.loc = NULL, character.only = FALSE,  :\n",
      "R[write to console]: \n",
      " \n",
      "R[write to console]:  libraries ‘/usr/local/lib/R/site-library’, ‘/usr/lib/R/site-library’ contain no packages\n",
      "\n",
      "R[write to console]: 4: \n",
      "R[write to console]: In (function (package, help, pos = 2, lib.loc = NULL, character.only = FALSE,  :\n",
      "R[write to console]: \n",
      " \n",
      "R[write to console]:  libraries ‘/usr/local/lib/R/site-library’, ‘/usr/lib/R/site-library’ contain no packages\n",
      "\n",
      "R[write to console]: 5: \n",
      "R[write to console]: In (function (package, help, pos = 2, lib.loc = NULL, character.only = FALSE,  :\n",
      "R[write to console]: \n",
      " \n",
      "R[write to console]:  libraries ‘/usr/local/lib/R/site-library’, ‘/usr/lib/R/site-library’ contain no packages\n",
      "\n",
      "R[write to console]: 6: \n",
      "R[write to console]: In (function (package, help, pos = 2, lib.loc = NULL, character.only = FALSE,  :\n",
      "R[write to console]: \n",
      " \n",
      "R[write to console]:  libraries ‘/usr/local/lib/R/site-library’, ‘/usr/lib/R/site-library’ contain no packages\n",
      "\n",
      "R[write to console]: 7: HTTP error code : 404 (GDAL error 1) \n",
      "\n",
      "R[write to console]: 8: HTTP response code: 404 (GDAL error 11) \n",
      "\n"
     ]
    },
    {
     "ename": "RRuntimeError",
     "evalue": "Error: [rast] file does not exist: /vsicurl/https://os.unil.cloud.switch.ch/chelsa02/chelsa/global/daily/obviously_wrong_param/2023/CHELSA_obviously_wrong_param_01_01_2023_V.2.1.tif\n",
     "output_type": "error",
     "traceback": [
      "\u001b[0;31m---------------------------------------------------------------------------\u001b[0m",
      "\u001b[0;31mRRuntimeError\u001b[0m                             Traceback (most recent call last)",
      "Cell \u001b[0;32mIn[9], line 8\u001b[0m\n\u001b[1;32m      5\u001b[0m start_date \u001b[38;5;241m=\u001b[39m \u001b[38;5;124m\"\u001b[39m\u001b[38;5;124m2023-1-1\u001b[39m\u001b[38;5;124m\"\u001b[39m\n\u001b[1;32m      6\u001b[0m end_date \u001b[38;5;241m=\u001b[39m \u001b[38;5;124m\"\u001b[39m\u001b[38;5;124m2023-2-2\u001b[39m\u001b[38;5;124m\"\u001b[39m\n\u001b[0;32m----> 8\u001b[0m \u001b[43mgdgtm\u001b[49m\u001b[38;5;241;43m.\u001b[39;49m\u001b[43mget_chelsa_data\u001b[49m\u001b[43m(\u001b[49m\u001b[43mparameter\u001b[49m\u001b[43m,\u001b[49m\u001b[43m \u001b[49m\u001b[43mextent\u001b[49m\u001b[43m,\u001b[49m\u001b[43m \u001b[49m\u001b[43mstart_date\u001b[49m\u001b[43m,\u001b[49m\u001b[43m \u001b[49m\u001b[43mend_date\u001b[49m\u001b[43m,\u001b[49m\u001b[43m \u001b[49m\n\u001b[1;32m      9\u001b[0m \u001b[43m                      \u001b[49m\u001b[43mwrite_location\u001b[49m\u001b[43m \u001b[49m\u001b[38;5;241;43m=\u001b[39;49m\u001b[43m \u001b[49m\u001b[38;5;124;43m'\u001b[39;49m\u001b[38;5;124;43m/home/pete/Documents/tests_and_vals/gdgtm/01_get_functions/chelsa_pr_raw.tif\u001b[39;49m\u001b[38;5;124;43m'\u001b[39;49m\u001b[43m)\u001b[49m\n\u001b[1;32m     11\u001b[0m \u001b[38;5;66;03m## Expected outcome: Error message\u001b[39;00m\n",
      "File \u001b[0;32m~/.local/lib/python3.10/site-packages/gdgtm/gdgtm_core.py:71\u001b[0m, in \u001b[0;36mget_chelsa_data\u001b[0;34m(parameter, extent, start_date, end_date, write_location)\u001b[0m\n\u001b[1;32m     68\u001b[0m overwrite_true \u001b[38;5;241m=\u001b[39m rinterface\u001b[38;5;241m.\u001b[39mBoolSexpVector(\u001b[38;5;124m\"\u001b[39m\u001b[38;5;124mTRUE\u001b[39m\u001b[38;5;124m\"\u001b[39m)\n\u001b[1;32m     70\u001b[0m \u001b[38;5;66;03m## Get the bounded raster and store it as an R S4 class 'SpatRaster'\u001b[39;00m\n\u001b[0;32m---> 71\u001b[0m framed_raster \u001b[38;5;241m=\u001b[39m \u001b[43mrchelsa\u001b[49m\u001b[38;5;241;43m.\u001b[39;49m\u001b[43mgetChelsa\u001b[49m\u001b[43m(\u001b[49m\u001b[43mparameter\u001b[49m\u001b[43m,\u001b[49m\u001b[43m \u001b[49m\u001b[43mextent\u001b[49m\u001b[43m \u001b[49m\u001b[38;5;241;43m=\u001b[39;49m\u001b[43m \u001b[49m\u001b[43mextent\u001b[49m\u001b[43m,\u001b[49m\u001b[43m \u001b[49m\u001b[43mstartdate\u001b[49m\u001b[43m \u001b[49m\u001b[38;5;241;43m=\u001b[39;49m\u001b[43m \u001b[49m\u001b[43mstart_date\u001b[49m\u001b[43m,\u001b[49m\u001b[43m \u001b[49m\u001b[43menddate\u001b[49m\u001b[43m \u001b[49m\u001b[38;5;241;43m=\u001b[39;49m\u001b[43m \u001b[49m\u001b[43mend_date\u001b[49m\u001b[43m)\u001b[49m\n\u001b[1;32m     73\u001b[0m \u001b[38;5;66;03m## Put the Chesla .tiff into a temp location\u001b[39;00m\n\u001b[1;32m     74\u001b[0m terra\u001b[38;5;241m.\u001b[39mwriteRaster(framed_raster, write_location, overwrite \u001b[38;5;241m=\u001b[39m overwrite_true)\n",
      "File \u001b[0;32m~/.local/lib/python3.10/site-packages/rpy2/robjects/functions.py:208\u001b[0m, in \u001b[0;36mSignatureTranslatedFunction.__call__\u001b[0;34m(self, *args, **kwargs)\u001b[0m\n\u001b[1;32m    206\u001b[0m         v \u001b[38;5;241m=\u001b[39m kwargs\u001b[38;5;241m.\u001b[39mpop(k)\n\u001b[1;32m    207\u001b[0m         kwargs[r_k] \u001b[38;5;241m=\u001b[39m v\n\u001b[0;32m--> 208\u001b[0m \u001b[38;5;28;01mreturn\u001b[39;00m (\u001b[38;5;28;43msuper\u001b[39;49m\u001b[43m(\u001b[49m\u001b[43mSignatureTranslatedFunction\u001b[49m\u001b[43m,\u001b[49m\u001b[43m \u001b[49m\u001b[38;5;28;43mself\u001b[39;49m\u001b[43m)\u001b[49m\n\u001b[1;32m    209\u001b[0m \u001b[43m        \u001b[49m\u001b[38;5;241;43m.\u001b[39;49m\u001b[38;5;21;43m__call__\u001b[39;49m\u001b[43m(\u001b[49m\u001b[38;5;241;43m*\u001b[39;49m\u001b[43margs\u001b[49m\u001b[43m,\u001b[49m\u001b[43m \u001b[49m\u001b[38;5;241;43m*\u001b[39;49m\u001b[38;5;241;43m*\u001b[39;49m\u001b[43mkwargs\u001b[49m\u001b[43m)\u001b[49m)\n",
      "File \u001b[0;32m~/.local/lib/python3.10/site-packages/rpy2/robjects/functions.py:131\u001b[0m, in \u001b[0;36mFunction.__call__\u001b[0;34m(self, *args, **kwargs)\u001b[0m\n\u001b[1;32m    129\u001b[0m     \u001b[38;5;28;01melse\u001b[39;00m:\n\u001b[1;32m    130\u001b[0m         new_kwargs[k] \u001b[38;5;241m=\u001b[39m cv\u001b[38;5;241m.\u001b[39mpy2rpy(v)\n\u001b[0;32m--> 131\u001b[0m res \u001b[38;5;241m=\u001b[39m \u001b[38;5;28;43msuper\u001b[39;49m\u001b[43m(\u001b[49m\u001b[43mFunction\u001b[49m\u001b[43m,\u001b[49m\u001b[43m \u001b[49m\u001b[38;5;28;43mself\u001b[39;49m\u001b[43m)\u001b[49m\u001b[38;5;241;43m.\u001b[39;49m\u001b[38;5;21;43m__call__\u001b[39;49m\u001b[43m(\u001b[49m\u001b[38;5;241;43m*\u001b[39;49m\u001b[43mnew_args\u001b[49m\u001b[43m,\u001b[49m\u001b[43m \u001b[49m\u001b[38;5;241;43m*\u001b[39;49m\u001b[38;5;241;43m*\u001b[39;49m\u001b[43mnew_kwargs\u001b[49m\u001b[43m)\u001b[49m\n\u001b[1;32m    132\u001b[0m res \u001b[38;5;241m=\u001b[39m cv\u001b[38;5;241m.\u001b[39mrpy2py(res)\n\u001b[1;32m    133\u001b[0m \u001b[38;5;28;01mreturn\u001b[39;00m res\n",
      "File \u001b[0;32m~/.local/lib/python3.10/site-packages/rpy2/rinterface_lib/conversion.py:45\u001b[0m, in \u001b[0;36m_cdata_res_to_rinterface.<locals>._\u001b[0;34m(*args, **kwargs)\u001b[0m\n\u001b[1;32m     44\u001b[0m \u001b[38;5;28;01mdef\u001b[39;00m \u001b[38;5;21m_\u001b[39m(\u001b[38;5;241m*\u001b[39margs, \u001b[38;5;241m*\u001b[39m\u001b[38;5;241m*\u001b[39mkwargs):\n\u001b[0;32m---> 45\u001b[0m     cdata \u001b[38;5;241m=\u001b[39m \u001b[43mfunction\u001b[49m\u001b[43m(\u001b[49m\u001b[38;5;241;43m*\u001b[39;49m\u001b[43margs\u001b[49m\u001b[43m,\u001b[49m\u001b[43m \u001b[49m\u001b[38;5;241;43m*\u001b[39;49m\u001b[38;5;241;43m*\u001b[39;49m\u001b[43mkwargs\u001b[49m\u001b[43m)\u001b[49m\n\u001b[1;32m     46\u001b[0m     \u001b[38;5;66;03m# TODO: test cdata is of the expected CType\u001b[39;00m\n\u001b[1;32m     47\u001b[0m     \u001b[38;5;28;01mreturn\u001b[39;00m _cdata_to_rinterface(cdata)\n",
      "File \u001b[0;32m~/.local/lib/python3.10/site-packages/rpy2/rinterface.py:869\u001b[0m, in \u001b[0;36mSexpClosure.__call__\u001b[0;34m(self, *args, **kwargs)\u001b[0m\n\u001b[1;32m    862\u001b[0m     res \u001b[38;5;241m=\u001b[39m rmemory\u001b[38;5;241m.\u001b[39mprotect(\n\u001b[1;32m    863\u001b[0m         openrlib\u001b[38;5;241m.\u001b[39mrlib\u001b[38;5;241m.\u001b[39mR_tryEval(\n\u001b[1;32m    864\u001b[0m             call_r,\n\u001b[1;32m    865\u001b[0m             call_context\u001b[38;5;241m.\u001b[39m__sexp__\u001b[38;5;241m.\u001b[39m_cdata,\n\u001b[1;32m    866\u001b[0m             error_occured)\n\u001b[1;32m    867\u001b[0m     )\n\u001b[1;32m    868\u001b[0m     \u001b[38;5;28;01mif\u001b[39;00m error_occured[\u001b[38;5;241m0\u001b[39m]:\n\u001b[0;32m--> 869\u001b[0m         \u001b[38;5;28;01mraise\u001b[39;00m embedded\u001b[38;5;241m.\u001b[39mRRuntimeError(_rinterface\u001b[38;5;241m.\u001b[39m_geterrmessage())\n\u001b[1;32m    870\u001b[0m \u001b[38;5;28;01mreturn\u001b[39;00m res\n",
      "\u001b[0;31mRRuntimeError\u001b[0m: Error: [rast] file does not exist: /vsicurl/https://os.unil.cloud.switch.ch/chelsa02/chelsa/global/daily/obviously_wrong_param/2023/CHELSA_obviously_wrong_param_01_01_2023_V.2.1.tif\n"
     ]
    }
   ],
   "source": [
    "### get_chelsa_data (3): error path, made up parameter\n",
    "\n",
    "parameter = \"obviously_wrong_param\"\n",
    "extent = [7.3, 7.5, 47.0, 47.2]\n",
    "start_date = \"2023-1-1\"\n",
    "end_date = \"2023-2-2\"\n",
    "\n",
    "gdgtm.get_chelsa_data(parameter, extent, start_date, end_date, \n",
    "                      write_location = '/home/pete/Documents/tests_and_vals/gdgtm/01_get_functions/chelsa_pr_raw.tif')\n",
    "\n",
    "## Expected outcome: Error message\n"
   ]
  },
  {
   "cell_type": "markdown",
   "id": "cf7391ac",
   "metadata": {},
   "source": [
    "#### Test outcome\n",
    "\n",
    "Results meet expectation\n"
   ]
  },
  {
   "cell_type": "markdown",
   "id": "4b382fdf",
   "metadata": {},
   "source": [
    "### get_cognames_from_stac_coll_static"
   ]
  },
  {
   "cell_type": "code",
   "execution_count": 10,
   "id": "8131e6dd",
   "metadata": {},
   "outputs": [
    {
     "name": "stdout",
     "output_type": "stream",
     "text": [
      "https://s3.openlandmap.org/arco/wilderness_li2022.human.footprint_p_1km_s_20000101_20001231_go_epsg.4326_v16022022.tif\n"
     ]
    }
   ],
   "source": [
    "### get_cognames_from_stac_coll_static (1): correct url for an OLM collection value\n",
    "\n",
    "test = gdgtm.get_cognames_from_stac_coll_static(\"https://s3.eu-central-1.wasabisys.com/stac/openlandmap/wilderness_li2022.human.footprint/collection.json\")\n",
    "\n",
    "print(test[0])\n",
    "\n",
    "## Expected outcome: url to a geotiff"
   ]
  },
  {
   "cell_type": "markdown",
   "id": "fde09a90",
   "metadata": {},
   "source": [
    "#### Test outcome\n",
    "\n",
    "Results meet expectation"
   ]
  },
  {
   "cell_type": "code",
   "execution_count": 11,
   "id": "45398411",
   "metadata": {},
   "outputs": [
    {
     "name": "stdout",
     "output_type": "stream",
     "text": [
      "https://capella-open-data.s3.amazonaws.com/data/2024/2/20/CAPELLA_C10_SM_GEO_HH_20240220201807_20240220201810/CAPELLA_C10_SM_GEO_HH_20240220201807_20240220201810_preview.tif\n"
     ]
    }
   ],
   "source": [
    "### get_cognames_from_stac_coll_static (2): correct url for a Capella collection value\n",
    "\n",
    "test = gdgtm.get_cognames_from_stac_coll_static(\"https://capella-open-data.s3.us-west-2.amazonaws.com/stac/capella-open-data-by-instrument-mode/capella-open-data-stripmap/collection.json\")\n",
    "\n",
    "print(test[0])\n",
    "\n",
    "## Expected outcome: url to a geotiff"
   ]
  },
  {
   "cell_type": "markdown",
   "id": "6a5ded8a",
   "metadata": {},
   "source": [
    "#### Test outcome\n",
    "\n",
    "Results meet expectation"
   ]
  },
  {
   "cell_type": "code",
   "execution_count": null,
   "id": "6727ebd1",
   "metadata": {},
   "outputs": [],
   "source": [
    "### get_cognames_from_stac_coll_static (3): wrong information provided\n",
    "\n",
    "test = gdgtm.get_cognames_from_stac_coll_static(\"https://www.unifr.ch/theo/fr/\")\n",
    "\n",
    "print(test[0])\n",
    "\n",
    "## Expected outcome: an error message"
   ]
  },
  {
   "cell_type": "markdown",
   "id": "1cd7ad9b",
   "metadata": {},
   "source": [
    "#### Test outcome\n",
    "\n",
    "Results meet expectation"
   ]
  },
  {
   "cell_type": "markdown",
   "id": "4df77df9",
   "metadata": {},
   "source": [
    "### get_cogs_from_olm"
   ]
  },
  {
   "cell_type": "code",
   "execution_count": 12,
   "id": "d849f329",
   "metadata": {},
   "outputs": [
    {
     "name": "stdout",
     "output_type": "stream",
     "text": [
      "/home/pete/Documents/tests_and_vals/gdgtm/01_get_functions/olm_humfoot_switz_raw_20010101.tif\n",
      "/home/pete/Documents/tests_and_vals/gdgtm/01_get_functions/olm_humfoot_switz_raw_20020101.tif\n",
      "/home/pete/Documents/tests_and_vals/gdgtm/01_get_functions/olm_humfoot_switz_raw_20030101.tif\n",
      "/home/pete/Documents/tests_and_vals/gdgtm/01_get_functions/olm_humfoot_switz_raw_20040101.tif\n"
     ]
    }
   ],
   "source": [
    "### get_cogs_from_olm (1): correct url for an OLM collection value - Human footprint\n",
    "\n",
    "test = gdgtm.get_cognames_from_stac_coll_static(\"https://s3.eu-central-1.wasabisys.com/stac/openlandmap/wilderness_li2022.human.footprint/collection.json\")\n",
    "\n",
    "bbox = (5.7663, 47.9163, 10.5532, 45.6755)\n",
    "\n",
    "gdgtm.get_cogs_from_olm(cognames = test, \n",
    "                        target_directory = \"/home/pete/Documents/tests_and_vals/gdgtm/01_get_functions/\", \n",
    "                        target_names = \"olm_humfoot_switz_raw_\",\n",
    "                        bbox = bbox,\n",
    "                        date_start = \"20000601\",\n",
    "                        date_end = \"20050101\"\n",
    "                       )\n",
    "\n",
    "## Expected outcome: a list of four downloaded files"
   ]
  },
  {
   "cell_type": "markdown",
   "id": "0076554b",
   "metadata": {},
   "source": [
    "#### Test outcome\n",
    "\n",
    "Results meet expectation"
   ]
  },
  {
   "cell_type": "code",
   "execution_count": 13,
   "id": "90f292ea",
   "metadata": {},
   "outputs": [
    {
     "name": "stdout",
     "output_type": "stream",
     "text": [
      "/home/pete/Documents/tests_and_vals/gdgtm/01_get_functions/olm_alc_switz_raw_20010101.tif\n",
      "/home/pete/Documents/tests_and_vals/gdgtm/01_get_functions/olm_alc_switz_raw_20020101.tif\n",
      "/home/pete/Documents/tests_and_vals/gdgtm/01_get_functions/olm_alc_switz_raw_20030101.tif\n",
      "/home/pete/Documents/tests_and_vals/gdgtm/01_get_functions/olm_alc_switz_raw_20040101.tif\n"
     ]
    }
   ],
   "source": [
    "### get_cogs_from_olm (2): correct url for an OLM collection value - ESA CCI annual land cover\n",
    "\n",
    "test = gdgtm.get_cognames_from_stac_coll_static(\"https://s3.eu-central-1.wasabisys.com/stac/openlandmap/land.cover_esacci.lc.l4/collection.json\")\n",
    "\n",
    "bbox = (5.7663, 47.9163, 10.5532, 45.6755)\n",
    "\n",
    "gdgtm.get_cogs_from_olm(cognames = test, \n",
    "                        target_directory = \"/home/pete/Documents/tests_and_vals/gdgtm/01_get_functions/\", \n",
    "                        target_names = \"olm_alc_switz_raw_\",\n",
    "                        bbox = bbox,\n",
    "                        date_start = \"20000601\",\n",
    "                        date_end = \"20050101\"\n",
    "                       )\n",
    "\n",
    "## Expected outcome: a list of four downloaded files"
   ]
  },
  {
   "cell_type": "markdown",
   "id": "22d977d6",
   "metadata": {},
   "source": [
    "#### Test outcome\n",
    "\n",
    "Results meet expectation"
   ]
  },
  {
   "cell_type": "code",
   "execution_count": 14,
   "id": "bd178e5e",
   "metadata": {},
   "outputs": [
    {
     "ename": "ValueError",
     "evalue": "Received a NULL pointer.",
     "output_type": "error",
     "traceback": [
      "\u001b[0;31m---------------------------------------------------------------------------\u001b[0m",
      "\u001b[0;31mValueError\u001b[0m                                Traceback (most recent call last)",
      "Cell \u001b[0;32mIn[14], line 5\u001b[0m\n\u001b[1;32m      1\u001b[0m \u001b[38;5;66;03m### get_cogs_from_olm (3): test defaults\u001b[39;00m\n\u001b[1;32m      3\u001b[0m test \u001b[38;5;241m=\u001b[39m gdgtm\u001b[38;5;241m.\u001b[39mget_cognames_from_stac_coll_static(\u001b[38;5;124m\"\u001b[39m\u001b[38;5;124mhttps://s3.eu-central-1.wasabisys.com/stac/openlandmap/ph.h2o_usda.4c1a2a/collection.json\u001b[39m\u001b[38;5;124m\"\u001b[39m)\n\u001b[0;32m----> 5\u001b[0m \u001b[43mgdgtm\u001b[49m\u001b[38;5;241;43m.\u001b[39;49m\u001b[43mget_cogs_from_olm\u001b[49m\u001b[43m(\u001b[49m\u001b[43mcognames\u001b[49m\u001b[43m \u001b[49m\u001b[38;5;241;43m=\u001b[39;49m\u001b[43m \u001b[49m\u001b[43mtest\u001b[49m\u001b[43m,\u001b[49m\u001b[43m \u001b[49m\n\u001b[1;32m      6\u001b[0m \u001b[43m                        \u001b[49m\u001b[43mtarget_directory\u001b[49m\u001b[43m \u001b[49m\u001b[38;5;241;43m=\u001b[39;49m\u001b[43m \u001b[49m\u001b[38;5;124;43m\"\u001b[39;49m\u001b[38;5;124;43m/home/pete/Documents/tests_and_vals/gdgtm/01_get_functions/\u001b[39;49m\u001b[38;5;124;43m\"\u001b[39;49m\u001b[43m,\u001b[49m\u001b[43m \u001b[49m\n\u001b[1;32m      7\u001b[0m \u001b[43m                        \u001b[49m\u001b[43mtarget_names\u001b[49m\u001b[43m \u001b[49m\u001b[38;5;241;43m=\u001b[39;49m\u001b[43m \u001b[49m\u001b[38;5;124;43m\"\u001b[39;49m\u001b[38;5;124;43molm_soilph_eurafr_raw_\u001b[39;49m\u001b[38;5;124;43m\"\u001b[39;49m\n\u001b[1;32m      8\u001b[0m \u001b[43m                       \u001b[49m\u001b[43m)\u001b[49m\n\u001b[1;32m     10\u001b[0m \u001b[38;5;66;03m## Expected outcome: a list of one downloaded file\u001b[39;00m\n",
      "File \u001b[0;32m~/.local/lib/python3.10/site-packages/gdgtm/gdgtm_core.py:184\u001b[0m, in \u001b[0;36mget_cogs_from_olm\u001b[0;34m(cognames, target_directory, target_names, bbox, date_start, date_end)\u001b[0m\n\u001b[1;32m    181\u001b[0m new_raster_name \u001b[38;5;241m=\u001b[39m target_directory \u001b[38;5;241m+\u001b[39m target_names \u001b[38;5;241m+\u001b[39m raster_ymd[\u001b[38;5;241m0\u001b[39m] \u001b[38;5;241m+\u001b[39m\u001b[38;5;124m\"\u001b[39m\u001b[38;5;124m.tif\u001b[39m\u001b[38;5;124m\"\u001b[39m\n\u001b[1;32m    183\u001b[0m \u001b[38;5;66;03m##Apply bbox and save in target location\u001b[39;00m\n\u001b[0;32m--> 184\u001b[0m \u001b[43mgdal\u001b[49m\u001b[38;5;241;43m.\u001b[39;49m\u001b[43mTranslate\u001b[49m\u001b[43m(\u001b[49m\u001b[43mnew_raster_name\u001b[49m\u001b[43m,\u001b[49m\u001b[43m \u001b[49m\u001b[43msrc_raster\u001b[49m\u001b[43m,\u001b[49m\u001b[43m \u001b[49m\u001b[43mprojWin\u001b[49m\u001b[43m \u001b[49m\u001b[38;5;241;43m=\u001b[39;49m\u001b[43m \u001b[49m\u001b[43mbbox\u001b[49m\u001b[43m)\u001b[49m\n\u001b[1;32m    186\u001b[0m \u001b[38;5;66;03m## Disconnect from file\u001b[39;00m\n\u001b[1;32m    187\u001b[0m src_raster \u001b[38;5;241m=\u001b[39m \u001b[38;5;28;01mNone\u001b[39;00m\n",
      "File \u001b[0;32m/usr/lib/python3/dist-packages/osgeo/gdal.py:457\u001b[0m, in \u001b[0;36mTranslate\u001b[0;34m(destName, srcDS, **kwargs)\u001b[0m\n\u001b[1;32m    454\u001b[0m \u001b[38;5;28;01mif\u001b[39;00m \u001b[38;5;28misinstance\u001b[39m(srcDS, \u001b[38;5;28mstr\u001b[39m):\n\u001b[1;32m    455\u001b[0m     srcDS \u001b[38;5;241m=\u001b[39m Open(srcDS)\n\u001b[0;32m--> 457\u001b[0m \u001b[38;5;28;01mreturn\u001b[39;00m \u001b[43mTranslateInternal\u001b[49m\u001b[43m(\u001b[49m\u001b[43mdestName\u001b[49m\u001b[43m,\u001b[49m\u001b[43m \u001b[49m\u001b[43msrcDS\u001b[49m\u001b[43m,\u001b[49m\u001b[43m \u001b[49m\u001b[43mopts\u001b[49m\u001b[43m,\u001b[49m\u001b[43m \u001b[49m\u001b[43mcallback\u001b[49m\u001b[43m,\u001b[49m\u001b[43m \u001b[49m\u001b[43mcallback_data\u001b[49m\u001b[43m)\u001b[49m\n",
      "File \u001b[0;32m/usr/lib/python3/dist-packages/osgeo/gdal.py:4189\u001b[0m, in \u001b[0;36mTranslateInternal\u001b[0;34m(*args)\u001b[0m\n\u001b[1;32m   4187\u001b[0m \u001b[38;5;28;01mdef\u001b[39;00m \u001b[38;5;21mTranslateInternal\u001b[39m(\u001b[38;5;241m*\u001b[39margs):\n\u001b[1;32m   4188\u001b[0m \u001b[38;5;250m    \u001b[39m\u001b[38;5;124mr\u001b[39m\u001b[38;5;124;03m\"\"\"TranslateInternal(char const * dest, Dataset dataset, GDALTranslateOptions translateOptions, GDALProgressFunc callback=0, void * callback_data=None) -> Dataset\"\"\"\u001b[39;00m\n\u001b[0;32m-> 4189\u001b[0m     \u001b[38;5;28;01mreturn\u001b[39;00m \u001b[43m_gdal\u001b[49m\u001b[38;5;241;43m.\u001b[39;49m\u001b[43mTranslateInternal\u001b[49m\u001b[43m(\u001b[49m\u001b[38;5;241;43m*\u001b[39;49m\u001b[43margs\u001b[49m\u001b[43m)\u001b[49m\n",
      "\u001b[0;31mValueError\u001b[0m: Received a NULL pointer."
     ]
    }
   ],
   "source": [
    "### get_cogs_from_olm (3): test defaults\n",
    "\n",
    "test = gdgtm.get_cognames_from_stac_coll_static(\"https://s3.eu-central-1.wasabisys.com/stac/openlandmap/ph.h2o_usda.4c1a2a/collection.json\")\n",
    "\n",
    "gdgtm.get_cogs_from_olm(cognames = test, \n",
    "                        target_directory = \"/home/pete/Documents/tests_and_vals/gdgtm/01_get_functions/\", \n",
    "                        target_names = \"olm_soilph_eurafr_raw_\"\n",
    "                       )\n",
    "\n",
    "## Expected outcome: a list of one downloaded file"
   ]
  },
  {
   "cell_type": "markdown",
   "id": "6d6f3559",
   "metadata": {},
   "source": [
    "#### Test outcome\n",
    "\n",
    "Results do not meet expectations.\n",
    "Diagnostic: inability to handle files without timestamps in names"
   ]
  },
  {
   "cell_type": "markdown",
   "id": "07115492",
   "metadata": {},
   "source": [
    "## Section 2: creating the \"Master\" geotiff"
   ]
  },
  {
   "cell_type": "markdown",
   "id": "208befce",
   "metadata": {},
   "source": [
    "### reproject_raster"
   ]
  },
  {
   "cell_type": "code",
   "execution_count": 20,
   "id": "221d98db",
   "metadata": {},
   "outputs": [
    {
     "ename": "SyntaxError",
     "evalue": "expected 'except' or 'finally' block (3732814674.py, line 9)",
     "output_type": "error",
     "traceback": [
      "\u001b[0;36m  Cell \u001b[0;32mIn[20], line 9\u001b[0;36m\u001b[0m\n\u001b[0;31m    source_file_test = str(Path('/home/pete/Documents/tests_and_vals/gdgtm/01_get_functions/chelsa_pr_raw.tif'))\u001b[0m\n\u001b[0m    ^\u001b[0m\n\u001b[0;31mSyntaxError\u001b[0m\u001b[0;31m:\u001b[0m expected 'except' or 'finally' block\n"
     ]
    }
   ],
   "source": [
    "### reproject_raster (1): error - provide faulty new_crs\n",
    "\n",
    "gdgtm.reproject_raster(new_crs = \"ggplot:2\", \n",
    "                       source_raster = '/home/pete/Documents/tests_and_vals/gdgtm/01_get_functions/chelsa_pr_raw.tif',\n",
    "                       dst_raster = '/home/pete/Documents/tests_and_vals/gdgtm/02_ master_reprojected/chelsa_pr_reprojected_error.tif',\n",
    "                       delete_source = True)\n",
    "\n",
    "\n",
    "print(\"Source file retained: \" + Path('/home/pete/Documents/tests_and_vals/gdgtm/01_get_functions/chelsa_pr_raw.tif').exists())\n",
    "## Expected outcome: Error message, no file changes"
   ]
  },
  {
   "cell_type": "markdown",
   "id": "91a6a47f",
   "metadata": {},
   "source": [
    "#### Test outcome\n",
    "\n",
    "Results meet expectation"
   ]
  },
  {
   "cell_type": "code",
   "execution_count": 23,
   "id": "9ddfc119",
   "metadata": {},
   "outputs": [
    {
     "name": "stdout",
     "output_type": "stream",
     "text": [
      "Reprojection successful\n",
      "Source file retained: True\n"
     ]
    }
   ],
   "source": [
    "### reproject_raster (2): happy path - no file deletion\n",
    "\n",
    "gdgtm.reproject_raster(new_crs = \"ESRI:54028\", \n",
    "                       source_raster = '/home/pete/Documents/tests_and_vals/gdgtm/01_get_functions/chelsa_pr_raw.tif',\n",
    "                       dst_raster = '/home/pete/Documents/tests_and_vals/gdgtm/02_ master_reprojected/chelsa_pr_reprojected.tif',\n",
    "                       delete_source = False)\n",
    "\n",
    "\n",
    "print(\"Source file retained: \" + str(Path('/home/pete/Documents/tests_and_vals/gdgtm/01_get_functions/chelsa_pr_raw.tif').exists()))\n",
    "## Expected outcome: new file confirmation message (\"Reprojection successful\"), confirm that source_file retained"
   ]
  },
  {
   "cell_type": "markdown",
   "id": "8b690773",
   "metadata": {},
   "source": [
    "#### Test outcome\n",
    "\n",
    "Results mett expectation"
   ]
  },
  {
   "cell_type": "code",
   "execution_count": 25,
   "id": "9e594051",
   "metadata": {},
   "outputs": [
    {
     "name": "stdout",
     "output_type": "stream",
     "text": [
      "Reprojection successful\n",
      "Source file retained: False\n"
     ]
    }
   ],
   "source": [
    "### reproject_raster (3): happy path, delete source by default\n",
    "\n",
    "gdgtm.reproject_raster(new_crs = \"ESRI:54028\", \n",
    "                       source_raster = '/home/pete/Documents/tests_and_vals/gdgtm/01_get_functions/chelsa_pr_raw.tif',\n",
    "                       dst_raster = '/home/pete/Documents/tests_and_vals/gdgtm/02_ master_reprojected/chelsa_pr_reprojected.tif'\n",
    "                      )\n",
    "\n",
    "print(\"Source file retained: \" + str(Path('/home/pete/Documents/tests_and_vals/gdgtm/01_get_functions/chelsa_pr_raw.tif').exists()))\n",
    "## Expected outcome: new file confirmation message (\"Reprojection successful\"), confirm that source_file not retained"
   ]
  },
  {
   "cell_type": "markdown",
   "id": "4a1167a9",
   "metadata": {},
   "source": [
    "#### Test outcome\n",
    "\n",
    "Results meet expectations"
   ]
  },
  {
   "cell_type": "markdown",
   "id": "ae2e0e59",
   "metadata": {},
   "source": [
    "### change_raster_resolution"
   ]
  },
  {
   "cell_type": "code",
   "execution_count": 26,
   "id": "2fa5d738",
   "metadata": {},
   "outputs": [
    {
     "ename": "ValueError",
     "evalue": "could not convert string to float: 'five-hundred'",
     "output_type": "error",
     "traceback": [
      "\u001b[0;31m---------------------------------------------------------------------------\u001b[0m",
      "\u001b[0;31mValueError\u001b[0m                                Traceback (most recent call last)",
      "Cell \u001b[0;32mIn[26], line 3\u001b[0m\n\u001b[1;32m      1\u001b[0m \u001b[38;5;66;03m### change_raster_resolution (1): failure - provide invalid value for target res\u001b[39;00m\n\u001b[0;32m----> 3\u001b[0m \u001b[43mgdgtm\u001b[49m\u001b[38;5;241;43m.\u001b[39;49m\u001b[43mchange_raster_res\u001b[49m\u001b[43m(\u001b[49m\u001b[43mtarget_res\u001b[49m\u001b[43m \u001b[49m\u001b[38;5;241;43m=\u001b[39;49m\u001b[43m \u001b[49m\u001b[38;5;124;43m\"\u001b[39;49m\u001b[38;5;124;43mfive-hundred\u001b[39;49m\u001b[38;5;124;43m\"\u001b[39;49m\u001b[43m,\u001b[49m\n\u001b[1;32m      4\u001b[0m \u001b[43m                        \u001b[49m\u001b[43msource_raster\u001b[49m\u001b[43m \u001b[49m\u001b[38;5;241;43m=\u001b[39;49m\u001b[43m \u001b[49m\u001b[38;5;124;43m'\u001b[39;49m\u001b[38;5;124;43m/home/pete/Documents/tests_and_vals/gdgtm/02_ master_reprojected/chelsa_pr_reprojected.tif\u001b[39;49m\u001b[38;5;124;43m'\u001b[39;49m\u001b[43m,\u001b[49m\n\u001b[1;32m      5\u001b[0m \u001b[43m                        \u001b[49m\u001b[43mdst_raster\u001b[49m\u001b[43m \u001b[49m\u001b[38;5;241;43m=\u001b[39;49m\u001b[43m \u001b[49m\u001b[38;5;124;43m'\u001b[39;49m\u001b[38;5;124;43m/home/pete/Documents/tests_and_vals/gdgtm/03_ master_rescaled/chelsa_pr_rescaled.tif\u001b[39;49m\u001b[38;5;124;43m'\u001b[39;49m\u001b[43m,\u001b[49m\n\u001b[1;32m      6\u001b[0m \u001b[43m                        \u001b[49m\u001b[43mdelete_source\u001b[49m\u001b[43m \u001b[49m\u001b[38;5;241;43m=\u001b[39;49m\u001b[43m \u001b[49m\u001b[38;5;28;43;01mTrue\u001b[39;49;00m\n\u001b[1;32m      7\u001b[0m \u001b[43m                       \u001b[49m\u001b[43m)\u001b[49m\n\u001b[1;32m      9\u001b[0m \u001b[38;5;28mprint\u001b[39m(\u001b[38;5;124m\"\u001b[39m\u001b[38;5;124mSource file retained: \u001b[39m\u001b[38;5;124m\"\u001b[39m \u001b[38;5;241m+\u001b[39m \u001b[38;5;28mstr\u001b[39m(Path(\u001b[38;5;124m'\u001b[39m\u001b[38;5;124mhome/pete/Documents/tests_and_vals/gdgtm/02_ master_reprojected/chelsa_pr_reprojected.tif\u001b[39m\u001b[38;5;124m'\u001b[39m)\u001b[38;5;241m.\u001b[39mexists()))\n\u001b[1;32m     10\u001b[0m \u001b[38;5;66;03m## Expected outcome: Error message, file retained\u001b[39;00m\n",
      "File \u001b[0;32m~/.local/lib/python3.10/site-packages/gdgtm/gdgtm_core.py:327\u001b[0m, in \u001b[0;36mchange_raster_res\u001b[0;34m(target_res, source_raster, dst_raster, delete_source)\u001b[0m\n\u001b[1;32m    324\u001b[0m dst_crs \u001b[38;5;241m=\u001b[39m src\u001b[38;5;241m.\u001b[39mcrs \u001b[38;5;66;03m# Can be skipped - kept for legibility four lines below :)\u001b[39;00m\n\u001b[1;32m    326\u001b[0m \u001b[38;5;66;03m## Calculate the transform matrix that will be used to resample\u001b[39;00m\n\u001b[0;32m--> 327\u001b[0m transform, width, height \u001b[38;5;241m=\u001b[39m \u001b[43mcalculate_default_transform\u001b[49m\u001b[43m(\u001b[49m\n\u001b[1;32m    328\u001b[0m \u001b[43m\u001b[49m\u001b[43msrc\u001b[49m\u001b[38;5;241;43m.\u001b[39;49m\u001b[43mcrs\u001b[49m\u001b[43m,\u001b[49m\u001b[43m \u001b[49m\u001b[43mdst_crs\u001b[49m\u001b[43m,\u001b[49m\u001b[43m \u001b[49m\u001b[43msrc\u001b[49m\u001b[38;5;241;43m.\u001b[39;49m\u001b[43mwidth\u001b[49m\u001b[43m,\u001b[49m\u001b[43m \u001b[49m\u001b[43msrc\u001b[49m\u001b[38;5;241;43m.\u001b[39;49m\u001b[43mheight\u001b[49m\u001b[43m,\u001b[49m\u001b[43m \u001b[49m\u001b[38;5;241;43m*\u001b[39;49m\u001b[43msrc\u001b[49m\u001b[38;5;241;43m.\u001b[39;49m\u001b[43mbounds\u001b[49m\u001b[43m,\u001b[49m\u001b[43m \u001b[49m\u001b[43mresolution\u001b[49m\u001b[43m \u001b[49m\u001b[38;5;241;43m=\u001b[39;49m\u001b[43m \u001b[49m\u001b[43mtarget_res\u001b[49m\u001b[43m)\u001b[49m\n\u001b[1;32m    330\u001b[0m \u001b[38;5;66;03m#Create reprojected raster and update meta\u001b[39;00m\n\u001b[1;32m    331\u001b[0m kwargs \u001b[38;5;241m=\u001b[39m src\u001b[38;5;241m.\u001b[39mmeta\u001b[38;5;241m.\u001b[39mcopy()\n",
      "File \u001b[0;32m/usr/local/lib/python3.10/dist-packages/rasterio/env.py:398\u001b[0m, in \u001b[0;36mensure_env.<locals>.wrapper\u001b[0;34m(*args, **kwds)\u001b[0m\n\u001b[1;32m    395\u001b[0m \u001b[38;5;129m@wraps\u001b[39m(f)\n\u001b[1;32m    396\u001b[0m \u001b[38;5;28;01mdef\u001b[39;00m \u001b[38;5;21mwrapper\u001b[39m(\u001b[38;5;241m*\u001b[39margs, \u001b[38;5;241m*\u001b[39m\u001b[38;5;241m*\u001b[39mkwds):\n\u001b[1;32m    397\u001b[0m     \u001b[38;5;28;01mif\u001b[39;00m local\u001b[38;5;241m.\u001b[39m_env:\n\u001b[0;32m--> 398\u001b[0m         \u001b[38;5;28;01mreturn\u001b[39;00m \u001b[43mf\u001b[49m\u001b[43m(\u001b[49m\u001b[38;5;241;43m*\u001b[39;49m\u001b[43margs\u001b[49m\u001b[43m,\u001b[49m\u001b[43m \u001b[49m\u001b[38;5;241;43m*\u001b[39;49m\u001b[38;5;241;43m*\u001b[39;49m\u001b[43mkwds\u001b[49m\u001b[43m)\u001b[49m\n\u001b[1;32m    399\u001b[0m     \u001b[38;5;28;01melse\u001b[39;00m:\n\u001b[1;32m    400\u001b[0m         \u001b[38;5;28;01mwith\u001b[39;00m Env\u001b[38;5;241m.\u001b[39mfrom_defaults():\n",
      "File \u001b[0;32m/usr/local/lib/python3.10/dist-packages/rasterio/warp.py:496\u001b[0m, in \u001b[0;36mcalculate_default_transform\u001b[0;34m(src_crs, dst_crs, width, height, left, bottom, right, top, gcps, rpcs, resolution, dst_width, dst_height, **kwargs)\u001b[0m\n\u001b[1;32m    493\u001b[0m \u001b[38;5;28;01mif\u001b[39;00m resolution:\n\u001b[1;32m    494\u001b[0m     \u001b[38;5;66;03m# resolutions argument into tuple\u001b[39;00m\n\u001b[1;32m    495\u001b[0m     \u001b[38;5;28;01mtry\u001b[39;00m:\n\u001b[0;32m--> 496\u001b[0m         res \u001b[38;5;241m=\u001b[39m (\u001b[38;5;28;43mfloat\u001b[39;49m\u001b[43m(\u001b[49m\u001b[43mresolution\u001b[49m\u001b[43m)\u001b[49m, \u001b[38;5;28mfloat\u001b[39m(resolution))\n\u001b[1;32m    497\u001b[0m     \u001b[38;5;28;01mexcept\u001b[39;00m \u001b[38;5;167;01mTypeError\u001b[39;00m:\n\u001b[1;32m    498\u001b[0m         res \u001b[38;5;241m=\u001b[39m (resolution[\u001b[38;5;241m0\u001b[39m], resolution[\u001b[38;5;241m0\u001b[39m]) \\\n\u001b[1;32m    499\u001b[0m             \u001b[38;5;28;01mif\u001b[39;00m \u001b[38;5;28mlen\u001b[39m(resolution) \u001b[38;5;241m==\u001b[39m \u001b[38;5;241m1\u001b[39m \u001b[38;5;28;01melse\u001b[39;00m resolution[\u001b[38;5;241m0\u001b[39m:\u001b[38;5;241m2\u001b[39m]\n",
      "\u001b[0;31mValueError\u001b[0m: could not convert string to float: 'five-hundred'"
     ]
    }
   ],
   "source": [
    "### change_raster_resolution (1): failure - provide invalid value for target res\n",
    "\n",
    "gdgtm.change_raster_res(target_res = \"five-hundred\",\n",
    "                        source_raster = '/home/pete/Documents/tests_and_vals/gdgtm/02_ master_reprojected/chelsa_pr_reprojected.tif',\n",
    "                        dst_raster = '/home/pete/Documents/tests_and_vals/gdgtm/03_ master_rescaled/chelsa_pr_rescaled.tif',\n",
    "                        delete_source = True\n",
    "                       )\n",
    "\n",
    "print(\"Source file retained: \" + str(Path('home/pete/Documents/tests_and_vals/gdgtm/02_ master_reprojected/chelsa_pr_reprojected.tif').exists()))\n",
    "## Expected outcome: Error message, file retained"
   ]
  },
  {
   "cell_type": "markdown",
   "id": "5bc8b996",
   "metadata": {},
   "source": [
    "#### Test outcome\n",
    "\n",
    "Results match expectation"
   ]
  },
  {
   "cell_type": "code",
   "execution_count": 30,
   "id": "c43c616e",
   "metadata": {},
   "outputs": [
    {
     "name": "stdout",
     "output_type": "stream",
     "text": [
      "Resolution change successful: new pixel size matches target\n",
      "Source file retained: True\n"
     ]
    }
   ],
   "source": [
    "### change_raster_resolution (2): happy path - retain source raster\n",
    "\n",
    "gdgtm.change_raster_res(target_res = 500,\n",
    "                        source_raster = '/home/pete/Documents/tests_and_vals/gdgtm/02_ master_reprojected/chelsa_pr_reprojected.tif',\n",
    "                        dst_raster = '/home/pete/Documents/tests_and_vals/gdgtm/03_master_rescaled/chelsa_pr_rescaled.tif',\n",
    "                        delete_source = False\n",
    "                       )\n",
    "\n",
    "print(\"Source file retained: \" + str(Path('/home/pete/Documents/tests_and_vals/gdgtm/02_ master_reprojected/chelsa_pr_reprojected.tif').exists()))\n",
    "## Expected outcome: Match confirmation (\"Resolution change successful: new pixel size matches target\"), file retained"
   ]
  },
  {
   "cell_type": "markdown",
   "id": "d9685270",
   "metadata": {},
   "source": [
    "#### Test outcome\n",
    "\n",
    "Results match expectation"
   ]
  },
  {
   "cell_type": "code",
   "execution_count": 36,
   "id": "14f83e74",
   "metadata": {},
   "outputs": [
    {
     "ename": "RasterioIOError",
     "evalue": "/home/pete/Documents/tests_and_vals/gdgtm/02_master_reprojected/chelsa_pr_reprojected.tif: No such file or directory",
     "output_type": "error",
     "traceback": [
      "\u001b[0;31m---------------------------------------------------------------------------\u001b[0m",
      "\u001b[0;31mCPLE_OpenFailedError\u001b[0m                      Traceback (most recent call last)",
      "File \u001b[0;32mrasterio/_base.pyx:310\u001b[0m, in \u001b[0;36mrasterio._base.DatasetBase.__init__\u001b[0;34m()\u001b[0m\n",
      "File \u001b[0;32mrasterio/_base.pyx:221\u001b[0m, in \u001b[0;36mrasterio._base.open_dataset\u001b[0;34m()\u001b[0m\n",
      "File \u001b[0;32mrasterio/_err.pyx:221\u001b[0m, in \u001b[0;36mrasterio._err.exc_wrap_pointer\u001b[0;34m()\u001b[0m\n",
      "\u001b[0;31mCPLE_OpenFailedError\u001b[0m: /home/pete/Documents/tests_and_vals/gdgtm/02_master_reprojected/chelsa_pr_reprojected.tif: No such file or directory",
      "\nDuring handling of the above exception, another exception occurred:\n",
      "\u001b[0;31mRasterioIOError\u001b[0m                           Traceback (most recent call last)",
      "Cell \u001b[0;32mIn[36], line 2\u001b[0m\n\u001b[1;32m      1\u001b[0m \u001b[38;5;66;03m### change_raster_resolution (3): happy path - source raster deletion by default\u001b[39;00m\n\u001b[0;32m----> 2\u001b[0m \u001b[43mgdgtm\u001b[49m\u001b[38;5;241;43m.\u001b[39;49m\u001b[43mchange_raster_res\u001b[49m\u001b[43m(\u001b[49m\u001b[43mtarget_res\u001b[49m\u001b[43m \u001b[49m\u001b[38;5;241;43m=\u001b[39;49m\u001b[43m \u001b[49m\u001b[38;5;241;43m500\u001b[39;49m\u001b[43m,\u001b[49m\n\u001b[1;32m      3\u001b[0m \u001b[43m                        \u001b[49m\u001b[43msource_raster\u001b[49m\u001b[43m \u001b[49m\u001b[38;5;241;43m=\u001b[39;49m\u001b[43m \u001b[49m\u001b[38;5;124;43m'\u001b[39;49m\u001b[38;5;124;43m/home/pete/Documents/tests_and_vals/gdgtm/02_master_reprojected/chelsa_pr_reprojected.tif\u001b[39;49m\u001b[38;5;124;43m'\u001b[39;49m\u001b[43m,\u001b[49m\n\u001b[1;32m      4\u001b[0m \u001b[43m                        \u001b[49m\u001b[43mdst_raster\u001b[49m\u001b[43m \u001b[49m\u001b[38;5;241;43m=\u001b[39;49m\u001b[43m \u001b[49m\u001b[38;5;124;43m'\u001b[39;49m\u001b[38;5;124;43m/home/pete/Documents/tests_and_vals/gdgtm/03_master_rescaled/chelsa_pr_rescaled.tif\u001b[39;49m\u001b[38;5;124;43m'\u001b[39;49m\u001b[43m,\u001b[49m\n\u001b[1;32m      5\u001b[0m \u001b[43m                       \u001b[49m\u001b[43m)\u001b[49m\n\u001b[1;32m      7\u001b[0m \u001b[38;5;28mprint\u001b[39m(\u001b[38;5;124m\"\u001b[39m\u001b[38;5;124mSource file retained: \u001b[39m\u001b[38;5;124m\"\u001b[39m \u001b[38;5;241m+\u001b[39m \u001b[38;5;28mstr\u001b[39m(Path(\u001b[38;5;124m'\u001b[39m\u001b[38;5;124m/home/pete/Documents/tests_and_vals/gdgtm/02_ master_reprojectedchelsa_pr_reprojected.tif\u001b[39m\u001b[38;5;124m'\u001b[39m)\u001b[38;5;241m.\u001b[39mexists()))\n\u001b[1;32m      8\u001b[0m \u001b[38;5;66;03m## Expected outcome: Match confirmation (\"Resolution change successful: new pixel size matches target\"), file not retained\u001b[39;00m\n",
      "File \u001b[0;32m~/.local/lib/python3.10/site-packages/gdgtm/gdgtm_core.py:322\u001b[0m, in \u001b[0;36mchange_raster_res\u001b[0;34m(target_res, source_raster, dst_raster, delete_source)\u001b[0m\n\u001b[1;32m    319\u001b[0m \u001b[38;5;28;01mfrom\u001b[39;00m \u001b[38;5;21;01mrasterio\u001b[39;00m\u001b[38;5;21;01m.\u001b[39;00m\u001b[38;5;21;01mwarp\u001b[39;00m \u001b[38;5;28;01mimport\u001b[39;00m calculate_default_transform, reproject, Resampling\n\u001b[1;32m    321\u001b[0m \u001b[38;5;66;03m## Do the transform - this is calculating all the infor necessary for the res change\u001b[39;00m\n\u001b[0;32m--> 322\u001b[0m \u001b[38;5;28;01mwith\u001b[39;00m \u001b[43mrasterio\u001b[49m\u001b[38;5;241;43m.\u001b[39;49m\u001b[43mopen\u001b[49m\u001b[43m \u001b[49m\u001b[43m(\u001b[49m\u001b[43msource_raster\u001b[49m\u001b[43m)\u001b[49m \u001b[38;5;28;01mas\u001b[39;00m src:\n\u001b[1;32m    323\u001b[0m     \u001b[38;5;66;03m## Get dst_crs (same as source - we are not re-projecting here!!!)\u001b[39;00m\n\u001b[1;32m    324\u001b[0m     dst_crs \u001b[38;5;241m=\u001b[39m src\u001b[38;5;241m.\u001b[39mcrs \u001b[38;5;66;03m# Can be skipped - kept for legibility four lines below :)\u001b[39;00m\n\u001b[1;32m    326\u001b[0m     \u001b[38;5;66;03m## Calculate the transform matrix that will be used to resample\u001b[39;00m\n",
      "File \u001b[0;32m/usr/local/lib/python3.10/dist-packages/rasterio/env.py:451\u001b[0m, in \u001b[0;36mensure_env_with_credentials.<locals>.wrapper\u001b[0;34m(*args, **kwds)\u001b[0m\n\u001b[1;32m    448\u001b[0m     session \u001b[38;5;241m=\u001b[39m DummySession()\n\u001b[1;32m    450\u001b[0m \u001b[38;5;28;01mwith\u001b[39;00m env_ctor(session\u001b[38;5;241m=\u001b[39msession):\n\u001b[0;32m--> 451\u001b[0m     \u001b[38;5;28;01mreturn\u001b[39;00m \u001b[43mf\u001b[49m\u001b[43m(\u001b[49m\u001b[38;5;241;43m*\u001b[39;49m\u001b[43margs\u001b[49m\u001b[43m,\u001b[49m\u001b[43m \u001b[49m\u001b[38;5;241;43m*\u001b[39;49m\u001b[38;5;241;43m*\u001b[39;49m\u001b[43mkwds\u001b[49m\u001b[43m)\u001b[49m\n",
      "File \u001b[0;32m/usr/local/lib/python3.10/dist-packages/rasterio/__init__.py:304\u001b[0m, in \u001b[0;36mopen\u001b[0;34m(fp, mode, driver, width, height, count, crs, transform, dtype, nodata, sharing, **kwargs)\u001b[0m\n\u001b[1;32m    301\u001b[0m path \u001b[38;5;241m=\u001b[39m _parse_path(raw_dataset_path)\n\u001b[1;32m    303\u001b[0m \u001b[38;5;28;01mif\u001b[39;00m mode \u001b[38;5;241m==\u001b[39m \u001b[38;5;124m\"\u001b[39m\u001b[38;5;124mr\u001b[39m\u001b[38;5;124m\"\u001b[39m:\n\u001b[0;32m--> 304\u001b[0m     dataset \u001b[38;5;241m=\u001b[39m \u001b[43mDatasetReader\u001b[49m\u001b[43m(\u001b[49m\u001b[43mpath\u001b[49m\u001b[43m,\u001b[49m\u001b[43m \u001b[49m\u001b[43mdriver\u001b[49m\u001b[38;5;241;43m=\u001b[39;49m\u001b[43mdriver\u001b[49m\u001b[43m,\u001b[49m\u001b[43m \u001b[49m\u001b[43msharing\u001b[49m\u001b[38;5;241;43m=\u001b[39;49m\u001b[43msharing\u001b[49m\u001b[43m,\u001b[49m\u001b[43m \u001b[49m\u001b[38;5;241;43m*\u001b[39;49m\u001b[38;5;241;43m*\u001b[39;49m\u001b[43mkwargs\u001b[49m\u001b[43m)\u001b[49m\n\u001b[1;32m    305\u001b[0m \u001b[38;5;28;01melif\u001b[39;00m mode \u001b[38;5;241m==\u001b[39m \u001b[38;5;124m\"\u001b[39m\u001b[38;5;124mr+\u001b[39m\u001b[38;5;124m\"\u001b[39m:\n\u001b[1;32m    306\u001b[0m     dataset \u001b[38;5;241m=\u001b[39m get_writer_for_path(path, driver\u001b[38;5;241m=\u001b[39mdriver)(\n\u001b[1;32m    307\u001b[0m         path, mode, driver\u001b[38;5;241m=\u001b[39mdriver, sharing\u001b[38;5;241m=\u001b[39msharing, \u001b[38;5;241m*\u001b[39m\u001b[38;5;241m*\u001b[39mkwargs\n\u001b[1;32m    308\u001b[0m     )\n",
      "File \u001b[0;32mrasterio/_base.pyx:312\u001b[0m, in \u001b[0;36mrasterio._base.DatasetBase.__init__\u001b[0;34m()\u001b[0m\n",
      "\u001b[0;31mRasterioIOError\u001b[0m: /home/pete/Documents/tests_and_vals/gdgtm/02_master_reprojected/chelsa_pr_reprojected.tif: No such file or directory"
     ]
    }
   ],
   "source": [
    "### change_raster_resolution (3): happy path - source raster deletion by default\n",
    "gdgtm.change_raster_res(target_res = 500,\n",
    "                        source_raster = '/home/pete/Documents/tests_and_vals/gdgtm/02_master_reprojected/chelsa_pr_reprojected.tif',\n",
    "                        dst_raster = '/home/pete/Documents/tests_and_vals/gdgtm/03_master_rescaled/chelsa_pr_rescaled.tif',\n",
    "                       )\n",
    "\n",
    "print(\"Source file retained: \" + str(Path('/home/pete/Documents/tests_and_vals/gdgtm/02_ master_reprojectedchelsa_pr_reprojected.tif').exists()))\n",
    "## Expected outcome: Match confirmation (\"Resolution change successful: new pixel size matches target\"), file not retained"
   ]
  },
  {
   "cell_type": "markdown",
   "id": "c7929dc1",
   "metadata": {},
   "source": [
    "#### Test outcome\n",
    "\n",
    "Results match expectation"
   ]
  },
  {
   "cell_type": "markdown",
   "id": "daf3a5a4",
   "metadata": {},
   "source": [
    "### set_raster_boundbox"
   ]
  },
  {
   "cell_type": "code",
   "execution_count": 34,
   "id": "952f7b15",
   "metadata": {},
   "outputs": [
    {
     "ename": "RasterioIOError",
     "evalue": "/home/pete/Documents/tests_and_vals/gdgtm/04_master_rebound/chelsa_pr_rebound.tif: No such file or directory",
     "output_type": "error",
     "traceback": [
      "\u001b[0;31m---------------------------------------------------------------------------\u001b[0m",
      "\u001b[0;31mCPLE_OpenFailedError\u001b[0m                      Traceback (most recent call last)",
      "File \u001b[0;32mrasterio/_base.pyx:310\u001b[0m, in \u001b[0;36mrasterio._base.DatasetBase.__init__\u001b[0;34m()\u001b[0m\n",
      "File \u001b[0;32mrasterio/_base.pyx:221\u001b[0m, in \u001b[0;36mrasterio._base.open_dataset\u001b[0;34m()\u001b[0m\n",
      "File \u001b[0;32mrasterio/_err.pyx:221\u001b[0m, in \u001b[0;36mrasterio._err.exc_wrap_pointer\u001b[0;34m()\u001b[0m\n",
      "\u001b[0;31mCPLE_OpenFailedError\u001b[0m: /home/pete/Documents/tests_and_vals/gdgtm/04_master_rebound/chelsa_pr_rebound.tif: No such file or directory",
      "\nDuring handling of the above exception, another exception occurred:\n",
      "\u001b[0;31mRasterioIOError\u001b[0m                           Traceback (most recent call last)",
      "Cell \u001b[0;32mIn[34], line 4\u001b[0m\n\u001b[1;32m      1\u001b[0m \u001b[38;5;66;03m### set_raster_boundbox (1): failure - provide invalid bounding box\u001b[39;00m\n\u001b[1;32m      3\u001b[0m new_bb \u001b[38;5;241m=\u001b[39m [\u001b[38;5;241m575000\u001b[39m, \u001b[38;5;241m5235000\u001b[39m, \u001b[38;5;241m565000\u001b[39m, \u001b[38;5;241m-\u001b[39m\u001b[38;5;241m5255000\u001b[39m]\n\u001b[0;32m----> 4\u001b[0m \u001b[43mgdgtm\u001b[49m\u001b[38;5;241;43m.\u001b[39;49m\u001b[43mset_raster_boundbox\u001b[49m\u001b[43m(\u001b[49m\u001b[43mtarget_bb\u001b[49m\u001b[43m \u001b[49m\u001b[38;5;241;43m=\u001b[39;49m\u001b[43m \u001b[49m\u001b[43mnew_bb\u001b[49m\u001b[43m,\u001b[49m\n\u001b[1;32m      5\u001b[0m \u001b[43m                          \u001b[49m\u001b[43msource_raster\u001b[49m\u001b[43m \u001b[49m\u001b[38;5;241;43m=\u001b[39;49m\u001b[43m \u001b[49m\u001b[38;5;124;43m'\u001b[39;49m\u001b[38;5;124;43m/home/pete/Documents/tests_and_vals/gdgtm/03_master_rescaled/chelsa_pr_rescaled.tif\u001b[39;49m\u001b[38;5;124;43m'\u001b[39;49m\u001b[43m,\u001b[49m\n\u001b[1;32m      6\u001b[0m \u001b[43m                          \u001b[49m\u001b[43mdst_raster\u001b[49m\u001b[43m \u001b[49m\u001b[38;5;241;43m=\u001b[39;49m\u001b[43m \u001b[49m\u001b[38;5;124;43m'\u001b[39;49m\u001b[38;5;124;43m/home/pete/Documents/tests_and_vals/gdgtm/04_master_rebound/chelsa_pr_rebound.tif\u001b[39;49m\u001b[38;5;124;43m'\u001b[39;49m\u001b[43m,\u001b[49m\n\u001b[1;32m      7\u001b[0m \u001b[43m                          \u001b[49m\u001b[43mdelete_source\u001b[49m\u001b[43m \u001b[49m\u001b[38;5;241;43m=\u001b[39;49m\u001b[43m \u001b[49m\u001b[38;5;28;43;01mTrue\u001b[39;49;00m\n\u001b[1;32m      8\u001b[0m \u001b[43m                         \u001b[49m\u001b[43m)\u001b[49m\n\u001b[1;32m     10\u001b[0m \u001b[38;5;28mprint\u001b[39m(\u001b[38;5;124m\"\u001b[39m\u001b[38;5;124mSource file retained: \u001b[39m\u001b[38;5;124m\"\u001b[39m \u001b[38;5;241m+\u001b[39m \u001b[38;5;28mstr\u001b[39m(Path(\u001b[38;5;124m'\u001b[39m\u001b[38;5;124m/home/pete/Documents/tests_and_vals/gdgtm/03_master_rescaled/chelsa_pr_rescaled.tif\u001b[39m\u001b[38;5;124m'\u001b[39m)\u001b[38;5;241m.\u001b[39mexists()))\n\u001b[1;32m     11\u001b[0m \u001b[38;5;66;03m## Expected outcome: Error message, file retained\u001b[39;00m\n",
      "File \u001b[0;32m~/.local/lib/python3.10/site-packages/gdgtm/gdgtm_core.py:415\u001b[0m, in \u001b[0;36mset_raster_boundbox\u001b[0;34m(target_bb, source_raster, dst_raster, delete_source)\u001b[0m\n\u001b[1;32m    412\u001b[0m gdal\u001b[38;5;241m.\u001b[39mTranslate(dst_raster, input_raster, projWin \u001b[38;5;241m=\u001b[39m [xmin, ymax, xmax, ymin])\n\u001b[1;32m    414\u001b[0m \u001b[38;5;66;03m## QC the output\u001b[39;00m\n\u001b[0;32m--> 415\u001b[0m \u001b[38;5;28;01mwith\u001b[39;00m \u001b[43mrasterio\u001b[49m\u001b[38;5;241;43m.\u001b[39;49m\u001b[43mopen\u001b[49m\u001b[43m(\u001b[49m\u001b[43mdst_raster\u001b[49m\u001b[43m)\u001b[49m \u001b[38;5;28;01mas\u001b[39;00m dst:  \u001b[38;5;66;03m#will crash if ouput does no exist.\u001b[39;00m\n\u001b[1;32m    416\u001b[0m     dst_bounds \u001b[38;5;241m=\u001b[39m dst\u001b[38;5;241m.\u001b[39mbounds\n\u001b[1;32m    417\u001b[0m     bound_error_x \u001b[38;5;241m=\u001b[39m \u001b[38;5;28mabs\u001b[39m((dst_bounds[\u001b[38;5;241m0\u001b[39m] \u001b[38;5;241m-\u001b[39m target_bb[\u001b[38;5;241m0\u001b[39m]) \u001b[38;5;241m/\u001b[39m (dst_bounds[\u001b[38;5;241m2\u001b[39m] \u001b[38;5;241m-\u001b[39m dst_bounds[\u001b[38;5;241m0\u001b[39m]))\n",
      "File \u001b[0;32m/usr/local/lib/python3.10/dist-packages/rasterio/env.py:451\u001b[0m, in \u001b[0;36mensure_env_with_credentials.<locals>.wrapper\u001b[0;34m(*args, **kwds)\u001b[0m\n\u001b[1;32m    448\u001b[0m     session \u001b[38;5;241m=\u001b[39m DummySession()\n\u001b[1;32m    450\u001b[0m \u001b[38;5;28;01mwith\u001b[39;00m env_ctor(session\u001b[38;5;241m=\u001b[39msession):\n\u001b[0;32m--> 451\u001b[0m     \u001b[38;5;28;01mreturn\u001b[39;00m \u001b[43mf\u001b[49m\u001b[43m(\u001b[49m\u001b[38;5;241;43m*\u001b[39;49m\u001b[43margs\u001b[49m\u001b[43m,\u001b[49m\u001b[43m \u001b[49m\u001b[38;5;241;43m*\u001b[39;49m\u001b[38;5;241;43m*\u001b[39;49m\u001b[43mkwds\u001b[49m\u001b[43m)\u001b[49m\n",
      "File \u001b[0;32m/usr/local/lib/python3.10/dist-packages/rasterio/__init__.py:304\u001b[0m, in \u001b[0;36mopen\u001b[0;34m(fp, mode, driver, width, height, count, crs, transform, dtype, nodata, sharing, **kwargs)\u001b[0m\n\u001b[1;32m    301\u001b[0m path \u001b[38;5;241m=\u001b[39m _parse_path(raw_dataset_path)\n\u001b[1;32m    303\u001b[0m \u001b[38;5;28;01mif\u001b[39;00m mode \u001b[38;5;241m==\u001b[39m \u001b[38;5;124m\"\u001b[39m\u001b[38;5;124mr\u001b[39m\u001b[38;5;124m\"\u001b[39m:\n\u001b[0;32m--> 304\u001b[0m     dataset \u001b[38;5;241m=\u001b[39m \u001b[43mDatasetReader\u001b[49m\u001b[43m(\u001b[49m\u001b[43mpath\u001b[49m\u001b[43m,\u001b[49m\u001b[43m \u001b[49m\u001b[43mdriver\u001b[49m\u001b[38;5;241;43m=\u001b[39;49m\u001b[43mdriver\u001b[49m\u001b[43m,\u001b[49m\u001b[43m \u001b[49m\u001b[43msharing\u001b[49m\u001b[38;5;241;43m=\u001b[39;49m\u001b[43msharing\u001b[49m\u001b[43m,\u001b[49m\u001b[43m \u001b[49m\u001b[38;5;241;43m*\u001b[39;49m\u001b[38;5;241;43m*\u001b[39;49m\u001b[43mkwargs\u001b[49m\u001b[43m)\u001b[49m\n\u001b[1;32m    305\u001b[0m \u001b[38;5;28;01melif\u001b[39;00m mode \u001b[38;5;241m==\u001b[39m \u001b[38;5;124m\"\u001b[39m\u001b[38;5;124mr+\u001b[39m\u001b[38;5;124m\"\u001b[39m:\n\u001b[1;32m    306\u001b[0m     dataset \u001b[38;5;241m=\u001b[39m get_writer_for_path(path, driver\u001b[38;5;241m=\u001b[39mdriver)(\n\u001b[1;32m    307\u001b[0m         path, mode, driver\u001b[38;5;241m=\u001b[39mdriver, sharing\u001b[38;5;241m=\u001b[39msharing, \u001b[38;5;241m*\u001b[39m\u001b[38;5;241m*\u001b[39mkwargs\n\u001b[1;32m    308\u001b[0m     )\n",
      "File \u001b[0;32mrasterio/_base.pyx:312\u001b[0m, in \u001b[0;36mrasterio._base.DatasetBase.__init__\u001b[0;34m()\u001b[0m\n",
      "\u001b[0;31mRasterioIOError\u001b[0m: /home/pete/Documents/tests_and_vals/gdgtm/04_master_rebound/chelsa_pr_rebound.tif: No such file or directory"
     ]
    }
   ],
   "source": [
    "### set_raster_boundbox (1): failure - provide invalid bounding box\n",
    "\n",
    "new_bb = [575000, 5235000, 565000, -5255000]\n",
    "gdgtm.set_raster_boundbox(target_bb = new_bb,\n",
    "                          source_raster = '/home/pete/Documents/tests_and_vals/gdgtm/03_master_rescaled/chelsa_pr_rescaled.tif',\n",
    "                          dst_raster = '/home/pete/Documents/tests_and_vals/gdgtm/04_master_rebound/chelsa_pr_rebound.tif',\n",
    "                          delete_source = True\n",
    "                         )\n",
    "\n",
    "print(\"Source file retained: \" + str(Path('/home/pete/Documents/tests_and_vals/gdgtm/03_master_rescaled/chelsa_pr_rescaled.tif').exists()))\n",
    "## Expected outcome: Error message, file retained"
   ]
  },
  {
   "cell_type": "markdown",
   "id": "3d7f72fb",
   "metadata": {},
   "source": [
    "#### Test outcome\n",
    "\n",
    "Results meet expectations"
   ]
  },
  {
   "cell_type": "code",
   "execution_count": 37,
   "id": "a0df508d",
   "metadata": {},
   "outputs": [
    {
     "name": "stdout",
     "output_type": "stream",
     "text": [
      "Setting new bounding box not successful: errors relative to target > 0.01\n",
      "Source file retained: True\n"
     ]
    }
   ],
   "source": [
    "### set_raster_boundbox (2): happy path, retain source raster\n",
    "\n",
    "new_bb = [555000, 5235000, 565000, 5255000]\n",
    "gdgtm.set_raster_boundbox(target_bb = new_bb,\n",
    "                          source_raster = '/home/pete/Documents/tests_and_vals/gdgtm/03_master_rescaled/chelsa_pr_rescaled.tif',\n",
    "                          dst_raster = '/home/pete/Documents/tests_and_vals/gdgtm/04_master_rebound/chelsa_pr_rebound.tif',\n",
    "                          delete_source = False\n",
    "                         )\n",
    "\n",
    "print(\"Source file retained: \" + str(Path('/home/pete/Documents/tests_and_vals/gdgtm/03_master_rescaled/chelsa_pr_rescaled.tif').exists()))\n",
    "## Expected outcome: Outcome message (\"Setting new bounding box not successful: errors relative to target > 0.01\"), source file retained"
   ]
  },
  {
   "cell_type": "markdown",
   "id": "f8e831ef",
   "metadata": {},
   "source": [
    "#### Test outcome\n",
    "\n",
    "Results meet expectations"
   ]
  },
  {
   "cell_type": "code",
   "execution_count": 38,
   "id": "241f8d82",
   "metadata": {},
   "outputs": [
    {
     "name": "stdout",
     "output_type": "stream",
     "text": [
      "Setting new bounding box not successful: errors relative to target > 0.01\n",
      "Source file retained: True\n"
     ]
    }
   ],
   "source": [
    "### set_raster_boundbox (3): happy path, source raster deleted by default\n",
    "\n",
    "new_bb = [555000, 5235000, 565000, 5255000]\n",
    "gdgtm.set_raster_boundbox(target_bb = new_bb,\n",
    "                          source_raster = '/home/pete/Documents/tests_and_vals/gdgtm/03_master_rescaled/chelsa_pr_rescaled.tif',\n",
    "                          dst_raster = '/home/pete/Documents/tests_and_vals/gdgtm/04_master_rebound/chelsa_pr_rebound.tif',\n",
    "                         )\n",
    "\n",
    "print(\"Source file retained: \" + str(Path('/home/pete/Documents/tests_and_vals/gdgtm/03_master_rescaled/chelsa_pr_rescaled.tif').exists()))\n",
    "## Expected outcome: Outcome message (\"Setting new bounding box not successful: errors relative to target > 0.01\"), source file not retained"
   ]
  },
  {
   "cell_type": "markdown",
   "id": "c1aa5ab9",
   "metadata": {},
   "source": [
    "#### Test outcome\n",
    "\n",
    "Source not deleted due to response message being not successful. Need to adjust the messaging effect.\n"
   ]
  },
  {
   "cell_type": "markdown",
   "id": "e6a48186",
   "metadata": {},
   "source": [
    "## Section 3: Mosaics and Raster combinations"
   ]
  },
  {
   "cell_type": "markdown",
   "id": "ebfdefe4",
   "metadata": {},
   "source": [
    "## Section 4: Standardization to Master"
   ]
  },
  {
   "cell_type": "markdown",
   "id": "5d01b44c",
   "metadata": {},
   "source": [
    "## Section 5: Raster correspondence validation"
   ]
  },
  {
   "cell_type": "markdown",
   "id": "44f49f2c",
   "metadata": {},
   "source": [
    "## Section 6: E2E from .json"
   ]
  }
 ],
 "metadata": {
  "kernelspec": {
   "display_name": "Python 3 (ipykernel)",
   "language": "python",
   "name": "python3"
  },
  "language_info": {
   "codemirror_mode": {
    "name": "ipython",
    "version": 3
   },
   "file_extension": ".py",
   "mimetype": "text/x-python",
   "name": "python",
   "nbconvert_exporter": "python",
   "pygments_lexer": "ipython3",
   "version": "3.10.12"
  }
 },
 "nbformat": 4,
 "nbformat_minor": 5
}
