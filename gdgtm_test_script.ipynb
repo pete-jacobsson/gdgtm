{
 "cells": [
  {
   "cell_type": "markdown",
   "id": "8319f7f8",
   "metadata": {},
   "source": [
    "# gdgtm regression test\n",
    "\n",
    "The goal of this test is to evaluate whether the gdgtm (**g**eospatial **d**ata **g**etting, **t**ransforming, **m**anaging) pipeline built to feed standardized rasters for downstream ML actions (overall goal of the gdgtm package) is working as intended. The test script is structured as follows:\n",
    "\n",
    "- Section 1: Test the flow of the relevant \"get\" functions\n",
    "- Section 2: Test the core pipeline for creating the \"master\" raster\n",
    "- Section 3: Test the mosaics and raster combination components\n",
    "- Section 4: Test the alignment and validation line\n",
    "- Section 5: STAC get functions\n",
    "- Section 6: Shapefile conversion\n",
    "- Section 7: Numpyifying rasters\n",
    "\n",
    "This is the test script and not intended as primary documentation ' for that, please refer to the \"documentation\" folder and the demo."
   ]
  },
  {
   "cell_type": "markdown",
   "id": "d57472fc",
   "metadata": {},
   "source": [
    "Current tested version: **0.7.0**"
   ]
  },
  {
   "cell_type": "code",
   "execution_count": 1,
   "id": "5f779a55",
   "metadata": {},
   "outputs": [],
   "source": [
    "import gdgtm\n",
    "import rasterio\n",
    "import numpy as np\n",
    "from pathlib import Path\n",
    "import matplotlib.pyplot as plt\n",
    "import os\n",
    "import re\n",
    "import shutil"
   ]
  },
  {
   "cell_type": "markdown",
   "id": "3c02d170-e2da-4474-aef0-e22164a4131d",
   "metadata": {},
   "source": [
    "## Test preparation\n",
    "This section sets up the directory structure for the test script. This ensures the removal of any old test material, clearing any old structures and putting in new ones."
   ]
  },
  {
   "cell_type": "code",
   "execution_count": 24,
   "id": "6a77ff4f-1fdd-4a2d-8729-1a1b6471e56e",
   "metadata": {},
   "outputs": [],
   "source": [
    "## Set up the test directory urls\n",
    "test_location = \"/home/pete/Documents/tests_and_vals\" ## Change to local spec\n",
    "test_directory = \"gdgtm_test\"\n",
    "\n",
    "test_path = os.path.join(test_location, test_directory)\n",
    "test_tifs = os.path.join(test_path, \"test_tifs\")\n",
    "\n",
    "subdir_names = [\"01_get_functions\", \"02_single_rescaled\", \n",
    "                \"03_single_to_zero_one\", \"04_single_landmasked\", \n",
    "                \"05_single_rebound\", \"06_single_reprojected\", \n",
    "                \"07_single_na_to_null\", \"08_automated_from_blank\", \n",
    "                \"09_automated_from_coord\", \"10_automated_from_random\", \n",
    "                \"11_conversions\"]\n",
    "\n",
    "\n",
    "# subdir_names = [\"01_get_functions\", \"02_single_reprojected\", \n",
    "#                 \"03_single_rescaled\", \"04_single_rebound\", \n",
    "#                 \"05_complimentary_aligned\", \"06_mosaic_merge_prep\", \n",
    "#                 \"07_mosaic_merge_out\", \"08_bound_shapefiles\",\n",
    "#                 \"09_rasters_from_shp\", \"10_rasters_from_numpy\"] ### SOME OF THESE WILL NEED FUNCTIONALITY REINSTATEMENT FIRST"
   ]
  },
  {
   "cell_type": "code",
   "execution_count": 25,
   "id": "2e4cf3e1-1fc4-4137-a272-93b8c75b0ef6",
   "metadata": {},
   "outputs": [],
   "source": [
    "### Function for deleting directory contents\n",
    "\n",
    "def delete_dir_contents (directory):\n",
    "    files = os.listdir(directory)\n",
    "    for file in files:\n",
    "        filepath = os.path.join(directory + \"/\", file)\n",
    "        os.remove(filepath)\n",
    "\n",
    "    return print(os.listdir(directory))\n"
   ]
  },
  {
   "cell_type": "code",
   "execution_count": 26,
   "id": "601d9180-9025-43d6-94e3-03aeb93a7212",
   "metadata": {},
   "outputs": [],
   "source": [
    "## Run the deletions\n",
    "for name in subdir_names:\n",
    "    subdir_path = os.path.join(test_path, name)\n",
    "    if os.path.exists(subdir_path):\n",
    "        items_in_subdir = len(os.listdir(subdir_path))\n",
    "        if items_in_subdir > 0:\n",
    "            delete_dir_contents(subdir_path)\n",
    "            print(f\"Deleted {items_in_subdir} from the sub-directory {name}\")\n",
    "        else:\n",
    "            print(f\"Sub-directory {name} is empty\")\n",
    "        os.rmdir(subdir_path)\n",
    "        print(f\"Deleted {subdir_path}\")\n",
    "\n",
    "# os.rmdir(test_path)"
   ]
  },
  {
   "cell_type": "code",
   "execution_count": 27,
   "id": "f386bdf1-df15-4f26-aa51-7992dfb9ff8b",
   "metadata": {},
   "outputs": [],
   "source": [
    "## Re-build the test location structure\n",
    "\n",
    "# os.mkdir(test_path)\n",
    "\n",
    "for name in subdir_names:\n",
    "    os.mkdir(os.path.join(test_path, name))"
   ]
  },
  {
   "cell_type": "markdown",
   "id": "06a4509d",
   "metadata": {},
   "source": [
    "## Section 1: \"get\" function tests\n",
    "\n",
    "**NOT TESTED IN 0.7.0 Need to reinstate with rasterio first**"
   ]
  },
  {
   "cell_type": "code",
   "execution_count": 15,
   "id": "dfe4c1de-3397-40a0-8251-d434d2835cc1",
   "metadata": {},
   "outputs": [
    {
     "data": {
      "text/plain": [
       "'/home/pete/Documents/tests_and_vals/gdgtm_test/01_get_functions'"
      ]
     },
     "execution_count": 15,
     "metadata": {},
     "output_type": "execute_result"
    }
   ],
   "source": [
    "## Copy test files from test_files to 01_get_functions\n",
    "\n",
    "get_subdir = os.path.join(test_path, subdir_names[0])\n",
    "shutil.copytree(test_tifs, get_subdir, dirs_exist_ok=True)"
   ]
  },
  {
   "cell_type": "markdown",
   "id": "07115492",
   "metadata": {},
   "source": [
    "## Section 2: transforming a single geotif\n",
    "\n",
    "This section covers transformations of a single geotif"
   ]
  },
  {
   "cell_type": "code",
   "execution_count": 29,
   "id": "f51970ac-0a0e-47d7-bcba-186a36c646a3",
   "metadata": {},
   "outputs": [
    {
     "name": "stdout",
     "output_type": "stream",
     "text": [
      "subdirs created!\n"
     ]
    },
    {
     "ename": "AttributeError",
     "evalue": "module 'gdgtm' has no attribute 'plot_raster_with_colorbar'",
     "output_type": "error",
     "traceback": [
      "\u001b[0;31m---------------------------------------------------------------------------\u001b[0m",
      "\u001b[0;31mAttributeError\u001b[0m                            Traceback (most recent call last)",
      "Cell \u001b[0;32mIn[29], line 13\u001b[0m\n\u001b[1;32m      9\u001b[0m single_test_file \u001b[38;5;241m=\u001b[39m \u001b[38;5;124m\"\u001b[39m\u001b[38;5;124mCHELSA_bio1_1981-2010_V.2.1.tif\u001b[39m\u001b[38;5;124m\"\u001b[39m\n\u001b[1;32m     11\u001b[0m \u001b[38;5;28mprint\u001b[39m(\u001b[38;5;124m\"\u001b[39m\u001b[38;5;124msubdirs created!\u001b[39m\u001b[38;5;124m\"\u001b[39m)\n\u001b[0;32m---> 13\u001b[0m \u001b[43mgdgtm\u001b[49m\u001b[38;5;241;43m.\u001b[39;49m\u001b[43mplot_raster_with_colorbar\u001b[49m(\n\u001b[1;32m     14\u001b[0m     os\u001b[38;5;241m.\u001b[39mpath\u001b[38;5;241m.\u001b[39mjoin(get_subdir, single_test_file),\n\u001b[1;32m     15\u001b[0m     title \u001b[38;5;241m=\u001b[39m \u001b[38;5;124m\"\u001b[39m\u001b[38;5;124mBase test file\u001b[39m\u001b[38;5;124m\"\u001b[39m\n\u001b[1;32m     16\u001b[0m )\n",
      "\u001b[0;31mAttributeError\u001b[0m: module 'gdgtm' has no attribute 'plot_raster_with_colorbar'"
     ]
    }
   ],
   "source": [
    "### Create the directories\n",
    "rescale_subdir = os.path.join(test_path, subdir_names[1])\n",
    "zero_oned_subdir = os.path.join(test_path, subdir_names[2])\n",
    "landmasked_subdir = os.path.join(test_path, subdir_names[3])\n",
    "rebound_subdir = os.path.join(test_path, subdir_names[4])\n",
    "reproject_subdir = os.path.join(test_path, subdir_names[6])\n",
    "na_to_null_subdir = os.path.join(test_path, subdir_names[7])\n",
    "\n",
    "single_test_file = \"CHELSA_bio1_1981-2010_V.2.1.tif\"\n",
    "\n",
    "print(\"subdirs created!\")\n",
    "\n",
    "gdgtm.plot_raster_with_colorbar(\n",
    "    os.path.join(get_subdir, single_test_file),\n",
    "    title = \"Base test file\"\n",
    ")"
   ]
  },
  {
   "cell_type": "markdown",
   "id": "ae2e0e59",
   "metadata": {},
   "source": [
    "### change_raster_resolution"
   ]
  },
  {
   "cell_type": "code",
   "execution_count": 17,
   "id": "2fa5d738",
   "metadata": {},
   "outputs": [
    {
     "name": "stdout",
     "output_type": "stream",
     "text": [
      "Function failed to generate output: in method 'wrapper_GDALWarpDestName', argument 4 of type 'GDALWarpAppOptions *'\n",
      "Source file retained: True\n"
     ]
    },
    {
     "name": "stderr",
     "output_type": "stream",
     "text": [
      "ERROR 5: Wrong value for -tr parameters.\n"
     ]
    }
   ],
   "source": [
    "### change_raster_resolution (1): failure - provide invalid value for target res\n",
    "rescale_src = os.path.join(get_subdir, single_test_file)\n",
    "rescale_dst = os.path.join(rescale_subdir, single_test_file)\n",
    "\n",
    "\n",
    "try:\n",
    "    test = gdgtm.change_raster_res(target_res = \"five hundred\",\n",
    "                                   src_raster = rescale_src,\n",
    "                                   dst_raster = rescale_dst)\n",
    "    print(test)\n",
    "    gdgtm.plot_raster_with_colorbar(rescale_dst, title = \"Rescaled file\")\n",
    "except Exception as e:\n",
    "    print(f\"Function failed to generate output: {e}\")\n",
    "    \n",
    "print(\"Source file retained: \" + str(os.path.exists(rescale_src)))\n",
    "## Expected outcome: Error message, file retained"
   ]
  },
  {
   "cell_type": "markdown",
   "id": "d9685270",
   "metadata": {},
   "source": [
    "#### Test outcome\n",
    "\n",
    "Results meet expectations"
   ]
  },
  {
   "cell_type": "code",
   "execution_count": 18,
   "id": "c43c616e",
   "metadata": {},
   "outputs": [
    {
     "name": "stdout",
     "output_type": "stream",
     "text": [
      "Resolution meets target, file exists: /home/pete/Documents/tests_and_vals/gdgtm_test/02_single_rescaled/CHELSA_bio1_1981-2010_V.2.1.tif\n",
      "Source file retained: True\n"
     ]
    }
   ],
   "source": [
    "### change_raster_resolution (2): happy path - retain source raster\n",
    "\n",
    "try:\n",
    "    test = gdgtm.change_raster_res(target_res = 1,\n",
    "                                   src_raster = rescale_src,\n",
    "                                   dst_raster = rescale_dst,\n",
    "                                   delete_source = False)\n",
    "    print(test)\n",
    "    gdgtm.plot_raster_with_colorbar(rescale_dst, title = \"Rescaled file\")\n",
    "except Exception as e:\n",
    "    print(f\"Function failed to generate output: {e}\")\n",
    "    \n",
    "print(\"Source file retained: \" + str(os.path.exists(rescale_src)))\n",
    "## Expected outcome: Match confirmation (\"Resolution change successful: new pixel size matches target\"), file retained"
   ]
  },
  {
   "cell_type": "markdown",
   "id": "5bc8b996",
   "metadata": {},
   "source": [
    "#### Test outcome\n",
    "\n",
    "Results match expectation"
   ]
  },
  {
   "cell_type": "markdown",
   "id": "d1f67c07-5968-4bd3-8f72-61b0cc27a22b",
   "metadata": {},
   "source": [
    "### apply_landmask\n",
    "This and the next few tests only cover the happy path. No internal checks built as yet into the functions (TODOs)."
   ]
  },
  {
   "cell_type": "code",
   "execution_count": null,
   "id": "0f712e47-2182-4116-8b9d-3b73bf9d36db",
   "metadata": {},
   "outputs": [],
   "source": []
  },
  {
   "cell_type": "code",
   "execution_count": null,
   "id": "ac8639d7-776e-448d-a56b-998b55a95a42",
   "metadata": {},
   "outputs": [],
   "source": []
  },
  {
   "cell_type": "code",
   "execution_count": null,
   "id": "5534472a-5d13-46c6-8d67-d152aa9d7d85",
   "metadata": {},
   "outputs": [],
   "source": [
    "### Convert to zero - one"
   ]
  },
  {
   "cell_type": "code",
   "execution_count": null,
   "id": "81d8b8cd-4a9d-4d01-abd7-edefa681abff",
   "metadata": {},
   "outputs": [],
   "source": []
  },
  {
   "cell_type": "code",
   "execution_count": null,
   "id": "24d37b82-9fd2-4dfd-a73c-95f7ff8884d3",
   "metadata": {},
   "outputs": [],
   "source": []
  },
  {
   "cell_type": "code",
   "execution_count": null,
   "id": "21a211b4-aa46-41ed-a263-922b33f2b587",
   "metadata": {},
   "outputs": [],
   "source": []
  },
  {
   "cell_type": "markdown",
   "id": "208befce",
   "metadata": {},
   "source": [
    "### reproject_raster"
   ]
  },
  {
   "cell_type": "code",
   "execution_count": 19,
   "id": "221d98db",
   "metadata": {},
   "outputs": [
    {
     "name": "stdout",
     "output_type": "stream",
     "text": [
      "Function failed to generate output: in method 'wrapper_GDALWarpDestName', argument 4 of type 'GDALWarpAppOptions *'\n",
      "Source file retained: True\n"
     ]
    },
    {
     "name": "stderr",
     "output_type": "stream",
     "text": [
      "ERROR 1: Translating source or target SRS failed:\n",
      "ggplot:2\n"
     ]
    }
   ],
   "source": [
    "### reproject_raster (1): error - provide faulty new_crs\n",
    "reproj_src = os.path.join(rescale_subdir, single_test_file)\n",
    "reproj_dst = os.path.join(reproject_subdir, single_test_file)\n",
    "\n",
    "try:\n",
    "    test = gdgtm.reproject_raster(new_crs = \"ggplot:2\", \n",
    "                                  src_raster = reproj_src,\n",
    "                                  dst_raster = reproj_dst,\n",
    "                                  delete_source = False)\n",
    "    print(test)\n",
    "    gdgtm.plot_raster_with_colorbar(reproj_dst, title = \"Rescaled file\")\n",
    "except Exception as e:\n",
    "    print(f\"Function failed to generate output: {e}\")\n",
    "\n",
    "print(\"Source file retained: \" + str(os.path.exists(reproj_src)))\n",
    "## Expected outcome: Error message, no file changes"
   ]
  },
  {
   "cell_type": "markdown",
   "id": "91a6a47f",
   "metadata": {},
   "source": [
    "#### Test outcome\n",
    "\n",
    "Results meet expectation"
   ]
  },
  {
   "cell_type": "code",
   "execution_count": 22,
   "id": "9ddfc119",
   "metadata": {},
   "outputs": [
    {
     "name": "stdout",
     "output_type": "stream",
     "text": [
      "File exists: /home/pete/Documents/tests_and_vals/gdgtm_test/03_single_reprojected/CHELSA_bio1_1981-2010_V.2.1.tif\n",
      "Source file retained: True\n"
     ]
    }
   ],
   "source": [
    "### reproject_raster (2): happy path\n",
    "\n",
    "try:\n",
    "    test = gdgtm.reproject_raster(new_crs = \"EPSG:4258\", \n",
    "                                  src_raster = reproj_src,\n",
    "                                  dst_raster = reproj_dst,\n",
    "                                  delete_source = False)\n",
    "    print(test)\n",
    "    gdgtm.plot_raster_with_colorbar(reproj_dst, title = \"Rescaled file\")\n",
    "except Exception as e:\n",
    "    print(f\"Function failed to generate output: {e}\")\n",
    "\n",
    "print(\"Source file retained: \" + str(os.path.exists(reproj_src)))\n",
    "## Expected outcome: new file confirmation message (\"Reprojection successful\"), confirm that source_file retained"
   ]
  },
  {
   "cell_type": "markdown",
   "id": "8b690773",
   "metadata": {},
   "source": [
    "#### Test outcome\n",
    "\n",
    "Results meet expectations"
   ]
  },
  {
   "cell_type": "markdown",
   "id": "daf3a5a4",
   "metadata": {},
   "source": [
    "### set_raster_boundbox"
   ]
  },
  {
   "cell_type": "code",
   "execution_count": 28,
   "id": "952f7b15",
   "metadata": {},
   "outputs": [
    {
     "name": "stdout",
     "output_type": "stream",
     "text": [
      "Warning, the file does not exist: /home/pete/Documents/tests_and_vals/gdgtm_test/04_master_rebound/chelsa_tas_01_01_2023.tif\n",
      "Source file retained: True\n"
     ]
    },
    {
     "name": "stderr",
     "output_type": "stream",
     "text": [
      "ERROR 1: Error: Computed -srcwin 255 230 -20 -40 has negative width and/or height.\n"
     ]
    }
   ],
   "source": [
    "### set_raster_boundbox (1): failure - provide invalid bounding box\n",
    "bbox_src = os.path.join(reproj_subdir, single_test_file)\n",
    "bbox_dst = os.path.join(rebound_subdir, single_test_file)\n",
    "\n",
    "new_bb = (50, 0, 0, 50) ### Error introduced on purpose: ESWN not WNES\n",
    "try:\n",
    "    test = gdgtm.set_raster_boundbox(target_bbox = new_bb,\n",
    "                                     src_raster = bbox_src,\n",
    "                                     dst_raster = bbox_dst,\n",
    "                                     delete_source = False\n",
    "                                     )\n",
    "    print(test)\n",
    "    gdgtm.plot_raster_with_colorbar(bbox_dst, title = \"Rescaled file\")\n",
    "except Exception as e:\n",
    "    print(f\"Function failed to generate output: {e}\")\n",
    "\n",
    "print(\"Source file retained: \" + str(os.path.exists(bbox_src)))\n",
    "## Expected outcome: Error message, file retained"
   ]
  },
  {
   "cell_type": "markdown",
   "id": "3d7f72fb",
   "metadata": {},
   "source": [
    "#### Test outcome\n",
    "\n",
    "Results meet expectations."
   ]
  },
  {
   "cell_type": "code",
   "execution_count": 29,
   "id": "a0df508d",
   "metadata": {},
   "outputs": [
    {
     "name": "stdout",
     "output_type": "stream",
     "text": [
      "Warning, setting errors > 0.01 and file exists: /home/pete/Documents/tests_and_vals/gdgtm_test/04_master_rebound/chelsa_tas_01_01_2023.tif\n",
      "Source file retained: True\n"
     ]
    }
   ],
   "source": [
    "### set_raster_boundbox (2): happy path, retain source raster\n",
    "\n",
    "new_bb = (0, 50, 50, 0)\n",
    "try:\n",
    "    test = gdgtm.set_raster_boundbox(target_bbox = new_bb,\n",
    "                                     src_raster = bbox_src,\n",
    "                                     dst_raster = bbox_dst,\n",
    "                                     delete_source = False\n",
    "                                     )\n",
    "    print(test)\n",
    "    gdgtm.plot_raster_with_colorbar(bbox_dst, title = \"Rescaled file\")\n",
    "except Exception as e:\n",
    "    print(f\"Function failed to generate output: {e}\")\n",
    "\n",
    "print(\"Source file retained: \" + str(os.path.exists(bbox_src)))\n",
    "## Expected outcome: Outcome message (\"Warning, setting errors > 0.01 and file exists: /home/pete/Documents/tests_and_vals/gdgtm/04_master_rebound/chelsa_pr_rebound.tif\"), source file retained"
   ]
  },
  {
   "cell_type": "markdown",
   "id": "f8e831ef",
   "metadata": {},
   "source": [
    "#### Test outcome\n",
    "Results meet expectations"
   ]
  },
  {
   "cell_type": "code",
   "execution_count": null,
   "id": "5e70d2be-e442-4065-86ff-e1c860d619cc",
   "metadata": {},
   "outputs": [],
   "source": []
  },
  {
   "cell_type": "markdown",
   "id": "cc71fa6f-78f4-45d6-a4d3-239432f4e81a",
   "metadata": {},
   "source": []
  },
  {
   "cell_type": "code",
   "execution_count": null,
   "id": "121169f6-7b3b-486e-9c4b-82ed2aefe15f",
   "metadata": {},
   "outputs": [],
   "source": []
  },
  {
   "cell_type": "code",
   "execution_count": null,
   "id": "fbe3971e-1020-4f87-a64d-bb5fabcdce1a",
   "metadata": {},
   "outputs": [],
   "source": []
  },
  {
   "cell_type": "code",
   "execution_count": null,
   "id": "78e4d052-c07a-48d5-be12-7adf367932a7",
   "metadata": {},
   "outputs": [],
   "source": []
  },
  {
   "cell_type": "code",
   "execution_count": null,
   "id": "64f17d24-6dc5-4faa-af76-88da1e9ae90c",
   "metadata": {},
   "outputs": [],
   "source": []
  },
  {
   "cell_type": "markdown",
   "id": "ebfdefe4",
   "metadata": {},
   "source": [
    "## Section 3: automated process from blank"
   ]
  },
  {
   "cell_type": "markdown",
   "id": "f4b2397e-9a9a-4eb9-9e3f-9b4b05be79dc",
   "metadata": {},
   "source": [
    "### Section 3.1 Component functions test"
   ]
  },
  {
   "cell_type": "code",
   "execution_count": null,
   "id": "053a973c-0c14-4405-af4a-bf2e90478fd2",
   "metadata": {},
   "outputs": [],
   "source": []
  },
  {
   "cell_type": "code",
   "execution_count": null,
   "id": "41572ba3-f378-4a11-8354-2f28e06fa317",
   "metadata": {},
   "outputs": [],
   "source": []
  },
  {
   "cell_type": "code",
   "execution_count": null,
   "id": "3753ae9d-ad5f-4205-8988-2c7af8b24add",
   "metadata": {},
   "outputs": [],
   "source": []
  },
  {
   "cell_type": "code",
   "execution_count": null,
   "id": "587a5fcf-920b-4b1b-a972-fcd3312cd236",
   "metadata": {},
   "outputs": [],
   "source": []
  },
  {
   "cell_type": "markdown",
   "id": "891e4bb1",
   "metadata": {},
   "source": [
    "#### Test outcome:\n",
    "Results meet expectations."
   ]
  },
  {
   "cell_type": "markdown",
   "id": "e0727540-334e-4736-b120-ebc8ff8e417f",
   "metadata": {},
   "source": [
    "## Section 4: automated process from coordinates"
   ]
  },
  {
   "cell_type": "markdown",
   "id": "a06bf7cd-9ba0-43a5-aed6-71401504c409",
   "metadata": {},
   "source": [
    "## Section 5: automated process from random"
   ]
  },
  {
   "cell_type": "markdown",
   "id": "7bd69498-67ca-4327-af2b-bbedbafbee75",
   "metadata": {},
   "source": [
    "## Section 6: Conversions"
   ]
  },
  {
   "cell_type": "code",
   "execution_count": null,
   "id": "d90f2b58-6306-4199-b827-4a0c86ed8594",
   "metadata": {},
   "outputs": [],
   "source": []
  },
  {
   "cell_type": "markdown",
   "id": "44f49f2c",
   "metadata": {},
   "source": [
    "## Section X: STAC get functions\n",
    "**IN WAIT FOR RE_IMPLEMENT**"
   ]
  },
  {
   "cell_type": "markdown",
   "id": "e6a48186",
   "metadata": {},
   "source": [
    "## Section X: Mosaics and Merging\n",
    "**IN WAIT FOR RE_IMPLEMENT**"
   ]
  },
  {
   "cell_type": "markdown",
   "id": "6c8dd6d1-90e3-4ea9-a1b1-d6526ee4ebf9",
   "metadata": {},
   "source": [
    "## Section X: Shapefile conversion\n",
    "**IN WAIT FOR RE_IMPLEMENT**"
   ]
  }
 ],
 "metadata": {
  "kernelspec": {
   "display_name": "Python 3 (ipykernel)",
   "language": "python",
   "name": "python3"
  },
  "language_info": {
   "codemirror_mode": {
    "name": "ipython",
    "version": 3
   },
   "file_extension": ".py",
   "mimetype": "text/x-python",
   "name": "python",
   "nbconvert_exporter": "python",
   "pygments_lexer": "ipython3",
   "version": "3.10.14"
  }
 },
 "nbformat": 4,
 "nbformat_minor": 5
}
