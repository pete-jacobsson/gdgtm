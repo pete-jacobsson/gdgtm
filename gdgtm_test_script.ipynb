{
 "cells": [
  {
   "cell_type": "markdown",
   "id": "8319f7f8",
   "metadata": {},
   "source": [
    "# gdgtm regression test\n",
    "\n",
    "The goal of this test is to evaluate whether the gdgtm (**g**eospatial **d**ata **g**etting, **t**ransforming, **m**anaging) pipeline built to feed standardized rasters for downstream ML actions (overall goal of the gdgtm package) is working as intended. The test script is structured as follows:\n",
    "\n",
    "- Section 1: Test the flow of the relevant \"get\" functions\n",
    "- Section 2: Test the core pipeline for creating the \"master\" raster\n",
    "- Section 3: Test the mosaics and raster combination components\n",
    "- Section 4: Test the alignment and validation line\n",
    "- Section 5: STAC get functions\n",
    "- Section 6: Shapefile conversion\n",
    "- Section 7: Numpyifying rasters\n",
    "\n",
    "This is the test script and not intended as primary documentation ' for that, please refer to the \"documentation\" folder and the demo."
   ]
  },
  {
   "cell_type": "markdown",
   "id": "d57472fc",
   "metadata": {},
   "source": [
    "Current tested version: **0.7.0**"
   ]
  },
  {
   "cell_type": "code",
   "execution_count": 1,
   "id": "5f779a55",
   "metadata": {},
   "outputs": [
    {
     "ename": "ImportError",
     "evalue": "cannot import name 'plt' from 'matplotlib' (/home/pete/.local/lib/python3.10/site-packages/matplotlib/__init__.py)",
     "output_type": "error",
     "traceback": [
      "\u001b[0;31m---------------------------------------------------------------------------\u001b[0m",
      "\u001b[0;31mImportError\u001b[0m                               Traceback (most recent call last)",
      "Cell \u001b[0;32mIn[1], line 1\u001b[0m\n\u001b[0;32m----> 1\u001b[0m \u001b[38;5;28;01mimport\u001b[39;00m \u001b[38;5;21;01mgdgtm\u001b[39;00m\n\u001b[1;32m      2\u001b[0m \u001b[38;5;28;01mimport\u001b[39;00m \u001b[38;5;21;01mrasterio\u001b[39;00m\n\u001b[1;32m      3\u001b[0m \u001b[38;5;28;01mimport\u001b[39;00m \u001b[38;5;21;01mnumpy\u001b[39;00m \u001b[38;5;28;01mas\u001b[39;00m \u001b[38;5;21;01mnp\u001b[39;00m\n",
      "File \u001b[0;32m~/miniconda/envs/gdgtm_test/lib/python3.10/site-packages/gdgtm/__init__.py:5\u001b[0m\n\u001b[1;32m      1\u001b[0m \u001b[38;5;66;03m##from .get import ## Functionality to be re-instated\u001b[39;00m\n\u001b[1;32m      3\u001b[0m \u001b[38;5;28;01mfrom\u001b[39;00m \u001b[38;5;21;01m.\u001b[39;00m\u001b[38;5;21;01mtransform\u001b[39;00m \u001b[38;5;28;01mimport\u001b[39;00m set_raster_boundbox, change_raster_res, apply_land_mask, rescale_raster_to_zero_one, replace_nodata_with_lowest, align_raster, validate_raster_alignment, reproject_raster, align_validate_raster, get_nearest_pixel, extract_window, check_window_values, random_square_from_raster\n\u001b[0;32m----> 5\u001b[0m \u001b[38;5;28;01mfrom\u001b[39;00m \u001b[38;5;21;01m.\u001b[39;00m\u001b[38;5;21;01mmanage\u001b[39;00m \u001b[38;5;28;01mimport\u001b[39;00m convert_gtif_to_nparray, convert_gtif_to_jpg, process_dir_to_jpg, plot_raster_with_colorbar\n",
      "File \u001b[0;32m~/miniconda/envs/gdgtm_test/lib/python3.10/site-packages/gdgtm/manage.py:8\u001b[0m\n\u001b[1;32m      6\u001b[0m \u001b[38;5;28;01mfrom\u001b[39;00m \u001b[38;5;21;01mPIL\u001b[39;00m \u001b[38;5;28;01mimport\u001b[39;00m Image\n\u001b[1;32m      7\u001b[0m \u001b[38;5;28;01mimport\u001b[39;00m \u001b[38;5;21;01mos\u001b[39;00m\n\u001b[0;32m----> 8\u001b[0m \u001b[38;5;28;01mfrom\u001b[39;00m \u001b[38;5;21;01mmatplotlib\u001b[39;00m \u001b[38;5;28;01mimport\u001b[39;00m plt\n\u001b[1;32m     10\u001b[0m \u001b[38;5;66;03m###~~~~~~~~~~~~~~~~~~~~~~~~~~~~~~~~~~~~~~~~~~~~~~~~~~~~~~~~~~~~~~~~~~~~~~~~~~~~\u001b[39;00m\n\u001b[1;32m     11\u001b[0m \u001b[38;5;28;01mdef\u001b[39;00m \u001b[38;5;21mconvert_gtif_to_nparray\u001b[39m (src_path, height, width, convert_no_data\u001b[38;5;241m=\u001b[39m\u001b[38;5;28;01mFalse\u001b[39;00m):\n",
      "\u001b[0;31mImportError\u001b[0m: cannot import name 'plt' from 'matplotlib' (/home/pete/.local/lib/python3.10/site-packages/matplotlib/__init__.py)"
     ]
    }
   ],
   "source": [
    "import gdgtm\n",
    "import rasterio\n",
    "import numpy as np\n",
    "from pathlib import Path\n",
    "import matplotlib.pyplot as plt\n",
    "import os\n",
    "import re\n",
    "import shutil\n",
    "import glob"
   ]
  },
  {
   "cell_type": "markdown",
   "id": "3c02d170-e2da-4474-aef0-e22164a4131d",
   "metadata": {},
   "source": [
    "## Test preparation\n",
    "This section sets up the directory structure for the test script. This ensures the removal of any old test material, clearing any old structures and putting in new ones."
   ]
  },
  {
   "cell_type": "code",
   "execution_count": null,
   "id": "6a77ff4f-1fdd-4a2d-8729-1a1b6471e56e",
   "metadata": {},
   "outputs": [],
   "source": [
    "## Set up the test directory urls\n",
    "test_location = \"/home/pete/Documents/tests_and_vals\" ## Change to local spec\n",
    "test_directory = \"gdgtm_test\"\n",
    "\n",
    "test_path = os.path.join(test_location, test_directory)\n",
    "test_tifs = os.path.join(test_path, \"test_tifs\")\n",
    "\n",
    "subdir_names = [\"01_get_functions\", \"02_single_rescaled\", \n",
    "                \"03_single_to_zero_one\", \"04_single_landmasked\", \n",
    "                \"05_single_rebound\", \"06_single_reprojected\", \n",
    "                \"07_single_remove_nodata\", \"08_automated_from_blank\", \n",
    "                \"09_automated_from_coord\", \"10_automated_from_random\", \n",
    "                \"11_conversions\"]\n",
    "\n",
    "\n",
    "# subdir_names = [\"01_get_functions\", \"02_single_reprojected\", \n",
    "#                 \"03_single_rescaled\", \"04_single_rebound\", \n",
    "#                 \"05_complimentary_aligned\", \"06_mosaic_merge_prep\", \n",
    "#                 \"07_mosaic_merge_out\", \"08_bound_shapefiles\",\n",
    "#                 \"09_rasters_from_shp\", \"10_rasters_from_numpy\"] ### SOME OF THESE WILL NEED FUNCTIONALITY REINSTATEMENT FIRST"
   ]
  },
  {
   "cell_type": "code",
   "execution_count": null,
   "id": "2e4cf3e1-1fc4-4137-a272-93b8c75b0ef6",
   "metadata": {},
   "outputs": [],
   "source": [
    "### Function for deleting directory contents\n",
    "\n",
    "def delete_dir_contents (directory):\n",
    "    files = os.listdir(directory)\n",
    "    for file in files:\n",
    "        filepath = os.path.join(directory + \"/\", file)\n",
    "        os.remove(filepath)\n",
    "\n",
    "    return print(os.listdir(directory))\n"
   ]
  },
  {
   "cell_type": "code",
   "execution_count": 2,
   "id": "601d9180-9025-43d6-94e3-03aeb93a7212",
   "metadata": {},
   "outputs": [
    {
     "ename": "NameError",
     "evalue": "name 'subdir_names' is not defined",
     "output_type": "error",
     "traceback": [
      "\u001b[0;31m---------------------------------------------------------------------------\u001b[0m",
      "\u001b[0;31mNameError\u001b[0m                                 Traceback (most recent call last)",
      "Cell \u001b[0;32mIn[2], line 2\u001b[0m\n\u001b[1;32m      1\u001b[0m \u001b[38;5;66;03m## Run the deletions\u001b[39;00m\n\u001b[0;32m----> 2\u001b[0m \u001b[38;5;28;01mfor\u001b[39;00m name \u001b[38;5;129;01min\u001b[39;00m \u001b[43msubdir_names\u001b[49m:\n\u001b[1;32m      3\u001b[0m     subdir_path \u001b[38;5;241m=\u001b[39m os\u001b[38;5;241m.\u001b[39mpath\u001b[38;5;241m.\u001b[39mjoin(test_path, name)\n\u001b[1;32m      4\u001b[0m     \u001b[38;5;28;01mif\u001b[39;00m os\u001b[38;5;241m.\u001b[39mpath\u001b[38;5;241m.\u001b[39mexists(subdir_path):\n",
      "\u001b[0;31mNameError\u001b[0m: name 'subdir_names' is not defined"
     ]
    }
   ],
   "source": [
    "## Run the deletions\n",
    "for name in subdir_names:\n",
    "    subdir_path = os.path.join(test_path, name)\n",
    "    if os.path.exists(subdir_path):\n",
    "        items_in_subdir = len(os.listdir(subdir_path))\n",
    "        if items_in_subdir > 0:\n",
    "            delete_dir_contents(subdir_path)\n",
    "            print(f\"Deleted {items_in_subdir} from the sub-directory {name}\")\n",
    "        else:\n",
    "            print(f\"Sub-directory {name} is empty\")\n",
    "        os.rmdir(subdir_path)\n",
    "        print(f\"Deleted {subdir_path}\")\n",
    "\n",
    "# os.rmdir(test_path)"
   ]
  },
  {
   "cell_type": "code",
   "execution_count": 6,
   "id": "f386bdf1-df15-4f26-aa51-7992dfb9ff8b",
   "metadata": {},
   "outputs": [],
   "source": [
    "## Re-build the test location structure\n",
    "\n",
    "# os.mkdir(test_path)\n",
    "\n",
    "for name in subdir_names:\n",
    "    os.mkdir(os.path.join(test_path, name))"
   ]
  },
  {
   "cell_type": "markdown",
   "id": "06a4509d",
   "metadata": {},
   "source": [
    "## Section 1: \"get\" function tests\n",
    "\n",
    "**NOT TESTED IN 0.7.0 Need to reinstate with rasterio first**"
   ]
  },
  {
   "cell_type": "code",
   "execution_count": 7,
   "id": "dfe4c1de-3397-40a0-8251-d434d2835cc1",
   "metadata": {},
   "outputs": [
    {
     "data": {
      "text/plain": [
       "'/home/pete/Documents/tests_and_vals/gdgtm_test/01_get_functions'"
      ]
     },
     "execution_count": 7,
     "metadata": {},
     "output_type": "execute_result"
    }
   ],
   "source": [
    "## Copy test files from test_files to 01_get_functions\n",
    "\n",
    "get_subdir = os.path.join(test_path, subdir_names[0])\n",
    "shutil.copytree(test_tifs, get_subdir, dirs_exist_ok=True)"
   ]
  },
  {
   "cell_type": "markdown",
   "id": "07115492",
   "metadata": {},
   "source": [
    "## Section 2: transforming a single geotif\n",
    "\n",
    "This section covers transformations of a single geotif"
   ]
  },
  {
   "cell_type": "code",
   "execution_count": 8,
   "id": "f51970ac-0a0e-47d7-bcba-186a36c646a3",
   "metadata": {},
   "outputs": [
    {
     "name": "stdout",
     "output_type": "stream",
     "text": [
      "subdirs created!\n"
     ]
    },
    {
     "ename": "NameError",
     "evalue": "name 'plt' is not defined",
     "output_type": "error",
     "traceback": [
      "\u001b[0;31m---------------------------------------------------------------------------\u001b[0m",
      "\u001b[0;31mNameError\u001b[0m                                 Traceback (most recent call last)",
      "Cell \u001b[0;32mIn[8], line 13\u001b[0m\n\u001b[1;32m      9\u001b[0m single_test_file \u001b[38;5;241m=\u001b[39m \u001b[38;5;124m\"\u001b[39m\u001b[38;5;124mCHELSA_bio1_1981-2010_V.2.1.tif\u001b[39m\u001b[38;5;124m\"\u001b[39m\n\u001b[1;32m     11\u001b[0m \u001b[38;5;28mprint\u001b[39m(\u001b[38;5;124m\"\u001b[39m\u001b[38;5;124msubdirs created!\u001b[39m\u001b[38;5;124m\"\u001b[39m)\n\u001b[0;32m---> 13\u001b[0m \u001b[43mgdgtm\u001b[49m\u001b[38;5;241;43m.\u001b[39;49m\u001b[43mplot_raster_with_colorbar\u001b[49m\u001b[43m(\u001b[49m\n\u001b[1;32m     14\u001b[0m \u001b[43m    \u001b[49m\u001b[43mos\u001b[49m\u001b[38;5;241;43m.\u001b[39;49m\u001b[43mpath\u001b[49m\u001b[38;5;241;43m.\u001b[39;49m\u001b[43mjoin\u001b[49m\u001b[43m(\u001b[49m\u001b[43mget_subdir\u001b[49m\u001b[43m,\u001b[49m\u001b[43m \u001b[49m\u001b[43msingle_test_file\u001b[49m\u001b[43m)\u001b[49m\u001b[43m,\u001b[49m\n\u001b[1;32m     15\u001b[0m \u001b[43m    \u001b[49m\u001b[43mtitle\u001b[49m\u001b[43m \u001b[49m\u001b[38;5;241;43m=\u001b[39;49m\u001b[43m \u001b[49m\u001b[38;5;124;43m\"\u001b[39;49m\u001b[38;5;124;43mBase test file\u001b[39;49m\u001b[38;5;124;43m\"\u001b[39;49m\n\u001b[1;32m     16\u001b[0m \u001b[43m)\u001b[49m\n",
      "File \u001b[0;32m~/miniconda/envs/gdgtm_test/lib/python3.10/site-packages/gdgtm/manage.py:128\u001b[0m, in \u001b[0;36mplot_raster_with_colorbar\u001b[0;34m(raster_path, title, cmap)\u001b[0m\n\u001b[1;32m    125\u001b[0m raster_data \u001b[38;5;241m=\u001b[39m src\u001b[38;5;241m.\u001b[39mread(\u001b[38;5;241m1\u001b[39m)\n\u001b[1;32m    127\u001b[0m \u001b[38;5;66;03m# Create a figure and axis\u001b[39;00m\n\u001b[0;32m--> 128\u001b[0m fig, ax \u001b[38;5;241m=\u001b[39m \u001b[43mplt\u001b[49m\u001b[38;5;241m.\u001b[39msubplots(figsize\u001b[38;5;241m=\u001b[39m(\u001b[38;5;241m12\u001b[39m, \u001b[38;5;241m8\u001b[39m))\n\u001b[1;32m    130\u001b[0m \u001b[38;5;66;03m# Plot the raster using seaborn's heatmap\u001b[39;00m\n\u001b[1;32m    131\u001b[0m sns\u001b[38;5;241m.\u001b[39mheatmap(raster_data, cmap\u001b[38;5;241m=\u001b[39mcmap, ax\u001b[38;5;241m=\u001b[39max, cbar\u001b[38;5;241m=\u001b[39m\u001b[38;5;28;01mTrue\u001b[39;00m, cbar_kws\u001b[38;5;241m=\u001b[39m{\u001b[38;5;124m'\u001b[39m\u001b[38;5;124mlabel\u001b[39m\u001b[38;5;124m'\u001b[39m: \u001b[38;5;124m'\u001b[39m\u001b[38;5;124mValue\u001b[39m\u001b[38;5;124m'\u001b[39m})\n",
      "\u001b[0;31mNameError\u001b[0m: name 'plt' is not defined"
     ]
    }
   ],
   "source": [
    "### Create the directories\n",
    "rescale_subdir = os.path.join(test_path, subdir_names[1])\n",
    "zero_oned_subdir = os.path.join(test_path, subdir_names[2])\n",
    "landmasked_subdir = os.path.join(test_path, subdir_names[3])\n",
    "rebound_subdir = os.path.join(test_path, subdir_names[4])\n",
    "reproject_subdir = os.path.join(test_path, subdir_names[6])\n",
    "nodata_subdir = os.path.join(test_path, subdir_names[7])\n",
    "\n",
    "single_test_file = \"CHELSA_bio1_1981-2010_V.2.1.tif\"\n",
    "\n",
    "print(\"subdirs created!\")\n",
    "\n",
    "gdgtm.plot_raster_with_colorbar(\n",
    "    os.path.join(get_subdir, single_test_file),\n",
    "    title = \"Base test file\"\n",
    ")"
   ]
  },
  {
   "cell_type": "markdown",
   "id": "ae2e0e59",
   "metadata": {},
   "source": [
    "### change_raster_resolution"
   ]
  },
  {
   "cell_type": "code",
   "execution_count": 17,
   "id": "2fa5d738",
   "metadata": {},
   "outputs": [
    {
     "name": "stdout",
     "output_type": "stream",
     "text": [
      "Function failed to generate output: in method 'wrapper_GDALWarpDestName', argument 4 of type 'GDALWarpAppOptions *'\n",
      "Source file retained: True\n"
     ]
    },
    {
     "name": "stderr",
     "output_type": "stream",
     "text": [
      "ERROR 5: Wrong value for -tr parameters.\n"
     ]
    }
   ],
   "source": [
    "### change_raster_resolution (1): failure - provide invalid value for target res\n",
    "rescale_src = os.path.join(get_subdir, single_test_file)\n",
    "rescale_dst = os.path.join(rescale_subdir, single_test_file)\n",
    "\n",
    "\n",
    "try:\n",
    "    test = gdgtm.change_raster_res(target_res = \"five hundred\",\n",
    "                                   src_raster = rescale_src,\n",
    "                                   dst_raster = rescale_dst)\n",
    "    print(test)\n",
    "    gdgtm.plot_raster_with_colorbar(rescale_dst, title = \"Rescaled file\")\n",
    "except Exception as e:\n",
    "    print(f\"Function failed to generate output: {e}\")\n",
    "    \n",
    "print(\"Source file retained: \" + str(os.path.exists(rescale_src)))\n",
    "## Expected outcome: Error message, file retained"
   ]
  },
  {
   "cell_type": "markdown",
   "id": "d9685270",
   "metadata": {},
   "source": [
    "#### Test outcome\n",
    "\n",
    "Results meet expectations"
   ]
  },
  {
   "cell_type": "code",
   "execution_count": 18,
   "id": "c43c616e",
   "metadata": {},
   "outputs": [
    {
     "name": "stdout",
     "output_type": "stream",
     "text": [
      "Resolution meets target, file exists: /home/pete/Documents/tests_and_vals/gdgtm_test/02_single_rescaled/CHELSA_bio1_1981-2010_V.2.1.tif\n",
      "Source file retained: True\n"
     ]
    }
   ],
   "source": [
    "### change_raster_resolution (2): happy path - retain source raster\n",
    "\n",
    "try:\n",
    "    test = gdgtm.change_raster_res(target_res = 1,\n",
    "                                   src_raster = rescale_src,\n",
    "                                   dst_raster = rescale_dst,\n",
    "                                   delete_source = False)\n",
    "    print(test)\n",
    "    gdgtm.plot_raster_with_colorbar(rescale_dst, title = \"Rescaled file\")\n",
    "except Exception as e:\n",
    "    print(f\"Function failed to generate output: {e}\")\n",
    "    \n",
    "print(\"Source file retained: \" + str(os.path.exists(rescale_src)))\n",
    "## Expected outcome: Match confirmation (\"Resolution change successful: new pixel size matches target\"), file retained"
   ]
  },
  {
   "cell_type": "markdown",
   "id": "5bc8b996",
   "metadata": {},
   "source": [
    "#### Test outcome\n",
    "\n",
    "Results match expectation"
   ]
  },
  {
   "cell_type": "markdown",
   "id": "ebc9ec45-af43-4dc1-a79d-7a5a2c5e9ff1",
   "metadata": {},
   "source": [
    "### rescale_raster_to_zero_one\n",
    "This only covers the happy path. No internal checks built as yet into the functions (TODOs)."
   ]
  },
  {
   "cell_type": "code",
   "execution_count": null,
   "id": "6a492963-d743-4dd1-8586-84251bd795d3",
   "metadata": {},
   "outputs": [],
   "source": [
    "### rescale_raster_to_zero_one: happy path\n",
    "norm_src = rescale_dst\n",
    "norm_dst = os.path.join(zero_oned_subdir, single_test_file)\n",
    "\n",
    "try:\n",
    "    test = gdgtm.rescale_raster_to_zero_one(norm_src, norm_dst)\n",
    "    print(test)\n",
    "    gdgtm.plot_raster_with_colorbar(norm_dst, title = \"Normalized file\")    \n",
    "except Exception as e:\n",
    "    print(f\"Function failed to generate output: {e}\")"
   ]
  },
  {
   "cell_type": "markdown",
   "id": "d1f67c07-5968-4bd3-8f72-61b0cc27a22b",
   "metadata": {},
   "source": [
    "### apply_landmask\n",
    "This only covers the happy path. No internal checks built as yet into the functions (TODOs)."
   ]
  },
  {
   "cell_type": "code",
   "execution_count": null,
   "id": "3b80aa54-40ad-48fe-8088-a73258826a11",
   "metadata": {},
   "outputs": [],
   "source": [
    "landmask = \"hyd_glo_dem_30s.tif\"\n",
    "landmask = os.path.join(get_subdir, landmask)\n",
    "land_src = norm_dst\n",
    "land_dst = os.path.join(landmasked_subdir, single_test_file)\n",
    "\n",
    "try:\n",
    "    test = gdgtm.apply_land_mask(landmask, land_src, land_dst)\n",
    "    print(test)\n",
    "    gdgtm.plot_raster_with_colorbar(land_dst, title = \"Landmasked file\")\n",
    "except Exception as e:\n",
    "    print(f\"Function failed to generate output: {e}\")"
   ]
  },
  {
   "cell_type": "markdown",
   "id": "daf3a5a4",
   "metadata": {},
   "source": [
    "### set_raster_boundbox"
   ]
  },
  {
   "cell_type": "code",
   "execution_count": 28,
   "id": "952f7b15",
   "metadata": {},
   "outputs": [
    {
     "name": "stdout",
     "output_type": "stream",
     "text": [
      "Warning, the file does not exist: /home/pete/Documents/tests_and_vals/gdgtm_test/04_master_rebound/chelsa_tas_01_01_2023.tif\n",
      "Source file retained: True\n"
     ]
    },
    {
     "name": "stderr",
     "output_type": "stream",
     "text": [
      "ERROR 1: Error: Computed -srcwin 255 230 -20 -40 has negative width and/or height.\n"
     ]
    }
   ],
   "source": [
    "### set_raster_boundbox (1): failure - provide invalid bounding box\n",
    "bbox_src = land_dst\n",
    "bbox_dst = os.path.join(rebound_subdir, single_test_file)\n",
    "\n",
    "new_bb = (50, 0, 0, 50) ### Error introduced on purpose: ESWN not WNES\n",
    "try:\n",
    "    test = gdgtm.set_raster_boundbox(target_bbox = new_bb,\n",
    "                                     src_raster = bbox_src,\n",
    "                                     dst_raster = bbox_dst,\n",
    "                                     delete_source = False\n",
    "                                     )\n",
    "    print(test)\n",
    "    gdgtm.plot_raster_with_colorbar(bbox_dst, title = \"Rescaled file\")\n",
    "except Exception as e:\n",
    "    print(f\"Function failed to generate output: {e}\")\n",
    "\n",
    "print(\"Source file retained: \" + str(os.path.exists(bbox_src)))\n",
    "## Expected outcome: Error message, file retained"
   ]
  },
  {
   "cell_type": "code",
   "execution_count": 29,
   "id": "a0df508d",
   "metadata": {},
   "outputs": [
    {
     "name": "stdout",
     "output_type": "stream",
     "text": [
      "Warning, setting errors > 0.01 and file exists: /home/pete/Documents/tests_and_vals/gdgtm_test/04_master_rebound/chelsa_tas_01_01_2023.tif\n",
      "Source file retained: True\n"
     ]
    }
   ],
   "source": [
    "### set_raster_boundbox (2): happy path, retain source raster\n",
    "\n",
    "new_bb = (0, 50, 50, 0)\n",
    "try:\n",
    "    test = gdgtm.set_raster_boundbox(target_bbox = new_bb,\n",
    "                                     src_raster = bbox_src,\n",
    "                                     dst_raster = bbox_dst,\n",
    "                                     delete_source = False\n",
    "                                     )\n",
    "    print(test)\n",
    "    gdgtm.plot_raster_with_colorbar(bbox_dst, title = \"Rescaled file\")\n",
    "except Exception as e:\n",
    "    print(f\"Function failed to generate output: {e}\")\n",
    "\n",
    "print(\"Source file retained: \" + str(os.path.exists(bbox_src)))\n",
    "## Expected outcome: Outcome message (\"Warning, setting errors > 0.01 and file exists: /home/pete/Documents/tests_and_vals/gdgtm/04_master_rebound/chelsa_pr_rebound.tif\"), source file retained"
   ]
  },
  {
   "cell_type": "markdown",
   "id": "3d7f72fb",
   "metadata": {},
   "source": [
    "#### Test outcome\n",
    "\n",
    "Results meet expectations."
   ]
  },
  {
   "cell_type": "markdown",
   "id": "208befce",
   "metadata": {},
   "source": [
    "### reproject_raster"
   ]
  },
  {
   "cell_type": "code",
   "execution_count": 19,
   "id": "221d98db",
   "metadata": {},
   "outputs": [
    {
     "name": "stdout",
     "output_type": "stream",
     "text": [
      "Function failed to generate output: in method 'wrapper_GDALWarpDestName', argument 4 of type 'GDALWarpAppOptions *'\n",
      "Source file retained: True\n"
     ]
    },
    {
     "name": "stderr",
     "output_type": "stream",
     "text": [
      "ERROR 1: Translating source or target SRS failed:\n",
      "ggplot:2\n"
     ]
    }
   ],
   "source": [
    "### reproject_raster (1): error - provide faulty new_crs\n",
    "reproj_src = bbox_dst\n",
    "reproj_dst = os.path.join(reproject_subdir, single_test_file)\n",
    "\n",
    "try:\n",
    "    test = gdgtm.reproject_raster(new_crs = \"ggplot:2\", \n",
    "                                  src_raster = reproj_src,\n",
    "                                  dst_raster = reproj_dst,\n",
    "                                  delete_source = False)\n",
    "    print(test)\n",
    "    gdgtm.plot_raster_with_colorbar(reproj_dst, title = \"Rescaled file\")\n",
    "except Exception as e:\n",
    "    print(f\"Function failed to generate output: {e}\")\n",
    "\n",
    "print(\"Source file retained: \" + str(os.path.exists(reproj_src)))\n",
    "## Expected outcome: Error message, no file changes"
   ]
  },
  {
   "cell_type": "markdown",
   "id": "91a6a47f",
   "metadata": {},
   "source": [
    "#### Test outcome\n",
    "\n",
    "Results meet expectation"
   ]
  },
  {
   "cell_type": "code",
   "execution_count": 22,
   "id": "9ddfc119",
   "metadata": {},
   "outputs": [
    {
     "name": "stdout",
     "output_type": "stream",
     "text": [
      "File exists: /home/pete/Documents/tests_and_vals/gdgtm_test/03_single_reprojected/CHELSA_bio1_1981-2010_V.2.1.tif\n",
      "Source file retained: True\n"
     ]
    }
   ],
   "source": [
    "### reproject_raster (2): happy path\n",
    "\n",
    "try:\n",
    "    test = gdgtm.reproject_raster(new_crs = \"ESRI:54028\", \n",
    "                                  src_raster = reproj_src,\n",
    "                                  dst_raster = reproj_dst,\n",
    "                                  delete_source = False)\n",
    "    print(test)\n",
    "    gdgtm.plot_raster_with_colorbar(reproj_dst, title = \"Rescaled file\")\n",
    "except Exception as e:\n",
    "    print(f\"Function failed to generate output: {e}\")\n",
    "\n",
    "print(\"Source file retained: \" + str(os.path.exists(reproj_src)))\n",
    "## Expected outcome: new file confirmation message (\"Reprojection successful\"), confirm that source_file retained"
   ]
  },
  {
   "cell_type": "markdown",
   "id": "8b690773",
   "metadata": {},
   "source": [
    "#### Test outcome\n",
    "\n",
    "Results meet expectations"
   ]
  },
  {
   "cell_type": "markdown",
   "id": "4f617821-135e-46e7-b22d-7f3c480abb05",
   "metadata": {},
   "source": [
    "### replace_nodata_with_lowest\n",
    "This only covers the happy path. No internal checks built as yet into the functions (TODOs)."
   ]
  },
  {
   "cell_type": "code",
   "execution_count": null,
   "id": "8139b9e1-9f5b-4e35-84c5-8120d5f18b17",
   "metadata": {},
   "outputs": [],
   "source": [
    "### rescale_raster_to_zero_one: happy path\n",
    "nodata_src = reproj_dst\n",
    "nodata_dst = os.path.join(zero_oned_subdir, single_test_file)\n",
    "\n",
    "try:\n",
    "    test = gdgtm.replace_nodata_with_lowest(nodata_src, nodata_dst)\n",
    "    print(test)\n",
    "    gdgtm.plot_raster_with_colorbar(nodata_dst, title = \"Nodata replaced by zeroes\")    \n",
    "except Exception as e:\n",
    "    print(f\"Function failed to generate output: {e}\")"
   ]
  },
  {
   "cell_type": "markdown",
   "id": "ebfdefe4",
   "metadata": {},
   "source": [
    "## Section 3: automated process from blank"
   ]
  },
  {
   "cell_type": "markdown",
   "id": "f4b2397e-9a9a-4eb9-9e3f-9b4b05be79dc",
   "metadata": {},
   "source": [
    "### Section 3.1 Component functions test"
   ]
  },
  {
   "cell_type": "markdown",
   "id": "05cd7c51-20fc-4ac9-8077-523a32ef2f52",
   "metadata": {},
   "source": [
    "### set_up_blank\n",
    "This only covers the happy path. No internal checks built as yet into the functions (TODOs)."
   ]
  },
  {
   "cell_type": "code",
   "execution_count": null,
   "id": "00c7b9a0-00a4-438e-8e99-181f9e3fa76e",
   "metadata": {},
   "outputs": [],
   "source": [
    "blank_dst = os.path.join(test_path, subdir_names[8], \"test_blank1.tif\")\n",
    "bbox = (50, 50, 100, 0)\n",
    "proj = \"EPSG:4326\"\n",
    "pixel_size = 0.2\n",
    "\n",
    "try:\n",
    "    test = gdgtm.set_up_blank(bbox, proj, pixel_size, blank_dst)\n",
    "    print(test)\n",
    "    gdgtm.plot_raster_with_colorbar(blank_dst, title = \"Blank raster\")\n",
    "except Exception as e:\n",
    "    print(f\"Function failed to generate output: {e}\")   "
   ]
  },
  {
   "cell_type": "markdown",
   "id": "282d70af-a512-405f-9437-63afbbd7e779",
   "metadata": {},
   "source": [
    "### get_proj_transform\n",
    "This only covers the happy path. No internal checks built as yet into the functions (TODOs)."
   ]
  },
  {
   "cell_type": "code",
   "execution_count": null,
   "id": "987b3038-1d39-4bc3-9dd4-633f938cad49",
   "metadata": {},
   "outputs": [],
   "source": [
    "try:\n",
    "    test = gdgtm.get_proj_transform(blank_dst)\n",
    "    print(test)\n",
    "except Exception as e:\n",
    "    print(f\"Function failed to generate output: {e}\") "
   ]
  },
  {
   "cell_type": "markdown",
   "id": "b39bbb04-96d3-4f6b-a5e2-6242dbd5c5c9",
   "metadata": {},
   "source": [
    "### check_if_geotif\n",
    "This only covers the happy path. No internal checks built as yet into the functions (TODOs)."
   ]
  },
  {
   "cell_type": "code",
   "execution_count": null,
   "id": "349bb56e-f5d7-4657-8539-4a7733e45f9c",
   "metadata": {},
   "outputs": [],
   "source": [
    "try:\n",
    "    test = gdgtm.check_if_geotiff(blank_dst)\n",
    "    print(test)\n",
    "except Exception as e:\n",
    "    print(f\"Function failed to generate output: {e}\") "
   ]
  },
  {
   "cell_type": "markdown",
   "id": "9519d57c-553c-48d0-bb75-4c2b76fd0dbe",
   "metadata": {},
   "source": [
    "### align_raster\n",
    "This only covers the happy path. No internal checks built as yet into the functions (TODOs)."
   ]
  },
  {
   "cell_type": "code",
   "execution_count": null,
   "id": "0ad46ceb-b1df-4bd1-90ca-f9385b20c8b3",
   "metadata": {},
   "outputs": [],
   "source": [
    "align_src = os.path.join(get_subdir, single_test_file)\n",
    "align_dst = os.path.joinos.path.join(test_path, subdir_names[8], \"aligned.tif\")\n",
    "\n",
    "try:\n",
    "    test = gdgtm.align_raster(src_raster = align_src,\n",
    "                              target_raster = blank_dst,\n",
    "                              dst_raster = align_dst)\n",
    "    print(test)\n",
    "    gdgtm.plot_raster_with_colorbar(align_dst, title = \"Aligned raster\")\n",
    "except Exception as e:\n",
    "    print(f\"Function failed to generate output: {e}\")"
   ]
  },
  {
   "cell_type": "markdown",
   "id": "4c5729c7-24c0-4a5a-bd95-12967150b82e",
   "metadata": {},
   "source": [
    "### validate_raster_alignment\n",
    "This only covers the happy path. No internal checks built as yet into the functions (TODOs)."
   ]
  },
  {
   "cell_type": "code",
   "execution_count": null,
   "id": "64de3343-4705-40d8-b5e2-ba5370cff713",
   "metadata": {},
   "outputs": [],
   "source": [
    "try:\n",
    "    test = gdgtm.validate_raster_alignment(align_dst, blank_dst)\n",
    "    print(test)\n",
    "except Exception as e:\n",
    "    print(f\"Function failed to generate output: {e}\")    "
   ]
  },
  {
   "cell_type": "markdown",
   "id": "284026ee-a6fa-45a3-9c01-4a8ef41fa9be",
   "metadata": {},
   "source": [
    "### align_validate_raster\n",
    "This only covers the happy path. No internal checks built as yet into the functions (TODOs)."
   ]
  },
  {
   "cell_type": "code",
   "execution_count": null,
   "id": "d5196c42-62cd-4c19-a224-2213712a6d88",
   "metadata": {},
   "outputs": [],
   "source": [
    "align_validated_dst = os.path.joinos.path.join(test_path, subdir_names[8], \"aligned_validated.tif\")\n",
    "\n",
    "try:\n",
    "    test = gdgtm.align_validate_raster(align_src, blank_dst, align_validated_dst)\n",
    "    print(test)\n",
    "    gdgtm.plot_raster_with_colorbar(align_validated_dst, title = \"Aligned raster\")\n",
    "except Exception as e:\n",
    "    print(f\"Function failed to generate output: {e}\")    "
   ]
  },
  {
   "cell_type": "markdown",
   "id": "1dee30fe-7c3b-47a1-b352-247370487d7e",
   "metadata": {},
   "source": [
    "### Section 3.2 align_rasters\n",
    "This function takes on multiple rasters and aligns them on the bbox provided\n",
    "This only covers the happy path. No internal checks built as yet into the functions (TODOs)."
   ]
  },
  {
   "cell_type": "code",
   "execution_count": 40,
   "id": "6df6805d-c118-4f44-976c-4a6e183d9ca6",
   "metadata": {},
   "outputs": [
    {
     "name": "stdout",
     "output_type": "stream",
     "text": [
      "['/home/pete/Documents/tests_and_vals/gdgtm_test/01_get_functions/CHELSA_bio1_1981-2010_V.2.1.tif', '/home/pete/Documents/tests_and_vals/gdgtm_test/01_get_functions/CHELSA_bio6_1981-2010_V.2.1.tif', '/home/pete/Documents/tests_and_vals/gdgtm_test/01_get_functions/hyd_glo_dem_30s.tif']\n",
      "['/home/pete/Documents/tests_and_vals/gdgtm_test/09_automated_from_coord/CHELSA_bio1_1981-2010_V.2.1.tif', '/home/pete/Documents/tests_and_vals/gdgtm_test/09_automated_from_coord/CHELSA_bio6_1981-2010_V.2.1.tif', '/home/pete/Documents/tests_and_vals/gdgtm_test/09_automated_from_coord/hyd_glo_dem_30s.tif']\n"
     ]
    }
   ],
   "source": [
    "bbox = (0, 2000000, 2000000, 0)\n",
    "proj = \"ESRI:54028\"\n",
    "pixel_size = 10000\n",
    "blank_dst = os.path.join(test_path, subdir_names[8], \"test_blank2.tif\")\n",
    "\n",
    "src_rasters = glob.glob(os.path.join(get_subdir, \"*.tif\"))\n",
    "print(src_rasters)\n",
    "\n",
    "dst_rasters = []\n",
    "\n",
    "for raster in src_rasters:\n",
    "    dst_rasters.append(os.path.join(test_path, subdir_names[8], os.path.basename(raster)))\n",
    "\n",
    "print(dst_rasters)\n",
    "\n",
    "try:\n",
    "    test =  gdgtm.align_rasters(bbox = bbox, \n",
    "                                proj = proj, \n",
    "                                pixel_size = pixel_size, \n",
    "                                dst_blank = blank_dst, \n",
    "                                src_rasters = src_rasters,\n",
    "                                dst_rasters = dst_rasters)\n",
    "    print(test)\n",
    "    for raster in dst_rasters:\n",
    "        gdgtm.plot_raster_with_colorbar(raster, title = f\"{raster}\")\n",
    "except Exception as e:\n",
    "    print(f\"Function failed to generate output: {e}\")"
   ]
  },
  {
   "cell_type": "markdown",
   "id": "e0727540-334e-4736-b120-ebc8ff8e417f",
   "metadata": {},
   "source": [
    "## Section 4: automated process from random coordinates\n",
    "This only covers the happy path. No internal checks built as yet into the functions (TODOs)."
   ]
  },
  {
   "cell_type": "code",
   "execution_count": null,
   "id": "ed7d405e-9790-435b-bef7-e16cb9f748ec",
   "metadata": {},
   "outputs": [],
   "source": [
    "# random.seed(413)\n",
    "\n",
    "# src_raster = os.path.join(get_subdir, single_test_file)\n",
    "\n",
    "# for draw in range(10):\n",
    "    \n"
   ]
  },
  {
   "cell_type": "markdown",
   "id": "7bd69498-67ca-4327-af2b-bbedbafbee75",
   "metadata": {},
   "source": [
    "## Section 5: Conversions"
   ]
  },
  {
   "cell_type": "markdown",
   "id": "7b0675d5-9661-49d2-919f-2cc7bc5eeac2",
   "metadata": {},
   "source": [
    "### convert_gtif_to_nparray"
   ]
  },
  {
   "cell_type": "code",
   "execution_count": null,
   "id": "df72b153-04f4-48fe-bedb-c78b579dea17",
   "metadata": {},
   "outputs": [],
   "source": [
    "### convert_gtif_to_jpg"
   ]
  },
  {
   "cell_type": "code",
   "execution_count": null,
   "id": "d90f2b58-6306-4199-b827-4a0c86ed8594",
   "metadata": {},
   "outputs": [],
   "source": [
    "### process_dir_to_jpg"
   ]
  },
  {
   "cell_type": "markdown",
   "id": "44f49f2c",
   "metadata": {},
   "source": [
    "## Section X: STAC and Chelsa get functions\n",
    "**IN WAIT FOR RE_IMPLEMENT**"
   ]
  },
  {
   "cell_type": "markdown",
   "id": "e6a48186",
   "metadata": {},
   "source": [
    "## Section X: Mosaics and Merging\n",
    "**IN WAIT FOR RE_IMPLEMENT**"
   ]
  },
  {
   "cell_type": "markdown",
   "id": "6c8dd6d1-90e3-4ea9-a1b1-d6526ee4ebf9",
   "metadata": {},
   "source": [
    "## Section X: Shapefile conversion\n",
    "**IN WAIT FOR RE_IMPLEMENT**"
   ]
  }
 ],
 "metadata": {
  "kernelspec": {
   "display_name": "Python 3 (ipykernel)",
   "language": "python",
   "name": "python3"
  },
  "language_info": {
   "codemirror_mode": {
    "name": "ipython",
    "version": 3
   },
   "file_extension": ".py",
   "mimetype": "text/x-python",
   "name": "python",
   "nbconvert_exporter": "python",
   "pygments_lexer": "ipython3",
   "version": "3.10.14"
  }
 },
 "nbformat": 4,
 "nbformat_minor": 5
}
