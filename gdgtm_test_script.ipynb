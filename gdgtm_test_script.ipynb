{
 "cells": [
  {
   "cell_type": "markdown",
   "id": "19c60c8b",
   "metadata": {},
   "source": [
    "# gdgtm regression test\n",
    "\n",
    "The goal of this test is to evaluate whether the pipeline built to feed standardized rasters for downstream ML actions (overall goal of the gdgtm package) is working as intended. The test script is structured as follows:\n",
    "\n",
    "- Section 1: Test the flow of the relevant \"get\" functions\n",
    "- Section 2: Test the core pipeline for creating the \"master\" raster\n",
    "- Section 3: Test the mosaics and raster combination components\n",
    "- Section 4: Test the \"standardization\" line\n",
    "- Section 5: Test the \"validation\" line\n",
    "- Section 6: Test the overall pipeline implementation"
   ]
  },
  {
   "cell_type": "code",
   "execution_count": null,
   "id": "17b47040",
   "metadata": {},
   "outputs": [],
   "source": [
    "import gdgtm"
   ]
  },
  {
   "cell_type": "markdown",
   "id": "63277897",
   "metadata": {},
   "source": [
    "## Section 1: \"get\" function tests\n",
    "- Target folder: \"/home/pete/Documents/tests_and_vals/gdgtm/get_functions/\""
   ]
  },
  {
   "cell_type": "markdown",
   "id": "e1141b21",
   "metadata": {},
   "source": [
    "### get_chelsa_data"
   ]
  },
  {
   "cell_type": "code",
   "execution_count": null,
   "id": "d5a3bdbd",
   "metadata": {},
   "outputs": [],
   "source": [
    "### get_chelsa_data (1): happy path, tas parameter\n",
    "\n",
    "parameter = \"tas\"\n",
    "extent = [7.3, 7.5, 47.0, 47.2]\n",
    "start_date = \"2023-1-1\"\n",
    "end_date = \"2023-2-2\"\n",
    "\n",
    "gdgtm.get_chelsa_data(parameter, extent, start_date, end_date, \n",
    "                      write_location = '/home/pete/Documents/tests_and_vals/gdgtm/get_functions/chelsa_tas_raw.tif')\n",
    "\n",
    "## Expected outcome: str: 'Target .tiff exists' and file meta\n"
   ]
  },
  {
   "cell_type": "markdown",
   "id": "9b9d771d",
   "metadata": {},
   "source": [
    "#### Test outcome"
   ]
  },
  {
   "cell_type": "code",
   "execution_count": null,
   "id": "4059be06",
   "metadata": {},
   "outputs": [],
   "source": [
    "### get_chelsa_data (2): happy path, pr parameter\n",
    "\n",
    "parameter = \"pr\"\n",
    "extent = [7.3, 7.5, 47.0, 47.2]\n",
    "start_date = \"2023-1-1\"\n",
    "end_date = \"2023-2-2\"\n",
    "\n",
    "gdgtm.get_chelsa_data(parameter, extent, start_date, end_date, \n",
    "                      write_location = '/home/pete/Documents/tests_and_vals/gdgtm/get_functions/chelsa_pr_raw.tif')\n",
    "\n",
    "## Expected outcome: str: 'Target .tiff exists' and file meta\n"
   ]
  },
  {
   "cell_type": "markdown",
   "id": "aa33f24f",
   "metadata": {},
   "source": [
    "#### Test outcome"
   ]
  },
  {
   "cell_type": "code",
   "execution_count": null,
   "id": "b465c65b",
   "metadata": {},
   "outputs": [],
   "source": [
    "### get_chelsa_data (3): error path, made up parameter\n",
    "\n",
    "parameter = \"obviously_wrong_param\"\n",
    "extent = [7.3, 7.5, 47.0, 47.2]\n",
    "start_date = \"2023-1-1\"\n",
    "end_date = \"2023-2-2\"\n",
    "\n",
    "gdgtm.get_chelsa_data(parameter, extent, start_date, end_date, \n",
    "                      write_location = '/home/pete/Documents/tests_and_vals/gdgtm/get_functions/chelsa_pr_raw.tif')\n",
    "\n",
    "## Expected outcome: Error message\n"
   ]
  },
  {
   "cell_type": "markdown",
   "id": "1a80b8ed",
   "metadata": {},
   "source": [
    "#### Test outcome"
   ]
  },
  {
   "cell_type": "markdown",
   "id": "e4a169ed",
   "metadata": {},
   "source": [
    "### get_cognames_from_stac_coll_static"
   ]
  },
  {
   "cell_type": "code",
   "execution_count": null,
   "id": "fcbf115e",
   "metadata": {},
   "outputs": [],
   "source": [
    "### get_cognames_from_stac_coll_static (1): correct url for an OLM collection value\n",
    "\n",
    "test = gdgtm.get_cognames_from_stac_coll_static(\"https://s3.eu-central-1.wasabisys.com/stac/openlandmap/wilderness_li2022.human.footprint/collection.json\")\n",
    "\n",
    "print(test[0])\n",
    "\n",
    "## Expected outcome: url to a geotiff"
   ]
  },
  {
   "cell_type": "markdown",
   "id": "9ae9d72f",
   "metadata": {},
   "source": [
    "#### Test outcome"
   ]
  },
  {
   "cell_type": "code",
   "execution_count": null,
   "id": "1ddec4c5",
   "metadata": {},
   "outputs": [],
   "source": [
    "### get_cognames_from_stac_coll_static (2): correct url for a Capella collection value\n",
    "\n",
    "test = gdgtm.get_cognames_from_stac_coll_static(\"https://capella-open-data.s3.us-west-2.amazonaws.com/stac/capella-open-data-by-instrument-mode/capella-open-data-stripmap/collection.json\")\n",
    "\n",
    "print(test[0])\n",
    "\n",
    "## Expected outcome: url to a geotiff"
   ]
  },
  {
   "cell_type": "markdown",
   "id": "6aa81975",
   "metadata": {},
   "source": [
    "#### Test outcome"
   ]
  },
  {
   "cell_type": "code",
   "execution_count": null,
   "id": "d9e96543",
   "metadata": {},
   "outputs": [],
   "source": [
    "### get_cognames_from_stac_coll_static (3): wrong information provided\n",
    "\n",
    "test = gdgtm.get_cognames_from_stac_coll_static(\"https://www.unifr.ch/theo/fr/\")\n",
    "\n",
    "print(test[0])\n",
    "\n",
    "## Expected outcome: an error message"
   ]
  },
  {
   "cell_type": "markdown",
   "id": "64278984",
   "metadata": {},
   "source": [
    "#### Test outcome"
   ]
  },
  {
   "cell_type": "markdown",
   "id": "e967c3f7",
   "metadata": {},
   "source": [
    "### get_cogs_from_olm"
   ]
  },
  {
   "cell_type": "code",
   "execution_count": null,
   "id": "140feee2",
   "metadata": {},
   "outputs": [],
   "source": [
    "### get_cogs_from_olm (1): correct url for an OLM collection value - Human footprint\n",
    "\n",
    "test = get_cognames_from_stac_coll_static(\"https://s3.eu-central-1.wasabisys.com/stac/openlandmap/wilderness_li2022.human.footprint/collection.json\")\n",
    "\n",
    "bbox = (5.7663, 47.9163, 10.5532, 45.6755)\n",
    "\n",
    "gdgtm.get_cogs_from_olm(cognames = test, \n",
    "                        target_directory = \"/home/pete/Documents/tests_and_vals/gdgtm/get_functions/\", \n",
    "                        target_names = \"olm_humfoot_switz_raw_\",\n",
    "                        bbox = bbox,\n",
    "                        date_start = \"20000601\",\n",
    "                        date_end = \"20050101\"\n",
    "                       )\n",
    "\n",
    "## Expected outcome: a list of four downloaded files"
   ]
  },
  {
   "cell_type": "markdown",
   "id": "fa827e9d",
   "metadata": {},
   "source": [
    "#### Test outcome"
   ]
  },
  {
   "cell_type": "code",
   "execution_count": null,
   "id": "d092c81c",
   "metadata": {},
   "outputs": [],
   "source": [
    "### get_cogs_from_olm (2): correct url for an OLM collection value - ESA CCI annual land cover\n",
    "\n",
    "test = get_cognames_from_stac_coll_static(\"https://s3.eu-central-1.wasabisys.com/stac/openlandmap/land.cover_esacci.lc.l4/collection.json\")\n",
    "\n",
    "bbox = (5.7663, 47.9163, 10.5532, 45.6755)\n",
    "\n",
    "get_cogs_from_olm(cognames = test, \n",
    "                  target_directory = \"/home/pete/Documents/tests_and_vals/gdgtm/get_functions/\", \n",
    "                  target_names = \"olm_alc_switz_raw_\",\n",
    "                  bbox = bbox,\n",
    "                  date_start = \"20000601\",\n",
    "                  date_end = \"20050101\"\n",
    "                 )\n",
    "\n",
    "## Expected outcome: a list of four downloaded files"
   ]
  },
  {
   "cell_type": "markdown",
   "id": "fe180e6c",
   "metadata": {},
   "source": [
    "#### Test outcome"
   ]
  },
  {
   "cell_type": "code",
   "execution_count": null,
   "id": "e46647ce",
   "metadata": {},
   "outputs": [],
   "source": [
    "### get_cogs_from_olm (3): test defaults\n",
    "\n",
    "test = get_cognames_from_stac_coll_static(\"https://s3.eu-central-1.wasabisys.com/stac/openlandmap/ph.h2o_usda.4c1a2a/collection.json\")\n",
    "\n",
    "get_cogs_from_olm(cognames = test, \n",
    "                  target_directory = \"/home/pete/Documents/tests_and_vals/gdgtm/get_functions/\", \n",
    "                  target_names = \"olm_soilph_eurafr_raw_\"\n",
    "                 )\n",
    "\n",
    "## Expected outcome: a list of one downloaded file"
   ]
  },
  {
   "cell_type": "markdown",
   "id": "4e3dd9c3",
   "metadata": {},
   "source": [
    "#### Test outcome"
   ]
  },
  {
   "cell_type": "markdown",
   "id": "7a25ded7",
   "metadata": {},
   "source": [
    "## Section 2: creating the \"Master\" geotiff"
   ]
  },
  {
   "cell_type": "markdown",
   "id": "c1e77d32",
   "metadata": {},
   "source": [
    "### reproject_raster"
   ]
  },
  {
   "cell_type": "code",
   "execution_count": null,
   "id": "1ef89dc0",
   "metadata": {},
   "outputs": [],
   "source": [
    "### reproject_raster (1): error - provide faulty new_crs\n",
    "\n",
    "gdgtm.reproject_raster(new_crs = \"ggplot:2\", \n",
    "                       source_raster = '/home/pete/Downloads/chelsa_raw_pipetest.tif',\n",
    "                       dst_raster = '/home/pete/Downloads/chelsa_reprojected_pipetest.tif',\n",
    "                       delete_source = True)\n",
    "\n",
    "## Expected outcome: Error message, no file changes"
   ]
  },
  {
   "cell_type": "markdown",
   "id": "201f5e82",
   "metadata": {},
   "source": [
    "#### Test outcome"
   ]
  },
  {
   "cell_type": "code",
   "execution_count": null,
   "id": "e8b55ab5",
   "metadata": {},
   "outputs": [],
   "source": [
    "### reproject_raster (2): error - provide faulty new_crs\n",
    "\n",
    "gdgtm.reproject_raster(new_crs = \"ggplot:2\", \n",
    "                       source_raster = '/home/pete/Downloads/chelsa_raw_pipetest.tif',\n",
    "                       dst_raster = '/home/pete/Downloads/chelsa_reprojected_pipetest.tif',\n",
    "                       delete_source = False)\n",
    "\n",
    "## Expected outcome: new file confirmation message (\"Reprojection successful\"), confirm that source_file exists in origin folder"
   ]
  },
  {
   "cell_type": "markdown",
   "id": "fffba10d",
   "metadata": {},
   "source": [
    "#### Test outcome"
   ]
  }
 ],
 "metadata": {
  "kernelspec": {
   "display_name": "Python 3 (ipykernel)",
   "language": "python",
   "name": "python3"
  },
  "language_info": {
   "codemirror_mode": {
    "name": "ipython",
    "version": 3
   },
   "file_extension": ".py",
   "mimetype": "text/x-python",
   "name": "python",
   "nbconvert_exporter": "python",
   "pygments_lexer": "ipython3",
   "version": "3.10.12"
  }
 },
 "nbformat": 4,
 "nbformat_minor": 5
}
