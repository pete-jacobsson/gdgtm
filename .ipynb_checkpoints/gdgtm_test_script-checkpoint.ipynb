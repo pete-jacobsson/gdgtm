{
 "cells": [
  {
   "cell_type": "markdown",
   "id": "27d2da2d",
   "metadata": {},
   "source": [
    "# gdgtm regression test\n",
    "\n",
    "The goal of this test is to evaluate whether the gdgtm (**g**eospatial **d**ata **g**etting, **t**ransforming, **m**anaging) pipeline built to feed standardized rasters for downstream ML actions (overall goal of the gdgtm package) is working as intended. The test script is structured as follows:\n",
    "\n",
    "- Section 1: Test the flow of the relevant \"get\" functions\n",
    "- Section 2: Test the core pipeline for creating the \"master\" raster\n",
    "- Section 3: Test the mosaics and raster combination components\n",
    "- Section 4: Test the \"standardization\" line\n",
    "- Section 5: Test the \"validation\" line\n",
    "- Section 6: Test the overall pipeline implementation"
   ]
  },
  {
   "cell_type": "code",
   "execution_count": null,
   "id": "0c368d52",
   "metadata": {},
   "outputs": [],
   "source": [
    "import gdgtm\n",
    "from pathlib import Path"
   ]
  },
  {
   "cell_type": "markdown",
   "id": "fee668fb",
   "metadata": {},
   "source": [
    "## Section 1: \"get\" function tests\n",
    "- Target folder: \"/home/pete/Documents/tests_and_vals/gdgtm/get_functions/\""
   ]
  },
  {
   "cell_type": "markdown",
   "id": "55e0de73",
   "metadata": {},
   "source": [
    "### get_chelsa_data"
   ]
  },
  {
   "cell_type": "code",
   "execution_count": null,
   "id": "fca3fc2f",
   "metadata": {},
   "outputs": [],
   "source": [
    "### get_chelsa_data (1): happy path, tas parameter\n",
    "\n",
    "parameter = \"tas\"\n",
    "extent = [7.3, 7.5, 47.0, 47.2]\n",
    "start_date = \"2023-1-1\"\n",
    "end_date = \"2023-2-2\"\n",
    "\n",
    "gdgtm.get_chelsa_data(parameter, extent, start_date, end_date, \n",
    "                      write_location = '/home/pete/Documents/tests_and_vals/gdgtm/01_get_functions/chelsa_tas_raw.tif')\n",
    "\n",
    "## Expected outcome: str: 'Target .tiff exists' and file meta\n"
   ]
  },
  {
   "cell_type": "markdown",
   "id": "360c73e4",
   "metadata": {},
   "source": [
    "#### Test outcome"
   ]
  },
  {
   "cell_type": "code",
   "execution_count": null,
   "id": "f4d274ab",
   "metadata": {},
   "outputs": [],
   "source": [
    "### get_chelsa_data (2): happy path, pr parameter\n",
    "\n",
    "parameter = \"pr\"\n",
    "extent = [7.3, 7.5, 47.0, 47.2]\n",
    "start_date = \"2023-1-1\"\n",
    "end_date = \"2023-2-2\"\n",
    "\n",
    "gdgtm.get_chelsa_data(parameter, extent, start_date, end_date, \n",
    "                      write_location = '/home/pete/Documents/tests_and_vals/gdgtm/01_get_functions/chelsa_pr_raw.tif')\n",
    "\n",
    "## Expected outcome: str: 'Target .tiff exists' and file meta\n"
   ]
  },
  {
   "cell_type": "markdown",
   "id": "727bf911",
   "metadata": {},
   "source": [
    "#### Test outcome"
   ]
  },
  {
   "cell_type": "code",
   "execution_count": null,
   "id": "49b6d40e",
   "metadata": {},
   "outputs": [],
   "source": [
    "### get_chelsa_data (3): error path, made up parameter\n",
    "\n",
    "parameter = \"obviously_wrong_param\"\n",
    "extent = [7.3, 7.5, 47.0, 47.2]\n",
    "start_date = \"2023-1-1\"\n",
    "end_date = \"2023-2-2\"\n",
    "\n",
    "gdgtm.get_chelsa_data(parameter, extent, start_date, end_date, \n",
    "                      write_location = '/home/pete/Documents/tests_and_vals/gdgtm/01_get_functions/chelsa_pr_raw.tif')\n",
    "\n",
    "## Expected outcome: Error message\n"
   ]
  },
  {
   "cell_type": "markdown",
   "id": "3267ccb4",
   "metadata": {},
   "source": [
    "#### Test outcome"
   ]
  },
  {
   "cell_type": "markdown",
   "id": "c5854444",
   "metadata": {},
   "source": [
    "### get_cognames_from_stac_coll_static"
   ]
  },
  {
   "cell_type": "code",
   "execution_count": null,
   "id": "2f3b1b73",
   "metadata": {},
   "outputs": [],
   "source": [
    "### get_cognames_from_stac_coll_static (1): correct url for an OLM collection value\n",
    "\n",
    "test = gdgtm.get_cognames_from_stac_coll_static(\"https://s3.eu-central-1.wasabisys.com/stac/openlandmap/wilderness_li2022.human.footprint/collection.json\")\n",
    "\n",
    "print(test[0])\n",
    "\n",
    "## Expected outcome: url to a geotiff"
   ]
  },
  {
   "cell_type": "markdown",
   "id": "15ed8589",
   "metadata": {},
   "source": [
    "#### Test outcome"
   ]
  },
  {
   "cell_type": "code",
   "execution_count": null,
   "id": "7443cc0a",
   "metadata": {},
   "outputs": [],
   "source": [
    "### get_cognames_from_stac_coll_static (2): correct url for a Capella collection value\n",
    "\n",
    "test = gdgtm.get_cognames_from_stac_coll_static(\"https://capella-open-data.s3.us-west-2.amazonaws.com/stac/capella-open-data-by-instrument-mode/capella-open-data-stripmap/collection.json\")\n",
    "\n",
    "print(test[0])\n",
    "\n",
    "## Expected outcome: url to a geotiff"
   ]
  },
  {
   "cell_type": "markdown",
   "id": "598a15c6",
   "metadata": {},
   "source": [
    "#### Test outcome"
   ]
  },
  {
   "cell_type": "code",
   "execution_count": null,
   "id": "21386e5b",
   "metadata": {},
   "outputs": [],
   "source": [
    "### get_cognames_from_stac_coll_static (3): wrong information provided\n",
    "\n",
    "test = gdgtm.get_cognames_from_stac_coll_static(\"https://www.unifr.ch/theo/fr/\")\n",
    "\n",
    "print(test[0])\n",
    "\n",
    "## Expected outcome: an error message"
   ]
  },
  {
   "cell_type": "markdown",
   "id": "dc5b5081",
   "metadata": {},
   "source": [
    "#### Test outcome"
   ]
  },
  {
   "cell_type": "markdown",
   "id": "efe42936",
   "metadata": {},
   "source": [
    "### get_cogs_from_olm"
   ]
  },
  {
   "cell_type": "code",
   "execution_count": null,
   "id": "b6061002",
   "metadata": {},
   "outputs": [],
   "source": [
    "### get_cogs_from_olm (1): correct url for an OLM collection value - Human footprint\n",
    "\n",
    "test = gdgtm.get_cognames_from_stac_coll_static(\"https://s3.eu-central-1.wasabisys.com/stac/openlandmap/wilderness_li2022.human.footprint/collection.json\")\n",
    "\n",
    "bbox = (5.7663, 47.9163, 10.5532, 45.6755)\n",
    "\n",
    "gdgtm.get_cogs_from_olm(cognames = test, \n",
    "                        target_directory = \"/home/pete/Documents/tests_and_vals/gdgtm/01_get_functions/\", \n",
    "                        target_names = \"olm_humfoot_switz_raw_\",\n",
    "                        bbox = bbox,\n",
    "                        date_start = \"20000601\",\n",
    "                        date_end = \"20050101\"\n",
    "                       )\n",
    "\n",
    "## Expected outcome: a list of four downloaded files"
   ]
  },
  {
   "cell_type": "markdown",
   "id": "b0afc4d9",
   "metadata": {},
   "source": [
    "#### Test outcome"
   ]
  },
  {
   "cell_type": "code",
   "execution_count": null,
   "id": "8dba3782",
   "metadata": {},
   "outputs": [],
   "source": [
    "### get_cogs_from_olm (2): correct url for an OLM collection value - ESA CCI annual land cover\n",
    "\n",
    "test = gdgtm.get_cognames_from_stac_coll_static(\"https://s3.eu-central-1.wasabisys.com/stac/openlandmap/land.cover_esacci.lc.l4/collection.json\")\n",
    "\n",
    "bbox = (5.7663, 47.9163, 10.5532, 45.6755)\n",
    "\n",
    "gdgtm.get_cogs_from_olm(cognames = test, \n",
    "                        target_directory = \"/home/pete/Documents/tests_and_vals/gdgtm/01_get_functions/\", \n",
    "                        target_names = \"olm_alc_switz_raw_\",\n",
    "                        bbox = bbox,\n",
    "                        date_start = \"20000601\",\n",
    "                        date_end = \"20050101\"\n",
    "                       )\n",
    "\n",
    "## Expected outcome: a list of four downloaded files"
   ]
  },
  {
   "cell_type": "markdown",
   "id": "e0856974",
   "metadata": {},
   "source": [
    "#### Test outcome"
   ]
  },
  {
   "cell_type": "code",
   "execution_count": null,
   "id": "88737008",
   "metadata": {},
   "outputs": [],
   "source": [
    "### get_cogs_from_olm (3): test defaults\n",
    "\n",
    "test = gdgtm.get_cognames_from_stac_coll_static(\"https://s3.eu-central-1.wasabisys.com/stac/openlandmap/ph.h2o_usda.4c1a2a/collection.json\")\n",
    "\n",
    "gdgtm.get_cogs_from_olm(cognames = test, \n",
    "                        target_directory = \"/home/pete/Documents/tests_and_vals/gdgtm/01_get_functions/\", \n",
    "                        target_names = \"olm_soilph_eurafr_raw_\"\n",
    "                       )\n",
    "\n",
    "## Expected outcome: a list of one downloaded file"
   ]
  },
  {
   "cell_type": "markdown",
   "id": "08ae885d",
   "metadata": {},
   "source": [
    "#### Test outcome"
   ]
  },
  {
   "cell_type": "markdown",
   "id": "65705f02",
   "metadata": {},
   "source": [
    "## Section 2: creating the \"Master\" geotiff"
   ]
  },
  {
   "cell_type": "markdown",
   "id": "b1e2be91",
   "metadata": {},
   "source": [
    "### reproject_raster"
   ]
  },
  {
   "cell_type": "code",
   "execution_count": null,
   "id": "eb6ed192",
   "metadata": {},
   "outputs": [],
   "source": [
    "### reproject_raster (1): error - provide faulty new_crs\n",
    "\n",
    "gdgtm.reproject_raster(new_crs = \"ggplot:2\", \n",
    "                       source_raster = '/home/pete/Documents/tests_and_vals/gdgtm/01_get_functions/chelsa_pr_raw.tif',\n",
    "                       dst_raster = '/home/pete/Documents/tests_and_vals/gdgtm/02_ master_reprojected/chelsa_pr_reprojected_error.tif',\n",
    "                       delete_source = True)\n",
    "\n",
    "print(\"Source file retained: \" + Path('/home/pete/Documents/tests_and_vals/gdgtm/01_get_functions/chelsa_pr_raw.tif'))\n",
    "## Expected outcome: Error message, no file changes"
   ]
  },
  {
   "cell_type": "markdown",
   "id": "26c8a3ad",
   "metadata": {},
   "source": [
    "#### Test outcome"
   ]
  },
  {
   "cell_type": "code",
   "execution_count": null,
   "id": "ddc396d5",
   "metadata": {},
   "outputs": [],
   "source": [
    "### reproject_raster (2): happy path - no file deletion\n",
    "\n",
    "gdgtm.reproject_raster(new_crs = \"ggplot:2\", \n",
    "                       source_raster = '/home/pete/Documents/tests_and_vals/gdgtm/01_get_functions/chelsa_pr_raw.tif',\n",
    "                       dst_raster = '/home/pete/Documents/tests_and_vals/gdgtm/02_ master_reprojected/chelsa_pr_reprojected.tif',\n",
    "                       delete_source = False)\n",
    "\n",
    "print(\"Source file retained: \" + Path('/home/pete/Documents/tests_and_vals/gdgtm/01_get_functions/chelsa_pr_raw.tif'))\n",
    "## Expected outcome: new file confirmation message (\"Reprojection successful\"), confirm that source_file retained"
   ]
  },
  {
   "cell_type": "markdown",
   "id": "7a3a504d",
   "metadata": {},
   "source": [
    "#### Test outcome"
   ]
  },
  {
   "cell_type": "code",
   "execution_count": null,
   "id": "8d8d376a",
   "metadata": {},
   "outputs": [],
   "source": [
    "### reproject_raster (3): happy path, delete source by default\n",
    "\n",
    "gdgtm.reproject_raster(new_crs = \"ggplot:2\", \n",
    "                       source_raster = '/home/pete/Documents/tests_and_vals/gdgtm/01_get_functions/chelsa_pr_raw.tif',\n",
    "                       dst_raster = '/home/pete/Documents/tests_and_vals/gdgtm/02_ master_reprojected/chelsa_pr_reprojected.tif'\n",
    "                      )\n",
    "\n",
    "print(\"Source file retained: \" + Path('/home/pete/Documents/tests_and_vals/gdgtm/01_get_functions/chelsa_pr_raw.tif'))\n",
    "## Expected outcome: new file confirmation message (\"Reprojection successful\"), confirm that source_file not retained"
   ]
  },
  {
   "cell_type": "markdown",
   "id": "aa2ea955",
   "metadata": {},
   "source": [
    "#### Test outcome"
   ]
  },
  {
   "cell_type": "markdown",
   "id": "7b82d0e8",
   "metadata": {},
   "source": [
    "### change_raster_resolution"
   ]
  },
  {
   "cell_type": "code",
   "execution_count": 1,
   "id": "63f08d01",
   "metadata": {},
   "outputs": [],
   "source": [
    "### change_raster_resolution (1): failure - provide invalid value for target res\n",
    "\n",
    "gdgtm.change_raster_res(target_res = \"five-hundred\",\n",
    "                        source_raster = '/home/pete/Documents/tests_and_vals/gdgtm/02_ master_reprojected/chelsa_pr_reprojected.tif',\n",
    "                        dst_raster = '/home/pete/Documents/tests_and_vals/gdgtm/03_ master_rescaled/chelsa_pr_rescaled.tif',\n",
    "                        delete_source = True\n",
    "                       )\n",
    "\n",
    "print(\"Source file retained: \" + Path('home/pete/Documents/tests_and_vals/gdgtm/02_ master_reprojected/chelsa_pr_reprojected.tif'))\n",
    "## Expected outcome: Error message, file retained"
   ]
  },
  {
   "cell_type": "markdown",
   "id": "952d7b24",
   "metadata": {},
   "source": [
    "#### Test outcome"
   ]
  },
  {
   "cell_type": "code",
   "execution_count": 3,
   "id": "c4190834",
   "metadata": {},
   "outputs": [],
   "source": [
    "### change_raster_resolution (2): happy path - retain source raster\n",
    "\n",
    "gdgtm.change_raster_res(target_res = 500,\n",
    "                        source_raster = '/home/pete/Documents/tests_and_vals/gdgtm/02_ master_reprojected/chelsa_pr_reprojected.tif',\n",
    "                        dst_raster = '/home/pete/Documents/tests_and_vals/gdgtm/03_ master_rescaled/chelsa_pr_rescaled.tif',\n",
    "                        delete_source = False\n",
    "                       )\n",
    "\n",
    "print(\"Source file retained: \" + Path('home/pete/Documents/tests_and_vals/gdgtm/02_ master_reprojected/chelsa_pr_reprojected.tif'))\n",
    "## Expected outcome: Match confirmation (\"Resolution change successful: new pixel size matches target\"), file retained"
   ]
  },
  {
   "cell_type": "markdown",
   "id": "92496d54",
   "metadata": {},
   "source": [
    "#### Test outcome"
   ]
  },
  {
   "cell_type": "code",
   "execution_count": null,
   "id": "3b2fbb58",
   "metadata": {},
   "outputs": [],
   "source": [
    "### change_raster_resolution (3): happy path - source raster deletion by default\n",
    "gdgtm.change_raster_res(target_res = 500,\n",
    "                        source_raster = '/home/pete/Documents/tests_and_vals/gdgtm/02_ master_reprojected/chelsa_pr_reprojected.tif',\n",
    "                        dst_raster = '/home/pete/Documents/tests_and_vals/gdgtm/03_ master_rescaled/chelsa_pr_rescaled.tif',\n",
    "                       )\n",
    "\n",
    "print(\"Source file retained: \" + Path('home/pete/Documents/tests_and_vals/gdgtm/02_ master_reprojected/chelsa_pr_reprojected.tif'))\n",
    "## Expected outcome: Match confirmation (\"Resolution change successful: new pixel size matches target\"), file not retained"
   ]
  },
  {
   "cell_type": "markdown",
   "id": "b1af95d2",
   "metadata": {},
   "source": [
    "#### Test outcome"
   ]
  },
  {
   "cell_type": "markdown",
   "id": "122e4250",
   "metadata": {},
   "source": [
    "### set_raster_boundbox"
   ]
  },
  {
   "cell_type": "code",
   "execution_count": null,
   "id": "7a9c6733",
   "metadata": {},
   "outputs": [],
   "source": [
    "### set_raster_boundbox (1): failure - provide invalid bounding box\n",
    "\n",
    "new_bb = [575000, 5235000, 565000, -5255000]\n",
    "gdgtm.set_raster_boundbox(target_bb = new_bb,\n",
    "                          source_raster = '/home/pete/Documents/tests_and_vals/gdgtm/03_ master_rescaled/chelsa_pr_rescaled.tif',\n",
    "                          dst_raster = '/home/pete/Documents/tests_and_vals/gdgtm/04_ master_rebound/chelsa_pr_rebound.tif',\n",
    "                          delete_source = True\n",
    "                         )\n",
    "\n",
    "print(\"Source file retained: \" + Path('/home/pete/Documents/tests_and_vals/gdgtm/03_ master_rescaled/chelsa_pr_rescaled.tif'))\n",
    "## Expected outcome: Error message, file retained"
   ]
  },
  {
   "cell_type": "markdown",
   "id": "5a4459f9",
   "metadata": {},
   "source": [
    "#### Test outcome"
   ]
  },
  {
   "cell_type": "code",
   "execution_count": null,
   "id": "fb83110c",
   "metadata": {},
   "outputs": [],
   "source": [
    "### set_raster_boundbox (2): happy path, retain source raster\n",
    "\n",
    "new_bb = [555000, 5235000, 565000, 5255000]\n",
    "gdgtm.set_raster_boundbox(target_bb = new_bb,\n",
    "                          source_raster = '/home/pete/Documents/tests_and_vals/gdgtm/03_ master_rescaled/chelsa_pr_rescaled.tif',\n",
    "                          dst_raster = '/home/pete/Documents/tests_and_vals/gdgtm/04_ master_rebound/chelsa_pr_rebound.tif',\n",
    "                          delete_source = False\n",
    "                         )\n",
    "\n",
    "print(\"Source file retained: \" + Path('/home/pete/Documents/tests_and_vals/gdgtm/03_ master_rescaled/chelsa_pr_rescaled.tif'))\n",
    "## Expected outcome: Outcome message (\"Setting new bounding box not successful: errors relative to target > 0.01\"), source file retained"
   ]
  },
  {
   "cell_type": "markdown",
   "id": "bb88f04a",
   "metadata": {},
   "source": [
    "#### Test outcome"
   ]
  },
  {
   "cell_type": "code",
   "execution_count": null,
   "id": "529a965b",
   "metadata": {},
   "outputs": [],
   "source": [
    "### set_raster_boundbox (3): happy path, source raster deleted by default\n",
    "\n",
    "new_bb = [555000, 5235000, 565000, 5255000]\n",
    "gdgtm.set_raster_boundbox(target_bb = new_bb,\n",
    "                          source_raster = '/home/pete/Documents/tests_and_vals/gdgtm/03_ master_rescaled/chelsa_pr_rescaled.tif',\n",
    "                          dst_raster = '/home/pete/Documents/tests_and_vals/gdgtm/04_ master_rebound/chelsa_pr_rebound.tif',\n",
    "                         )\n",
    "\n",
    "print(\"Source file retained: \" + Path('/home/pete/Documents/tests_and_vals/gdgtm/03_ master_rescaled/chelsa_pr_rescaled.tif'))\n",
    "## Expected outcome: Outcome message (\"Setting new bounding box not successful: errors relative to target > 0.01\"), source file not retained"
   ]
  },
  {
   "cell_type": "markdown",
   "id": "08cbc594",
   "metadata": {},
   "source": [
    "#### Test outcome"
   ]
  },
  {
   "cell_type": "markdown",
   "id": "840ff91d",
   "metadata": {},
   "source": [
    "## Section 3: Mosaics and Raster combinations"
   ]
  },
  {
   "cell_type": "markdown",
   "id": "55c7ff3e",
   "metadata": {},
   "source": [
    "## Section 4: Standardization to Master"
   ]
  },
  {
   "cell_type": "markdown",
   "id": "3a9b89d7",
   "metadata": {},
   "source": [
    "## Section 5: Raster correspondence validation"
   ]
  },
  {
   "cell_type": "markdown",
   "id": "10498018",
   "metadata": {},
   "source": [
    "## Section 6: E2E from .json"
   ]
  }
 ],
 "metadata": {
  "kernelspec": {
   "display_name": "Python 3 (ipykernel)",
   "language": "python",
   "name": "python3"
  },
  "language_info": {
   "codemirror_mode": {
    "name": "ipython",
    "version": 3
   },
   "file_extension": ".py",
   "mimetype": "text/x-python",
   "name": "python",
   "nbconvert_exporter": "python",
   "pygments_lexer": "ipython3",
   "version": "3.10.12"
  }
 },
 "nbformat": 4,
 "nbformat_minor": 5
}
