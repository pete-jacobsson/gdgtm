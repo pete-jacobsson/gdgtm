{
 "cells": [
  {
   "cell_type": "markdown",
   "id": "ed1347d6",
   "metadata": {},
   "source": [
    "# gdgtm regression test\n",
    "\n",
    "The goal of this test is to evaluate whether the pipeline built to feed standardized rasters for downstream ML actions (overall goal of the gdgtm package) is working as intended. The test script is structured as follows:\n",
    "\n",
    "- Section 1: Test the flow of the relevant \"get\" functions\n",
    "- Section 2: Test the core pipeline for creating the \"master\" raster\n",
    "- Section 3: Test the mosaics and raster combination components\n",
    "- Section 4: Test the \"standardization\" line\n",
    "- Section 5: Test the \"validation\" line\n",
    "- Section 6: Test the overall pipeline implementation"
   ]
  },
  {
   "cell_type": "markdown",
   "id": "b265b016",
   "metadata": {},
   "source": [
    "## Section 1: \"get\" function tests\n",
    "- Target folder: \"/home/pete/Documents/tests_and_vals/gdgtm/get_functions/\""
   ]
  },
  {
   "cell_type": "code",
   "execution_count": null,
   "id": "224be44d",
   "metadata": {},
   "outputs": [],
   "source": [
    "###get_chelsa_data"
   ]
  },
  {
   "cell_type": "code",
   "execution_count": null,
   "id": "2719081f",
   "metadata": {},
   "outputs": [],
   "source": [
    "### get_chelsa_data (1): happy path, tas parameter\n",
    "\n",
    "parameter = \"tas\"\n",
    "extent = [7.3, 7.5, 47.0, 47.2]\n",
    "start_date = \"2023-1-1\"\n",
    "end_date = \"2023-2-2\"\n",
    "\n",
    "gdgtm.get_chelsa_data(parameter, extent, start_date, end_date, \n",
    "                      write_location = '/home/pete/Documents/tests_and_vals/gdgtm/get_functions/chelsa_tas_raw.tif')\n",
    "\n",
    "## Expected outcome: str: 'Target .tiff exists' and file meta\n"
   ]
  },
  {
   "cell_type": "markdown",
   "id": "05e08154",
   "metadata": {},
   "source": [
    "#### Test outcome"
   ]
  },
  {
   "cell_type": "code",
   "execution_count": null,
   "id": "cd393564",
   "metadata": {},
   "outputs": [],
   "source": [
    "### get_chelsa_data (2): happy path, pr parameter\n",
    "\n",
    "parameter = \"pr\"\n",
    "extent = [7.3, 7.5, 47.0, 47.2]\n",
    "start_date = \"2023-1-1\"\n",
    "end_date = \"2023-2-2\"\n",
    "\n",
    "gdgtm.get_chelsa_data(parameter, extent, start_date, end_date, \n",
    "                      write_location = '/home/pete/Documents/tests_and_vals/gdgtm/get_functions/chelsa_pr_raw.tif')\n",
    "\n",
    "## Expected outcome: str: 'Target .tiff exists' and file meta\n"
   ]
  },
  {
   "cell_type": "markdown",
   "id": "2de5aaff",
   "metadata": {},
   "source": [
    "#### Test outcome"
   ]
  },
  {
   "cell_type": "code",
   "execution_count": null,
   "id": "822d7b09",
   "metadata": {},
   "outputs": [],
   "source": [
    "### get_chelsa_data (3): error path, made up parameter\n",
    "\n",
    "parameter = \"obviously_wrong_param\"\n",
    "extent = [7.3, 7.5, 47.0, 47.2]\n",
    "start_date = \"2023-1-1\"\n",
    "end_date = \"2023-2-2\"\n",
    "\n",
    "gdgtm.get_chelsa_data(parameter, extent, start_date, end_date, \n",
    "                      write_location = '/home/pete/Documents/tests_and_vals/gdgtm/get_functions/chelsa_pr_raw.tif')\n",
    "\n",
    "## Expected outcome: Error message\n"
   ]
  },
  {
   "cell_type": "markdown",
   "id": "58ad2c23",
   "metadata": {},
   "source": [
    "#### Test outcome"
   ]
  },
  {
   "cell_type": "markdown",
   "id": "256eeaa4",
   "metadata": {},
   "source": [
    "### get_cognames_from_stac_coll_static"
   ]
  },
  {
   "cell_type": "code",
   "execution_count": null,
   "id": "ca924869",
   "metadata": {},
   "outputs": [],
   "source": [
    "### get_cognames_from_stac_coll_static (1): correct url for an OLM collection value\n",
    "\n",
    "test = get_cognames_from_stac_coll_static(\"https://s3.eu-central-1.wasabisys.com/stac/openlandmap/wilderness_li2022.human.footprint/collection.json\")\n",
    "\n",
    "print(test[0])\n",
    "\n",
    "## Expected outcome: url to a geotiff"
   ]
  },
  {
   "cell_type": "markdown",
   "id": "e7ff7fe2",
   "metadata": {},
   "source": [
    "#### Test outcome"
   ]
  },
  {
   "cell_type": "code",
   "execution_count": null,
   "id": "a0e40144",
   "metadata": {},
   "outputs": [],
   "source": [
    "### get_cognames_from_stac_coll_static (2): correct url for a Capella collection value\n",
    "\n",
    "test = get_cognames_from_stac_coll_static(\"https://capella-open-data.s3.us-west-2.amazonaws.com/stac/capella-open-data-by-instrument-mode/capella-open-data-stripmap/collection.json\")\n",
    "\n",
    "print(test[0])\n",
    "\n",
    "## Expected outcome: url to a geotiff"
   ]
  },
  {
   "cell_type": "markdown",
   "id": "8e421be9",
   "metadata": {},
   "source": [
    "#### Test outcome"
   ]
  },
  {
   "cell_type": "code",
   "execution_count": null,
   "id": "1c2483e5",
   "metadata": {},
   "outputs": [],
   "source": []
  }
 ],
 "metadata": {
  "kernelspec": {
   "display_name": "Python 3 (ipykernel)",
   "language": "python",
   "name": "python3"
  },
  "language_info": {
   "codemirror_mode": {
    "name": "ipython",
    "version": 3
   },
   "file_extension": ".py",
   "mimetype": "text/x-python",
   "name": "python",
   "nbconvert_exporter": "python",
   "pygments_lexer": "ipython3",
   "version": "3.10.12"
  }
 },
 "nbformat": 4,
 "nbformat_minor": 5
}
